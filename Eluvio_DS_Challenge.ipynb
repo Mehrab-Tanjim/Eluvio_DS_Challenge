{
  "nbformat": 4,
  "nbformat_minor": 0,
  "metadata": {
    "colab": {
      "name": "Eluvio_DS_Challenge.ipynb",
      "provenance": [],
      "collapsed_sections": [],
      "authorship_tag": "ABX9TyN+SzvhDovnOGnm8J2uixjO",
      "include_colab_link": true
    },
    "kernelspec": {
      "name": "python3",
      "display_name": "Python 3"
    },
    "language_info": {
      "name": "python"
    },
    "widgets": {
      "application/vnd.jupyter.widget-state+json": {
        "500545512bec4f548c3bc834614af714": {
          "model_module": "@jupyter-widgets/controls",
          "model_name": "HBoxModel",
          "state": {
            "_view_name": "HBoxView",
            "_dom_classes": [],
            "_model_name": "HBoxModel",
            "_view_module": "@jupyter-widgets/controls",
            "_model_module_version": "1.5.0",
            "_view_count": null,
            "_view_module_version": "1.5.0",
            "box_style": "",
            "layout": "IPY_MODEL_99eaafbe1f0d4c20a9669dce6566ef6d",
            "_model_module": "@jupyter-widgets/controls",
            "children": [
              "IPY_MODEL_53518364e8ff47d6ae71e581291a3870",
              "IPY_MODEL_c1a10425132b4f14a275c0f560641296"
            ]
          }
        },
        "99eaafbe1f0d4c20a9669dce6566ef6d": {
          "model_module": "@jupyter-widgets/base",
          "model_name": "LayoutModel",
          "state": {
            "_view_name": "LayoutView",
            "grid_template_rows": null,
            "right": null,
            "justify_content": null,
            "_view_module": "@jupyter-widgets/base",
            "overflow": null,
            "_model_module_version": "1.2.0",
            "_view_count": null,
            "flex_flow": null,
            "width": null,
            "min_width": null,
            "border": null,
            "align_items": null,
            "bottom": null,
            "_model_module": "@jupyter-widgets/base",
            "top": null,
            "grid_column": null,
            "overflow_y": null,
            "overflow_x": null,
            "grid_auto_flow": null,
            "grid_area": null,
            "grid_template_columns": null,
            "flex": null,
            "_model_name": "LayoutModel",
            "justify_items": null,
            "grid_row": null,
            "max_height": null,
            "align_content": null,
            "visibility": null,
            "align_self": null,
            "height": null,
            "min_height": null,
            "padding": null,
            "grid_auto_rows": null,
            "grid_gap": null,
            "max_width": null,
            "order": null,
            "_view_module_version": "1.2.0",
            "grid_template_areas": null,
            "object_position": null,
            "object_fit": null,
            "grid_auto_columns": null,
            "margin": null,
            "display": null,
            "left": null
          }
        },
        "53518364e8ff47d6ae71e581291a3870": {
          "model_module": "@jupyter-widgets/controls",
          "model_name": "FloatProgressModel",
          "state": {
            "_view_name": "ProgressView",
            "style": "IPY_MODEL_13965830b4634d35a4eb34a56086d3a1",
            "_dom_classes": [],
            "description": "100%",
            "_model_name": "FloatProgressModel",
            "bar_style": "success",
            "max": 10,
            "_view_module": "@jupyter-widgets/controls",
            "_model_module_version": "1.5.0",
            "value": 10,
            "_view_count": null,
            "_view_module_version": "1.5.0",
            "orientation": "horizontal",
            "min": 0,
            "description_tooltip": null,
            "_model_module": "@jupyter-widgets/controls",
            "layout": "IPY_MODEL_ed49195dffca47aab4881d2471aa22bf"
          }
        },
        "c1a10425132b4f14a275c0f560641296": {
          "model_module": "@jupyter-widgets/controls",
          "model_name": "HTMLModel",
          "state": {
            "_view_name": "HTMLView",
            "style": "IPY_MODEL_e613834708b24525bad88ff2d288d427",
            "_dom_classes": [],
            "description": "",
            "_model_name": "HTMLModel",
            "placeholder": "​",
            "_view_module": "@jupyter-widgets/controls",
            "_model_module_version": "1.5.0",
            "value": " 10/10 [00:00&lt;00:00, 29.69it/s]",
            "_view_count": null,
            "_view_module_version": "1.5.0",
            "description_tooltip": null,
            "_model_module": "@jupyter-widgets/controls",
            "layout": "IPY_MODEL_5c2d93e4e6bc48acb5506c8ef3e27782"
          }
        },
        "13965830b4634d35a4eb34a56086d3a1": {
          "model_module": "@jupyter-widgets/controls",
          "model_name": "ProgressStyleModel",
          "state": {
            "_view_name": "StyleView",
            "_model_name": "ProgressStyleModel",
            "description_width": "initial",
            "_view_module": "@jupyter-widgets/base",
            "_model_module_version": "1.5.0",
            "_view_count": null,
            "_view_module_version": "1.2.0",
            "bar_color": null,
            "_model_module": "@jupyter-widgets/controls"
          }
        },
        "ed49195dffca47aab4881d2471aa22bf": {
          "model_module": "@jupyter-widgets/base",
          "model_name": "LayoutModel",
          "state": {
            "_view_name": "LayoutView",
            "grid_template_rows": null,
            "right": null,
            "justify_content": null,
            "_view_module": "@jupyter-widgets/base",
            "overflow": null,
            "_model_module_version": "1.2.0",
            "_view_count": null,
            "flex_flow": null,
            "width": null,
            "min_width": null,
            "border": null,
            "align_items": null,
            "bottom": null,
            "_model_module": "@jupyter-widgets/base",
            "top": null,
            "grid_column": null,
            "overflow_y": null,
            "overflow_x": null,
            "grid_auto_flow": null,
            "grid_area": null,
            "grid_template_columns": null,
            "flex": null,
            "_model_name": "LayoutModel",
            "justify_items": null,
            "grid_row": null,
            "max_height": null,
            "align_content": null,
            "visibility": null,
            "align_self": null,
            "height": null,
            "min_height": null,
            "padding": null,
            "grid_auto_rows": null,
            "grid_gap": null,
            "max_width": null,
            "order": null,
            "_view_module_version": "1.2.0",
            "grid_template_areas": null,
            "object_position": null,
            "object_fit": null,
            "grid_auto_columns": null,
            "margin": null,
            "display": null,
            "left": null
          }
        },
        "e613834708b24525bad88ff2d288d427": {
          "model_module": "@jupyter-widgets/controls",
          "model_name": "DescriptionStyleModel",
          "state": {
            "_view_name": "StyleView",
            "_model_name": "DescriptionStyleModel",
            "description_width": "",
            "_view_module": "@jupyter-widgets/base",
            "_model_module_version": "1.5.0",
            "_view_count": null,
            "_view_module_version": "1.2.0",
            "_model_module": "@jupyter-widgets/controls"
          }
        },
        "5c2d93e4e6bc48acb5506c8ef3e27782": {
          "model_module": "@jupyter-widgets/base",
          "model_name": "LayoutModel",
          "state": {
            "_view_name": "LayoutView",
            "grid_template_rows": null,
            "right": null,
            "justify_content": null,
            "_view_module": "@jupyter-widgets/base",
            "overflow": null,
            "_model_module_version": "1.2.0",
            "_view_count": null,
            "flex_flow": null,
            "width": null,
            "min_width": null,
            "border": null,
            "align_items": null,
            "bottom": null,
            "_model_module": "@jupyter-widgets/base",
            "top": null,
            "grid_column": null,
            "overflow_y": null,
            "overflow_x": null,
            "grid_auto_flow": null,
            "grid_area": null,
            "grid_template_columns": null,
            "flex": null,
            "_model_name": "LayoutModel",
            "justify_items": null,
            "grid_row": null,
            "max_height": null,
            "align_content": null,
            "visibility": null,
            "align_self": null,
            "height": null,
            "min_height": null,
            "padding": null,
            "grid_auto_rows": null,
            "grid_gap": null,
            "max_width": null,
            "order": null,
            "_view_module_version": "1.2.0",
            "grid_template_areas": null,
            "object_position": null,
            "object_fit": null,
            "grid_auto_columns": null,
            "margin": null,
            "display": null,
            "left": null
          }
        },
        "ab2a265c30dd49778f53236ca9b39491": {
          "model_module": "@jupyter-widgets/controls",
          "model_name": "HBoxModel",
          "state": {
            "_view_name": "HBoxView",
            "_dom_classes": [],
            "_model_name": "HBoxModel",
            "_view_module": "@jupyter-widgets/controls",
            "_model_module_version": "1.5.0",
            "_view_count": null,
            "_view_module_version": "1.5.0",
            "box_style": "",
            "layout": "IPY_MODEL_36b4ec5b043d40f28f5f034df8c8b5ec",
            "_model_module": "@jupyter-widgets/controls",
            "children": [
              "IPY_MODEL_f8cf78807c8e479c83b04027b598eace",
              "IPY_MODEL_1834d119c54b42d9a7529b1c23c1f0b8"
            ]
          }
        },
        "36b4ec5b043d40f28f5f034df8c8b5ec": {
          "model_module": "@jupyter-widgets/base",
          "model_name": "LayoutModel",
          "state": {
            "_view_name": "LayoutView",
            "grid_template_rows": null,
            "right": null,
            "justify_content": null,
            "_view_module": "@jupyter-widgets/base",
            "overflow": null,
            "_model_module_version": "1.2.0",
            "_view_count": null,
            "flex_flow": null,
            "width": null,
            "min_width": null,
            "border": null,
            "align_items": null,
            "bottom": null,
            "_model_module": "@jupyter-widgets/base",
            "top": null,
            "grid_column": null,
            "overflow_y": null,
            "overflow_x": null,
            "grid_auto_flow": null,
            "grid_area": null,
            "grid_template_columns": null,
            "flex": null,
            "_model_name": "LayoutModel",
            "justify_items": null,
            "grid_row": null,
            "max_height": null,
            "align_content": null,
            "visibility": null,
            "align_self": null,
            "height": null,
            "min_height": null,
            "padding": null,
            "grid_auto_rows": null,
            "grid_gap": null,
            "max_width": null,
            "order": null,
            "_view_module_version": "1.2.0",
            "grid_template_areas": null,
            "object_position": null,
            "object_fit": null,
            "grid_auto_columns": null,
            "margin": null,
            "display": null,
            "left": null
          }
        },
        "f8cf78807c8e479c83b04027b598eace": {
          "model_module": "@jupyter-widgets/controls",
          "model_name": "FloatProgressModel",
          "state": {
            "_view_name": "ProgressView",
            "style": "IPY_MODEL_5f11e0e7d2c24ce4adb84a49ed0d71c7",
            "_dom_classes": [],
            "description": "100%",
            "_model_name": "FloatProgressModel",
            "bar_style": "success",
            "max": 10,
            "_view_module": "@jupyter-widgets/controls",
            "_model_module_version": "1.5.0",
            "value": 10,
            "_view_count": null,
            "_view_module_version": "1.5.0",
            "orientation": "horizontal",
            "min": 0,
            "description_tooltip": null,
            "_model_module": "@jupyter-widgets/controls",
            "layout": "IPY_MODEL_bc1fddc9989d45338b18265ff8532787"
          }
        },
        "1834d119c54b42d9a7529b1c23c1f0b8": {
          "model_module": "@jupyter-widgets/controls",
          "model_name": "HTMLModel",
          "state": {
            "_view_name": "HTMLView",
            "style": "IPY_MODEL_f776634896ab44b9bf5a2b4c4aaf61c8",
            "_dom_classes": [],
            "description": "",
            "_model_name": "HTMLModel",
            "placeholder": "​",
            "_view_module": "@jupyter-widgets/controls",
            "_model_module_version": "1.5.0",
            "value": " 10/10 [00:00&lt;00:00, 13.09it/s]",
            "_view_count": null,
            "_view_module_version": "1.5.0",
            "description_tooltip": null,
            "_model_module": "@jupyter-widgets/controls",
            "layout": "IPY_MODEL_39cc190501444af3957325c7fb6203e4"
          }
        },
        "5f11e0e7d2c24ce4adb84a49ed0d71c7": {
          "model_module": "@jupyter-widgets/controls",
          "model_name": "ProgressStyleModel",
          "state": {
            "_view_name": "StyleView",
            "_model_name": "ProgressStyleModel",
            "description_width": "initial",
            "_view_module": "@jupyter-widgets/base",
            "_model_module_version": "1.5.0",
            "_view_count": null,
            "_view_module_version": "1.2.0",
            "bar_color": null,
            "_model_module": "@jupyter-widgets/controls"
          }
        },
        "bc1fddc9989d45338b18265ff8532787": {
          "model_module": "@jupyter-widgets/base",
          "model_name": "LayoutModel",
          "state": {
            "_view_name": "LayoutView",
            "grid_template_rows": null,
            "right": null,
            "justify_content": null,
            "_view_module": "@jupyter-widgets/base",
            "overflow": null,
            "_model_module_version": "1.2.0",
            "_view_count": null,
            "flex_flow": null,
            "width": null,
            "min_width": null,
            "border": null,
            "align_items": null,
            "bottom": null,
            "_model_module": "@jupyter-widgets/base",
            "top": null,
            "grid_column": null,
            "overflow_y": null,
            "overflow_x": null,
            "grid_auto_flow": null,
            "grid_area": null,
            "grid_template_columns": null,
            "flex": null,
            "_model_name": "LayoutModel",
            "justify_items": null,
            "grid_row": null,
            "max_height": null,
            "align_content": null,
            "visibility": null,
            "align_self": null,
            "height": null,
            "min_height": null,
            "padding": null,
            "grid_auto_rows": null,
            "grid_gap": null,
            "max_width": null,
            "order": null,
            "_view_module_version": "1.2.0",
            "grid_template_areas": null,
            "object_position": null,
            "object_fit": null,
            "grid_auto_columns": null,
            "margin": null,
            "display": null,
            "left": null
          }
        },
        "f776634896ab44b9bf5a2b4c4aaf61c8": {
          "model_module": "@jupyter-widgets/controls",
          "model_name": "DescriptionStyleModel",
          "state": {
            "_view_name": "StyleView",
            "_model_name": "DescriptionStyleModel",
            "description_width": "",
            "_view_module": "@jupyter-widgets/base",
            "_model_module_version": "1.5.0",
            "_view_count": null,
            "_view_module_version": "1.2.0",
            "_model_module": "@jupyter-widgets/controls"
          }
        },
        "39cc190501444af3957325c7fb6203e4": {
          "model_module": "@jupyter-widgets/base",
          "model_name": "LayoutModel",
          "state": {
            "_view_name": "LayoutView",
            "grid_template_rows": null,
            "right": null,
            "justify_content": null,
            "_view_module": "@jupyter-widgets/base",
            "overflow": null,
            "_model_module_version": "1.2.0",
            "_view_count": null,
            "flex_flow": null,
            "width": null,
            "min_width": null,
            "border": null,
            "align_items": null,
            "bottom": null,
            "_model_module": "@jupyter-widgets/base",
            "top": null,
            "grid_column": null,
            "overflow_y": null,
            "overflow_x": null,
            "grid_auto_flow": null,
            "grid_area": null,
            "grid_template_columns": null,
            "flex": null,
            "_model_name": "LayoutModel",
            "justify_items": null,
            "grid_row": null,
            "max_height": null,
            "align_content": null,
            "visibility": null,
            "align_self": null,
            "height": null,
            "min_height": null,
            "padding": null,
            "grid_auto_rows": null,
            "grid_gap": null,
            "max_width": null,
            "order": null,
            "_view_module_version": "1.2.0",
            "grid_template_areas": null,
            "object_position": null,
            "object_fit": null,
            "grid_auto_columns": null,
            "margin": null,
            "display": null,
            "left": null
          }
        },
        "614dae0f4f9d470fa86b731daa9acf29": {
          "model_module": "@jupyter-widgets/controls",
          "model_name": "HBoxModel",
          "state": {
            "_view_name": "HBoxView",
            "_dom_classes": [],
            "_model_name": "HBoxModel",
            "_view_module": "@jupyter-widgets/controls",
            "_model_module_version": "1.5.0",
            "_view_count": null,
            "_view_module_version": "1.5.0",
            "box_style": "",
            "layout": "IPY_MODEL_18e181129a574618a7986ec2482323ec",
            "_model_module": "@jupyter-widgets/controls",
            "children": [
              "IPY_MODEL_e0965c1625024767a2164afaadf64f40",
              "IPY_MODEL_977312a0f45a462eb7fab0085913407e"
            ]
          }
        },
        "18e181129a574618a7986ec2482323ec": {
          "model_module": "@jupyter-widgets/base",
          "model_name": "LayoutModel",
          "state": {
            "_view_name": "LayoutView",
            "grid_template_rows": null,
            "right": null,
            "justify_content": null,
            "_view_module": "@jupyter-widgets/base",
            "overflow": null,
            "_model_module_version": "1.2.0",
            "_view_count": null,
            "flex_flow": null,
            "width": null,
            "min_width": null,
            "border": null,
            "align_items": null,
            "bottom": null,
            "_model_module": "@jupyter-widgets/base",
            "top": null,
            "grid_column": null,
            "overflow_y": null,
            "overflow_x": null,
            "grid_auto_flow": null,
            "grid_area": null,
            "grid_template_columns": null,
            "flex": null,
            "_model_name": "LayoutModel",
            "justify_items": null,
            "grid_row": null,
            "max_height": null,
            "align_content": null,
            "visibility": null,
            "align_self": null,
            "height": null,
            "min_height": null,
            "padding": null,
            "grid_auto_rows": null,
            "grid_gap": null,
            "max_width": null,
            "order": null,
            "_view_module_version": "1.2.0",
            "grid_template_areas": null,
            "object_position": null,
            "object_fit": null,
            "grid_auto_columns": null,
            "margin": null,
            "display": null,
            "left": null
          }
        },
        "e0965c1625024767a2164afaadf64f40": {
          "model_module": "@jupyter-widgets/controls",
          "model_name": "FloatProgressModel",
          "state": {
            "_view_name": "ProgressView",
            "style": "IPY_MODEL_e433310ee72c4e3abe987793e8b65366",
            "_dom_classes": [],
            "description": "100%",
            "_model_name": "FloatProgressModel",
            "bar_style": "success",
            "max": 10,
            "_view_module": "@jupyter-widgets/controls",
            "_model_module_version": "1.5.0",
            "value": 10,
            "_view_count": null,
            "_view_module_version": "1.5.0",
            "orientation": "horizontal",
            "min": 0,
            "description_tooltip": null,
            "_model_module": "@jupyter-widgets/controls",
            "layout": "IPY_MODEL_f89c0d407e1a4c128fe15fe54adbbe93"
          }
        },
        "977312a0f45a462eb7fab0085913407e": {
          "model_module": "@jupyter-widgets/controls",
          "model_name": "HTMLModel",
          "state": {
            "_view_name": "HTMLView",
            "style": "IPY_MODEL_da7f18fd0d294bf3bdd360a02e25d0ab",
            "_dom_classes": [],
            "description": "",
            "_model_name": "HTMLModel",
            "placeholder": "​",
            "_view_module": "@jupyter-widgets/controls",
            "_model_module_version": "1.5.0",
            "value": " 10/10 [00:03&lt;00:00,  2.94it/s]",
            "_view_count": null,
            "_view_module_version": "1.5.0",
            "description_tooltip": null,
            "_model_module": "@jupyter-widgets/controls",
            "layout": "IPY_MODEL_679cea5a91a44cfa97660aac2be83972"
          }
        },
        "e433310ee72c4e3abe987793e8b65366": {
          "model_module": "@jupyter-widgets/controls",
          "model_name": "ProgressStyleModel",
          "state": {
            "_view_name": "StyleView",
            "_model_name": "ProgressStyleModel",
            "description_width": "initial",
            "_view_module": "@jupyter-widgets/base",
            "_model_module_version": "1.5.0",
            "_view_count": null,
            "_view_module_version": "1.2.0",
            "bar_color": null,
            "_model_module": "@jupyter-widgets/controls"
          }
        },
        "f89c0d407e1a4c128fe15fe54adbbe93": {
          "model_module": "@jupyter-widgets/base",
          "model_name": "LayoutModel",
          "state": {
            "_view_name": "LayoutView",
            "grid_template_rows": null,
            "right": null,
            "justify_content": null,
            "_view_module": "@jupyter-widgets/base",
            "overflow": null,
            "_model_module_version": "1.2.0",
            "_view_count": null,
            "flex_flow": null,
            "width": null,
            "min_width": null,
            "border": null,
            "align_items": null,
            "bottom": null,
            "_model_module": "@jupyter-widgets/base",
            "top": null,
            "grid_column": null,
            "overflow_y": null,
            "overflow_x": null,
            "grid_auto_flow": null,
            "grid_area": null,
            "grid_template_columns": null,
            "flex": null,
            "_model_name": "LayoutModel",
            "justify_items": null,
            "grid_row": null,
            "max_height": null,
            "align_content": null,
            "visibility": null,
            "align_self": null,
            "height": null,
            "min_height": null,
            "padding": null,
            "grid_auto_rows": null,
            "grid_gap": null,
            "max_width": null,
            "order": null,
            "_view_module_version": "1.2.0",
            "grid_template_areas": null,
            "object_position": null,
            "object_fit": null,
            "grid_auto_columns": null,
            "margin": null,
            "display": null,
            "left": null
          }
        },
        "da7f18fd0d294bf3bdd360a02e25d0ab": {
          "model_module": "@jupyter-widgets/controls",
          "model_name": "DescriptionStyleModel",
          "state": {
            "_view_name": "StyleView",
            "_model_name": "DescriptionStyleModel",
            "description_width": "",
            "_view_module": "@jupyter-widgets/base",
            "_model_module_version": "1.5.0",
            "_view_count": null,
            "_view_module_version": "1.2.0",
            "_model_module": "@jupyter-widgets/controls"
          }
        },
        "679cea5a91a44cfa97660aac2be83972": {
          "model_module": "@jupyter-widgets/base",
          "model_name": "LayoutModel",
          "state": {
            "_view_name": "LayoutView",
            "grid_template_rows": null,
            "right": null,
            "justify_content": null,
            "_view_module": "@jupyter-widgets/base",
            "overflow": null,
            "_model_module_version": "1.2.0",
            "_view_count": null,
            "flex_flow": null,
            "width": null,
            "min_width": null,
            "border": null,
            "align_items": null,
            "bottom": null,
            "_model_module": "@jupyter-widgets/base",
            "top": null,
            "grid_column": null,
            "overflow_y": null,
            "overflow_x": null,
            "grid_auto_flow": null,
            "grid_area": null,
            "grid_template_columns": null,
            "flex": null,
            "_model_name": "LayoutModel",
            "justify_items": null,
            "grid_row": null,
            "max_height": null,
            "align_content": null,
            "visibility": null,
            "align_self": null,
            "height": null,
            "min_height": null,
            "padding": null,
            "grid_auto_rows": null,
            "grid_gap": null,
            "max_width": null,
            "order": null,
            "_view_module_version": "1.2.0",
            "grid_template_areas": null,
            "object_position": null,
            "object_fit": null,
            "grid_auto_columns": null,
            "margin": null,
            "display": null,
            "left": null
          }
        },
        "f166a3f836824d61994dd59176b1431d": {
          "model_module": "@jupyter-widgets/controls",
          "model_name": "HBoxModel",
          "state": {
            "_view_name": "HBoxView",
            "_dom_classes": [],
            "_model_name": "HBoxModel",
            "_view_module": "@jupyter-widgets/controls",
            "_model_module_version": "1.5.0",
            "_view_count": null,
            "_view_module_version": "1.5.0",
            "box_style": "",
            "layout": "IPY_MODEL_68d2af52b494432db4c85348c1c57adf",
            "_model_module": "@jupyter-widgets/controls",
            "children": [
              "IPY_MODEL_37e843102c594b31884be95b90694da1",
              "IPY_MODEL_08254927eaf04f0aa6e8ee102f3bd67c"
            ]
          }
        },
        "68d2af52b494432db4c85348c1c57adf": {
          "model_module": "@jupyter-widgets/base",
          "model_name": "LayoutModel",
          "state": {
            "_view_name": "LayoutView",
            "grid_template_rows": null,
            "right": null,
            "justify_content": null,
            "_view_module": "@jupyter-widgets/base",
            "overflow": null,
            "_model_module_version": "1.2.0",
            "_view_count": null,
            "flex_flow": null,
            "width": null,
            "min_width": null,
            "border": null,
            "align_items": null,
            "bottom": null,
            "_model_module": "@jupyter-widgets/base",
            "top": null,
            "grid_column": null,
            "overflow_y": null,
            "overflow_x": null,
            "grid_auto_flow": null,
            "grid_area": null,
            "grid_template_columns": null,
            "flex": null,
            "_model_name": "LayoutModel",
            "justify_items": null,
            "grid_row": null,
            "max_height": null,
            "align_content": null,
            "visibility": null,
            "align_self": null,
            "height": null,
            "min_height": null,
            "padding": null,
            "grid_auto_rows": null,
            "grid_gap": null,
            "max_width": null,
            "order": null,
            "_view_module_version": "1.2.0",
            "grid_template_areas": null,
            "object_position": null,
            "object_fit": null,
            "grid_auto_columns": null,
            "margin": null,
            "display": null,
            "left": null
          }
        },
        "37e843102c594b31884be95b90694da1": {
          "model_module": "@jupyter-widgets/controls",
          "model_name": "FloatProgressModel",
          "state": {
            "_view_name": "ProgressView",
            "style": "IPY_MODEL_a5c66bee3e68454b993509b1caf8a382",
            "_dom_classes": [],
            "description": "100%",
            "_model_name": "FloatProgressModel",
            "bar_style": "success",
            "max": 10,
            "_view_module": "@jupyter-widgets/controls",
            "_model_module_version": "1.5.0",
            "value": 10,
            "_view_count": null,
            "_view_module_version": "1.5.0",
            "orientation": "horizontal",
            "min": 0,
            "description_tooltip": null,
            "_model_module": "@jupyter-widgets/controls",
            "layout": "IPY_MODEL_774ea9d8ad7a4fb9a29f37af9cee8408"
          }
        },
        "08254927eaf04f0aa6e8ee102f3bd67c": {
          "model_module": "@jupyter-widgets/controls",
          "model_name": "HTMLModel",
          "state": {
            "_view_name": "HTMLView",
            "style": "IPY_MODEL_17d9fb4dcd2c41b9a2d6a810cdfd1bcf",
            "_dom_classes": [],
            "description": "",
            "_model_name": "HTMLModel",
            "placeholder": "​",
            "_view_module": "@jupyter-widgets/controls",
            "_model_module_version": "1.5.0",
            "value": " 10/10 [00:01&lt;00:00,  7.64it/s]",
            "_view_count": null,
            "_view_module_version": "1.5.0",
            "description_tooltip": null,
            "_model_module": "@jupyter-widgets/controls",
            "layout": "IPY_MODEL_e427822e1ee04decb2affb028f72760e"
          }
        },
        "a5c66bee3e68454b993509b1caf8a382": {
          "model_module": "@jupyter-widgets/controls",
          "model_name": "ProgressStyleModel",
          "state": {
            "_view_name": "StyleView",
            "_model_name": "ProgressStyleModel",
            "description_width": "initial",
            "_view_module": "@jupyter-widgets/base",
            "_model_module_version": "1.5.0",
            "_view_count": null,
            "_view_module_version": "1.2.0",
            "bar_color": null,
            "_model_module": "@jupyter-widgets/controls"
          }
        },
        "774ea9d8ad7a4fb9a29f37af9cee8408": {
          "model_module": "@jupyter-widgets/base",
          "model_name": "LayoutModel",
          "state": {
            "_view_name": "LayoutView",
            "grid_template_rows": null,
            "right": null,
            "justify_content": null,
            "_view_module": "@jupyter-widgets/base",
            "overflow": null,
            "_model_module_version": "1.2.0",
            "_view_count": null,
            "flex_flow": null,
            "width": null,
            "min_width": null,
            "border": null,
            "align_items": null,
            "bottom": null,
            "_model_module": "@jupyter-widgets/base",
            "top": null,
            "grid_column": null,
            "overflow_y": null,
            "overflow_x": null,
            "grid_auto_flow": null,
            "grid_area": null,
            "grid_template_columns": null,
            "flex": null,
            "_model_name": "LayoutModel",
            "justify_items": null,
            "grid_row": null,
            "max_height": null,
            "align_content": null,
            "visibility": null,
            "align_self": null,
            "height": null,
            "min_height": null,
            "padding": null,
            "grid_auto_rows": null,
            "grid_gap": null,
            "max_width": null,
            "order": null,
            "_view_module_version": "1.2.0",
            "grid_template_areas": null,
            "object_position": null,
            "object_fit": null,
            "grid_auto_columns": null,
            "margin": null,
            "display": null,
            "left": null
          }
        },
        "17d9fb4dcd2c41b9a2d6a810cdfd1bcf": {
          "model_module": "@jupyter-widgets/controls",
          "model_name": "DescriptionStyleModel",
          "state": {
            "_view_name": "StyleView",
            "_model_name": "DescriptionStyleModel",
            "description_width": "",
            "_view_module": "@jupyter-widgets/base",
            "_model_module_version": "1.5.0",
            "_view_count": null,
            "_view_module_version": "1.2.0",
            "_model_module": "@jupyter-widgets/controls"
          }
        },
        "e427822e1ee04decb2affb028f72760e": {
          "model_module": "@jupyter-widgets/base",
          "model_name": "LayoutModel",
          "state": {
            "_view_name": "LayoutView",
            "grid_template_rows": null,
            "right": null,
            "justify_content": null,
            "_view_module": "@jupyter-widgets/base",
            "overflow": null,
            "_model_module_version": "1.2.0",
            "_view_count": null,
            "flex_flow": null,
            "width": null,
            "min_width": null,
            "border": null,
            "align_items": null,
            "bottom": null,
            "_model_module": "@jupyter-widgets/base",
            "top": null,
            "grid_column": null,
            "overflow_y": null,
            "overflow_x": null,
            "grid_auto_flow": null,
            "grid_area": null,
            "grid_template_columns": null,
            "flex": null,
            "_model_name": "LayoutModel",
            "justify_items": null,
            "grid_row": null,
            "max_height": null,
            "align_content": null,
            "visibility": null,
            "align_self": null,
            "height": null,
            "min_height": null,
            "padding": null,
            "grid_auto_rows": null,
            "grid_gap": null,
            "max_width": null,
            "order": null,
            "_view_module_version": "1.2.0",
            "grid_template_areas": null,
            "object_position": null,
            "object_fit": null,
            "grid_auto_columns": null,
            "margin": null,
            "display": null,
            "left": null
          }
        },
        "4d68686affe040288bb683b05227483d": {
          "model_module": "@jupyter-widgets/controls",
          "model_name": "HBoxModel",
          "state": {
            "_view_name": "HBoxView",
            "_dom_classes": [],
            "_model_name": "HBoxModel",
            "_view_module": "@jupyter-widgets/controls",
            "_model_module_version": "1.5.0",
            "_view_count": null,
            "_view_module_version": "1.5.0",
            "box_style": "",
            "layout": "IPY_MODEL_aa26f85fa58f47d19ccef4d774efe837",
            "_model_module": "@jupyter-widgets/controls",
            "children": [
              "IPY_MODEL_8afdd5246ba948eb854f65afe7cc032f",
              "IPY_MODEL_5f99efdfcee341c5b7c5ba8352b9ee17"
            ]
          }
        },
        "aa26f85fa58f47d19ccef4d774efe837": {
          "model_module": "@jupyter-widgets/base",
          "model_name": "LayoutModel",
          "state": {
            "_view_name": "LayoutView",
            "grid_template_rows": null,
            "right": null,
            "justify_content": null,
            "_view_module": "@jupyter-widgets/base",
            "overflow": null,
            "_model_module_version": "1.2.0",
            "_view_count": null,
            "flex_flow": null,
            "width": null,
            "min_width": null,
            "border": null,
            "align_items": null,
            "bottom": null,
            "_model_module": "@jupyter-widgets/base",
            "top": null,
            "grid_column": null,
            "overflow_y": null,
            "overflow_x": null,
            "grid_auto_flow": null,
            "grid_area": null,
            "grid_template_columns": null,
            "flex": null,
            "_model_name": "LayoutModel",
            "justify_items": null,
            "grid_row": null,
            "max_height": null,
            "align_content": null,
            "visibility": null,
            "align_self": null,
            "height": null,
            "min_height": null,
            "padding": null,
            "grid_auto_rows": null,
            "grid_gap": null,
            "max_width": null,
            "order": null,
            "_view_module_version": "1.2.0",
            "grid_template_areas": null,
            "object_position": null,
            "object_fit": null,
            "grid_auto_columns": null,
            "margin": null,
            "display": null,
            "left": null
          }
        },
        "8afdd5246ba948eb854f65afe7cc032f": {
          "model_module": "@jupyter-widgets/controls",
          "model_name": "FloatProgressModel",
          "state": {
            "_view_name": "ProgressView",
            "style": "IPY_MODEL_531d3790b5c747a5a82fbc2a50852851",
            "_dom_classes": [],
            "description": "100%",
            "_model_name": "FloatProgressModel",
            "bar_style": "success",
            "max": 10,
            "_view_module": "@jupyter-widgets/controls",
            "_model_module_version": "1.5.0",
            "value": 10,
            "_view_count": null,
            "_view_module_version": "1.5.0",
            "orientation": "horizontal",
            "min": 0,
            "description_tooltip": null,
            "_model_module": "@jupyter-widgets/controls",
            "layout": "IPY_MODEL_d37a805bf51d421c921c8038728a0f52"
          }
        },
        "5f99efdfcee341c5b7c5ba8352b9ee17": {
          "model_module": "@jupyter-widgets/controls",
          "model_name": "HTMLModel",
          "state": {
            "_view_name": "HTMLView",
            "style": "IPY_MODEL_bd0a7a771fa947009ebb5dea43bcd13d",
            "_dom_classes": [],
            "description": "",
            "_model_name": "HTMLModel",
            "placeholder": "​",
            "_view_module": "@jupyter-widgets/controls",
            "_model_module_version": "1.5.0",
            "value": " 10/10 [01:19&lt;00:00,  7.91s/it]",
            "_view_count": null,
            "_view_module_version": "1.5.0",
            "description_tooltip": null,
            "_model_module": "@jupyter-widgets/controls",
            "layout": "IPY_MODEL_95154636707643539bc6766e9a03d347"
          }
        },
        "531d3790b5c747a5a82fbc2a50852851": {
          "model_module": "@jupyter-widgets/controls",
          "model_name": "ProgressStyleModel",
          "state": {
            "_view_name": "StyleView",
            "_model_name": "ProgressStyleModel",
            "description_width": "initial",
            "_view_module": "@jupyter-widgets/base",
            "_model_module_version": "1.5.0",
            "_view_count": null,
            "_view_module_version": "1.2.0",
            "bar_color": null,
            "_model_module": "@jupyter-widgets/controls"
          }
        },
        "d37a805bf51d421c921c8038728a0f52": {
          "model_module": "@jupyter-widgets/base",
          "model_name": "LayoutModel",
          "state": {
            "_view_name": "LayoutView",
            "grid_template_rows": null,
            "right": null,
            "justify_content": null,
            "_view_module": "@jupyter-widgets/base",
            "overflow": null,
            "_model_module_version": "1.2.0",
            "_view_count": null,
            "flex_flow": null,
            "width": null,
            "min_width": null,
            "border": null,
            "align_items": null,
            "bottom": null,
            "_model_module": "@jupyter-widgets/base",
            "top": null,
            "grid_column": null,
            "overflow_y": null,
            "overflow_x": null,
            "grid_auto_flow": null,
            "grid_area": null,
            "grid_template_columns": null,
            "flex": null,
            "_model_name": "LayoutModel",
            "justify_items": null,
            "grid_row": null,
            "max_height": null,
            "align_content": null,
            "visibility": null,
            "align_self": null,
            "height": null,
            "min_height": null,
            "padding": null,
            "grid_auto_rows": null,
            "grid_gap": null,
            "max_width": null,
            "order": null,
            "_view_module_version": "1.2.0",
            "grid_template_areas": null,
            "object_position": null,
            "object_fit": null,
            "grid_auto_columns": null,
            "margin": null,
            "display": null,
            "left": null
          }
        },
        "bd0a7a771fa947009ebb5dea43bcd13d": {
          "model_module": "@jupyter-widgets/controls",
          "model_name": "DescriptionStyleModel",
          "state": {
            "_view_name": "StyleView",
            "_model_name": "DescriptionStyleModel",
            "description_width": "",
            "_view_module": "@jupyter-widgets/base",
            "_model_module_version": "1.5.0",
            "_view_count": null,
            "_view_module_version": "1.2.0",
            "_model_module": "@jupyter-widgets/controls"
          }
        },
        "95154636707643539bc6766e9a03d347": {
          "model_module": "@jupyter-widgets/base",
          "model_name": "LayoutModel",
          "state": {
            "_view_name": "LayoutView",
            "grid_template_rows": null,
            "right": null,
            "justify_content": null,
            "_view_module": "@jupyter-widgets/base",
            "overflow": null,
            "_model_module_version": "1.2.0",
            "_view_count": null,
            "flex_flow": null,
            "width": null,
            "min_width": null,
            "border": null,
            "align_items": null,
            "bottom": null,
            "_model_module": "@jupyter-widgets/base",
            "top": null,
            "grid_column": null,
            "overflow_y": null,
            "overflow_x": null,
            "grid_auto_flow": null,
            "grid_area": null,
            "grid_template_columns": null,
            "flex": null,
            "_model_name": "LayoutModel",
            "justify_items": null,
            "grid_row": null,
            "max_height": null,
            "align_content": null,
            "visibility": null,
            "align_self": null,
            "height": null,
            "min_height": null,
            "padding": null,
            "grid_auto_rows": null,
            "grid_gap": null,
            "max_width": null,
            "order": null,
            "_view_module_version": "1.2.0",
            "grid_template_areas": null,
            "object_position": null,
            "object_fit": null,
            "grid_auto_columns": null,
            "margin": null,
            "display": null,
            "left": null
          }
        },
        "ee0bb353c6a84550961576b93cdae859": {
          "model_module": "@jupyter-widgets/controls",
          "model_name": "HBoxModel",
          "state": {
            "_view_name": "HBoxView",
            "_dom_classes": [],
            "_model_name": "HBoxModel",
            "_view_module": "@jupyter-widgets/controls",
            "_model_module_version": "1.5.0",
            "_view_count": null,
            "_view_module_version": "1.5.0",
            "box_style": "",
            "layout": "IPY_MODEL_cb51acd8f5bb40d0ae4c7eec2c3676b1",
            "_model_module": "@jupyter-widgets/controls",
            "children": [
              "IPY_MODEL_223b0df39b284903900cc4254cc72ee1",
              "IPY_MODEL_46f604ddcb0244d49fa8f53f3a7ec79f"
            ]
          }
        },
        "cb51acd8f5bb40d0ae4c7eec2c3676b1": {
          "model_module": "@jupyter-widgets/base",
          "model_name": "LayoutModel",
          "state": {
            "_view_name": "LayoutView",
            "grid_template_rows": null,
            "right": null,
            "justify_content": null,
            "_view_module": "@jupyter-widgets/base",
            "overflow": null,
            "_model_module_version": "1.2.0",
            "_view_count": null,
            "flex_flow": null,
            "width": null,
            "min_width": null,
            "border": null,
            "align_items": null,
            "bottom": null,
            "_model_module": "@jupyter-widgets/base",
            "top": null,
            "grid_column": null,
            "overflow_y": null,
            "overflow_x": null,
            "grid_auto_flow": null,
            "grid_area": null,
            "grid_template_columns": null,
            "flex": null,
            "_model_name": "LayoutModel",
            "justify_items": null,
            "grid_row": null,
            "max_height": null,
            "align_content": null,
            "visibility": null,
            "align_self": null,
            "height": null,
            "min_height": null,
            "padding": null,
            "grid_auto_rows": null,
            "grid_gap": null,
            "max_width": null,
            "order": null,
            "_view_module_version": "1.2.0",
            "grid_template_areas": null,
            "object_position": null,
            "object_fit": null,
            "grid_auto_columns": null,
            "margin": null,
            "display": null,
            "left": null
          }
        },
        "223b0df39b284903900cc4254cc72ee1": {
          "model_module": "@jupyter-widgets/controls",
          "model_name": "FloatProgressModel",
          "state": {
            "_view_name": "ProgressView",
            "style": "IPY_MODEL_4e44057f5a2d485c87bbd091f39a985e",
            "_dom_classes": [],
            "description": "100%",
            "_model_name": "FloatProgressModel",
            "bar_style": "success",
            "max": 10,
            "_view_module": "@jupyter-widgets/controls",
            "_model_module_version": "1.5.0",
            "value": 10,
            "_view_count": null,
            "_view_module_version": "1.5.0",
            "orientation": "horizontal",
            "min": 0,
            "description_tooltip": null,
            "_model_module": "@jupyter-widgets/controls",
            "layout": "IPY_MODEL_89d342afd868481d82ddb807e70943cf"
          }
        },
        "46f604ddcb0244d49fa8f53f3a7ec79f": {
          "model_module": "@jupyter-widgets/controls",
          "model_name": "HTMLModel",
          "state": {
            "_view_name": "HTMLView",
            "style": "IPY_MODEL_c6ee2d70d57d44cab41ccd9dd2b8dca9",
            "_dom_classes": [],
            "description": "",
            "_model_name": "HTMLModel",
            "placeholder": "​",
            "_view_module": "@jupyter-widgets/controls",
            "_model_module_version": "1.5.0",
            "value": " 10/10 [00:02&lt;00:00,  3.39it/s]",
            "_view_count": null,
            "_view_module_version": "1.5.0",
            "description_tooltip": null,
            "_model_module": "@jupyter-widgets/controls",
            "layout": "IPY_MODEL_9ada1b9f4ae94a038d45499b2728773a"
          }
        },
        "4e44057f5a2d485c87bbd091f39a985e": {
          "model_module": "@jupyter-widgets/controls",
          "model_name": "ProgressStyleModel",
          "state": {
            "_view_name": "StyleView",
            "_model_name": "ProgressStyleModel",
            "description_width": "initial",
            "_view_module": "@jupyter-widgets/base",
            "_model_module_version": "1.5.0",
            "_view_count": null,
            "_view_module_version": "1.2.0",
            "bar_color": null,
            "_model_module": "@jupyter-widgets/controls"
          }
        },
        "89d342afd868481d82ddb807e70943cf": {
          "model_module": "@jupyter-widgets/base",
          "model_name": "LayoutModel",
          "state": {
            "_view_name": "LayoutView",
            "grid_template_rows": null,
            "right": null,
            "justify_content": null,
            "_view_module": "@jupyter-widgets/base",
            "overflow": null,
            "_model_module_version": "1.2.0",
            "_view_count": null,
            "flex_flow": null,
            "width": null,
            "min_width": null,
            "border": null,
            "align_items": null,
            "bottom": null,
            "_model_module": "@jupyter-widgets/base",
            "top": null,
            "grid_column": null,
            "overflow_y": null,
            "overflow_x": null,
            "grid_auto_flow": null,
            "grid_area": null,
            "grid_template_columns": null,
            "flex": null,
            "_model_name": "LayoutModel",
            "justify_items": null,
            "grid_row": null,
            "max_height": null,
            "align_content": null,
            "visibility": null,
            "align_self": null,
            "height": null,
            "min_height": null,
            "padding": null,
            "grid_auto_rows": null,
            "grid_gap": null,
            "max_width": null,
            "order": null,
            "_view_module_version": "1.2.0",
            "grid_template_areas": null,
            "object_position": null,
            "object_fit": null,
            "grid_auto_columns": null,
            "margin": null,
            "display": null,
            "left": null
          }
        },
        "c6ee2d70d57d44cab41ccd9dd2b8dca9": {
          "model_module": "@jupyter-widgets/controls",
          "model_name": "DescriptionStyleModel",
          "state": {
            "_view_name": "StyleView",
            "_model_name": "DescriptionStyleModel",
            "description_width": "",
            "_view_module": "@jupyter-widgets/base",
            "_model_module_version": "1.5.0",
            "_view_count": null,
            "_view_module_version": "1.2.0",
            "_model_module": "@jupyter-widgets/controls"
          }
        },
        "9ada1b9f4ae94a038d45499b2728773a": {
          "model_module": "@jupyter-widgets/base",
          "model_name": "LayoutModel",
          "state": {
            "_view_name": "LayoutView",
            "grid_template_rows": null,
            "right": null,
            "justify_content": null,
            "_view_module": "@jupyter-widgets/base",
            "overflow": null,
            "_model_module_version": "1.2.0",
            "_view_count": null,
            "flex_flow": null,
            "width": null,
            "min_width": null,
            "border": null,
            "align_items": null,
            "bottom": null,
            "_model_module": "@jupyter-widgets/base",
            "top": null,
            "grid_column": null,
            "overflow_y": null,
            "overflow_x": null,
            "grid_auto_flow": null,
            "grid_area": null,
            "grid_template_columns": null,
            "flex": null,
            "_model_name": "LayoutModel",
            "justify_items": null,
            "grid_row": null,
            "max_height": null,
            "align_content": null,
            "visibility": null,
            "align_self": null,
            "height": null,
            "min_height": null,
            "padding": null,
            "grid_auto_rows": null,
            "grid_gap": null,
            "max_width": null,
            "order": null,
            "_view_module_version": "1.2.0",
            "grid_template_areas": null,
            "object_position": null,
            "object_fit": null,
            "grid_auto_columns": null,
            "margin": null,
            "display": null,
            "left": null
          }
        },
        "6d86c30a9af94e1793ce0be0d1fcfaa5": {
          "model_module": "@jupyter-widgets/controls",
          "model_name": "HBoxModel",
          "state": {
            "_view_name": "HBoxView",
            "_dom_classes": [],
            "_model_name": "HBoxModel",
            "_view_module": "@jupyter-widgets/controls",
            "_model_module_version": "1.5.0",
            "_view_count": null,
            "_view_module_version": "1.5.0",
            "box_style": "",
            "layout": "IPY_MODEL_c3fd4002a45c4c5193c553eddc41a3d0",
            "_model_module": "@jupyter-widgets/controls",
            "children": [
              "IPY_MODEL_a3ad659739f44da3a5fdeda9b69cd862",
              "IPY_MODEL_0bc50b98248d47fba9cb6cc48ffd66b1"
            ]
          }
        },
        "c3fd4002a45c4c5193c553eddc41a3d0": {
          "model_module": "@jupyter-widgets/base",
          "model_name": "LayoutModel",
          "state": {
            "_view_name": "LayoutView",
            "grid_template_rows": null,
            "right": null,
            "justify_content": null,
            "_view_module": "@jupyter-widgets/base",
            "overflow": null,
            "_model_module_version": "1.2.0",
            "_view_count": null,
            "flex_flow": null,
            "width": null,
            "min_width": null,
            "border": null,
            "align_items": null,
            "bottom": null,
            "_model_module": "@jupyter-widgets/base",
            "top": null,
            "grid_column": null,
            "overflow_y": null,
            "overflow_x": null,
            "grid_auto_flow": null,
            "grid_area": null,
            "grid_template_columns": null,
            "flex": null,
            "_model_name": "LayoutModel",
            "justify_items": null,
            "grid_row": null,
            "max_height": null,
            "align_content": null,
            "visibility": null,
            "align_self": null,
            "height": null,
            "min_height": null,
            "padding": null,
            "grid_auto_rows": null,
            "grid_gap": null,
            "max_width": null,
            "order": null,
            "_view_module_version": "1.2.0",
            "grid_template_areas": null,
            "object_position": null,
            "object_fit": null,
            "grid_auto_columns": null,
            "margin": null,
            "display": null,
            "left": null
          }
        },
        "a3ad659739f44da3a5fdeda9b69cd862": {
          "model_module": "@jupyter-widgets/controls",
          "model_name": "FloatProgressModel",
          "state": {
            "_view_name": "ProgressView",
            "style": "IPY_MODEL_daaf77ebb184472492a42c50b7f3f913",
            "_dom_classes": [],
            "description": "100%",
            "_model_name": "FloatProgressModel",
            "bar_style": "success",
            "max": 10,
            "_view_module": "@jupyter-widgets/controls",
            "_model_module_version": "1.5.0",
            "value": 10,
            "_view_count": null,
            "_view_module_version": "1.5.0",
            "orientation": "horizontal",
            "min": 0,
            "description_tooltip": null,
            "_model_module": "@jupyter-widgets/controls",
            "layout": "IPY_MODEL_9340aa6f73f040b5a6daee6ea7b88420"
          }
        },
        "0bc50b98248d47fba9cb6cc48ffd66b1": {
          "model_module": "@jupyter-widgets/controls",
          "model_name": "HTMLModel",
          "state": {
            "_view_name": "HTMLView",
            "style": "IPY_MODEL_1925c750e7894aa1b0565ae7bac05790",
            "_dom_classes": [],
            "description": "",
            "_model_name": "HTMLModel",
            "placeholder": "​",
            "_view_module": "@jupyter-widgets/controls",
            "_model_module_version": "1.5.0",
            "value": " 10/10 [00:05&lt;00:00,  1.97it/s]",
            "_view_count": null,
            "_view_module_version": "1.5.0",
            "description_tooltip": null,
            "_model_module": "@jupyter-widgets/controls",
            "layout": "IPY_MODEL_9f89e79baca34fa0a9dff74110ab5313"
          }
        },
        "daaf77ebb184472492a42c50b7f3f913": {
          "model_module": "@jupyter-widgets/controls",
          "model_name": "ProgressStyleModel",
          "state": {
            "_view_name": "StyleView",
            "_model_name": "ProgressStyleModel",
            "description_width": "initial",
            "_view_module": "@jupyter-widgets/base",
            "_model_module_version": "1.5.0",
            "_view_count": null,
            "_view_module_version": "1.2.0",
            "bar_color": null,
            "_model_module": "@jupyter-widgets/controls"
          }
        },
        "9340aa6f73f040b5a6daee6ea7b88420": {
          "model_module": "@jupyter-widgets/base",
          "model_name": "LayoutModel",
          "state": {
            "_view_name": "LayoutView",
            "grid_template_rows": null,
            "right": null,
            "justify_content": null,
            "_view_module": "@jupyter-widgets/base",
            "overflow": null,
            "_model_module_version": "1.2.0",
            "_view_count": null,
            "flex_flow": null,
            "width": null,
            "min_width": null,
            "border": null,
            "align_items": null,
            "bottom": null,
            "_model_module": "@jupyter-widgets/base",
            "top": null,
            "grid_column": null,
            "overflow_y": null,
            "overflow_x": null,
            "grid_auto_flow": null,
            "grid_area": null,
            "grid_template_columns": null,
            "flex": null,
            "_model_name": "LayoutModel",
            "justify_items": null,
            "grid_row": null,
            "max_height": null,
            "align_content": null,
            "visibility": null,
            "align_self": null,
            "height": null,
            "min_height": null,
            "padding": null,
            "grid_auto_rows": null,
            "grid_gap": null,
            "max_width": null,
            "order": null,
            "_view_module_version": "1.2.0",
            "grid_template_areas": null,
            "object_position": null,
            "object_fit": null,
            "grid_auto_columns": null,
            "margin": null,
            "display": null,
            "left": null
          }
        },
        "1925c750e7894aa1b0565ae7bac05790": {
          "model_module": "@jupyter-widgets/controls",
          "model_name": "DescriptionStyleModel",
          "state": {
            "_view_name": "StyleView",
            "_model_name": "DescriptionStyleModel",
            "description_width": "",
            "_view_module": "@jupyter-widgets/base",
            "_model_module_version": "1.5.0",
            "_view_count": null,
            "_view_module_version": "1.2.0",
            "_model_module": "@jupyter-widgets/controls"
          }
        },
        "9f89e79baca34fa0a9dff74110ab5313": {
          "model_module": "@jupyter-widgets/base",
          "model_name": "LayoutModel",
          "state": {
            "_view_name": "LayoutView",
            "grid_template_rows": null,
            "right": null,
            "justify_content": null,
            "_view_module": "@jupyter-widgets/base",
            "overflow": null,
            "_model_module_version": "1.2.0",
            "_view_count": null,
            "flex_flow": null,
            "width": null,
            "min_width": null,
            "border": null,
            "align_items": null,
            "bottom": null,
            "_model_module": "@jupyter-widgets/base",
            "top": null,
            "grid_column": null,
            "overflow_y": null,
            "overflow_x": null,
            "grid_auto_flow": null,
            "grid_area": null,
            "grid_template_columns": null,
            "flex": null,
            "_model_name": "LayoutModel",
            "justify_items": null,
            "grid_row": null,
            "max_height": null,
            "align_content": null,
            "visibility": null,
            "align_self": null,
            "height": null,
            "min_height": null,
            "padding": null,
            "grid_auto_rows": null,
            "grid_gap": null,
            "max_width": null,
            "order": null,
            "_view_module_version": "1.2.0",
            "grid_template_areas": null,
            "object_position": null,
            "object_fit": null,
            "grid_auto_columns": null,
            "margin": null,
            "display": null,
            "left": null
          }
        },
        "c92ff147fb2a4a4dba55e61e2807a339": {
          "model_module": "@jupyter-widgets/controls",
          "model_name": "HBoxModel",
          "state": {
            "_view_name": "HBoxView",
            "_dom_classes": [],
            "_model_name": "HBoxModel",
            "_view_module": "@jupyter-widgets/controls",
            "_model_module_version": "1.5.0",
            "_view_count": null,
            "_view_module_version": "1.5.0",
            "box_style": "",
            "layout": "IPY_MODEL_2f3192596d374f4889886ae96cb1ad16",
            "_model_module": "@jupyter-widgets/controls",
            "children": [
              "IPY_MODEL_f2e33b07677e49b0913b4936750788ca",
              "IPY_MODEL_8573ebccf3dc4d24822d2245adb4a8f0"
            ]
          }
        },
        "2f3192596d374f4889886ae96cb1ad16": {
          "model_module": "@jupyter-widgets/base",
          "model_name": "LayoutModel",
          "state": {
            "_view_name": "LayoutView",
            "grid_template_rows": null,
            "right": null,
            "justify_content": null,
            "_view_module": "@jupyter-widgets/base",
            "overflow": null,
            "_model_module_version": "1.2.0",
            "_view_count": null,
            "flex_flow": null,
            "width": null,
            "min_width": null,
            "border": null,
            "align_items": null,
            "bottom": null,
            "_model_module": "@jupyter-widgets/base",
            "top": null,
            "grid_column": null,
            "overflow_y": null,
            "overflow_x": null,
            "grid_auto_flow": null,
            "grid_area": null,
            "grid_template_columns": null,
            "flex": null,
            "_model_name": "LayoutModel",
            "justify_items": null,
            "grid_row": null,
            "max_height": null,
            "align_content": null,
            "visibility": null,
            "align_self": null,
            "height": null,
            "min_height": null,
            "padding": null,
            "grid_auto_rows": null,
            "grid_gap": null,
            "max_width": null,
            "order": null,
            "_view_module_version": "1.2.0",
            "grid_template_areas": null,
            "object_position": null,
            "object_fit": null,
            "grid_auto_columns": null,
            "margin": null,
            "display": null,
            "left": null
          }
        },
        "f2e33b07677e49b0913b4936750788ca": {
          "model_module": "@jupyter-widgets/controls",
          "model_name": "FloatProgressModel",
          "state": {
            "_view_name": "ProgressView",
            "style": "IPY_MODEL_2c290ef3737e4c4980dd648fecbeb9a4",
            "_dom_classes": [],
            "description": "",
            "_model_name": "FloatProgressModel",
            "bar_style": "success",
            "max": 21,
            "_view_module": "@jupyter-widgets/controls",
            "_model_module_version": "1.5.0",
            "value": 21,
            "_view_count": null,
            "_view_module_version": "1.5.0",
            "orientation": "horizontal",
            "min": 0,
            "description_tooltip": null,
            "_model_module": "@jupyter-widgets/controls",
            "layout": "IPY_MODEL_980dc2c6bad5473b87c1649b717e4757"
          }
        },
        "8573ebccf3dc4d24822d2245adb4a8f0": {
          "model_module": "@jupyter-widgets/controls",
          "model_name": "HTMLModel",
          "state": {
            "_view_name": "HTMLView",
            "style": "IPY_MODEL_c01bf5903c6e43aab93cd92a6ef788e5",
            "_dom_classes": [],
            "description": "",
            "_model_name": "HTMLModel",
            "placeholder": "​",
            "_view_module": "@jupyter-widgets/controls",
            "_model_module_version": "1.5.0",
            "value": " 22/? [12:17&lt;00:00, 33.53s/it]",
            "_view_count": null,
            "_view_module_version": "1.5.0",
            "description_tooltip": null,
            "_model_module": "@jupyter-widgets/controls",
            "layout": "IPY_MODEL_9e85f5ecd0004b3a98ab6be99c74a2a4"
          }
        },
        "2c290ef3737e4c4980dd648fecbeb9a4": {
          "model_module": "@jupyter-widgets/controls",
          "model_name": "ProgressStyleModel",
          "state": {
            "_view_name": "StyleView",
            "_model_name": "ProgressStyleModel",
            "description_width": "initial",
            "_view_module": "@jupyter-widgets/base",
            "_model_module_version": "1.5.0",
            "_view_count": null,
            "_view_module_version": "1.2.0",
            "bar_color": null,
            "_model_module": "@jupyter-widgets/controls"
          }
        },
        "980dc2c6bad5473b87c1649b717e4757": {
          "model_module": "@jupyter-widgets/base",
          "model_name": "LayoutModel",
          "state": {
            "_view_name": "LayoutView",
            "grid_template_rows": null,
            "right": null,
            "justify_content": null,
            "_view_module": "@jupyter-widgets/base",
            "overflow": null,
            "_model_module_version": "1.2.0",
            "_view_count": null,
            "flex_flow": null,
            "width": null,
            "min_width": null,
            "border": null,
            "align_items": null,
            "bottom": null,
            "_model_module": "@jupyter-widgets/base",
            "top": null,
            "grid_column": null,
            "overflow_y": null,
            "overflow_x": null,
            "grid_auto_flow": null,
            "grid_area": null,
            "grid_template_columns": null,
            "flex": null,
            "_model_name": "LayoutModel",
            "justify_items": null,
            "grid_row": null,
            "max_height": null,
            "align_content": null,
            "visibility": null,
            "align_self": null,
            "height": null,
            "min_height": null,
            "padding": null,
            "grid_auto_rows": null,
            "grid_gap": null,
            "max_width": null,
            "order": null,
            "_view_module_version": "1.2.0",
            "grid_template_areas": null,
            "object_position": null,
            "object_fit": null,
            "grid_auto_columns": null,
            "margin": null,
            "display": null,
            "left": null
          }
        },
        "c01bf5903c6e43aab93cd92a6ef788e5": {
          "model_module": "@jupyter-widgets/controls",
          "model_name": "DescriptionStyleModel",
          "state": {
            "_view_name": "StyleView",
            "_model_name": "DescriptionStyleModel",
            "description_width": "",
            "_view_module": "@jupyter-widgets/base",
            "_model_module_version": "1.5.0",
            "_view_count": null,
            "_view_module_version": "1.2.0",
            "_model_module": "@jupyter-widgets/controls"
          }
        },
        "9e85f5ecd0004b3a98ab6be99c74a2a4": {
          "model_module": "@jupyter-widgets/base",
          "model_name": "LayoutModel",
          "state": {
            "_view_name": "LayoutView",
            "grid_template_rows": null,
            "right": null,
            "justify_content": null,
            "_view_module": "@jupyter-widgets/base",
            "overflow": null,
            "_model_module_version": "1.2.0",
            "_view_count": null,
            "flex_flow": null,
            "width": null,
            "min_width": null,
            "border": null,
            "align_items": null,
            "bottom": null,
            "_model_module": "@jupyter-widgets/base",
            "top": null,
            "grid_column": null,
            "overflow_y": null,
            "overflow_x": null,
            "grid_auto_flow": null,
            "grid_area": null,
            "grid_template_columns": null,
            "flex": null,
            "_model_name": "LayoutModel",
            "justify_items": null,
            "grid_row": null,
            "max_height": null,
            "align_content": null,
            "visibility": null,
            "align_self": null,
            "height": null,
            "min_height": null,
            "padding": null,
            "grid_auto_rows": null,
            "grid_gap": null,
            "max_width": null,
            "order": null,
            "_view_module_version": "1.2.0",
            "grid_template_areas": null,
            "object_position": null,
            "object_fit": null,
            "grid_auto_columns": null,
            "margin": null,
            "display": null,
            "left": null
          }
        },
        "43734220d1154d34bfef2ffa6786ba69": {
          "model_module": "@jupyter-widgets/controls",
          "model_name": "HBoxModel",
          "state": {
            "_view_name": "HBoxView",
            "_dom_classes": [],
            "_model_name": "HBoxModel",
            "_view_module": "@jupyter-widgets/controls",
            "_model_module_version": "1.5.0",
            "_view_count": null,
            "_view_module_version": "1.5.0",
            "box_style": "",
            "layout": "IPY_MODEL_73a513b14e124e3bb3a39f5f7f29d1a5",
            "_model_module": "@jupyter-widgets/controls",
            "children": [
              "IPY_MODEL_b7e807232eb0495f992dcc0ef0ab2a56",
              "IPY_MODEL_28cdd1ac662447ff80a76b557f5437d4"
            ]
          }
        },
        "73a513b14e124e3bb3a39f5f7f29d1a5": {
          "model_module": "@jupyter-widgets/base",
          "model_name": "LayoutModel",
          "state": {
            "_view_name": "LayoutView",
            "grid_template_rows": null,
            "right": null,
            "justify_content": null,
            "_view_module": "@jupyter-widgets/base",
            "overflow": null,
            "_model_module_version": "1.2.0",
            "_view_count": null,
            "flex_flow": null,
            "width": null,
            "min_width": null,
            "border": null,
            "align_items": null,
            "bottom": null,
            "_model_module": "@jupyter-widgets/base",
            "top": null,
            "grid_column": null,
            "overflow_y": null,
            "overflow_x": null,
            "grid_auto_flow": null,
            "grid_area": null,
            "grid_template_columns": null,
            "flex": null,
            "_model_name": "LayoutModel",
            "justify_items": null,
            "grid_row": null,
            "max_height": null,
            "align_content": null,
            "visibility": null,
            "align_self": null,
            "height": null,
            "min_height": null,
            "padding": null,
            "grid_auto_rows": null,
            "grid_gap": null,
            "max_width": null,
            "order": null,
            "_view_module_version": "1.2.0",
            "grid_template_areas": null,
            "object_position": null,
            "object_fit": null,
            "grid_auto_columns": null,
            "margin": null,
            "display": null,
            "left": null
          }
        },
        "b7e807232eb0495f992dcc0ef0ab2a56": {
          "model_module": "@jupyter-widgets/controls",
          "model_name": "FloatProgressModel",
          "state": {
            "_view_name": "ProgressView",
            "style": "IPY_MODEL_b4edaeeb21274cd99efba510d465987d",
            "_dom_classes": [],
            "description": "",
            "_model_name": "FloatProgressModel",
            "bar_style": "success",
            "max": 3,
            "_view_module": "@jupyter-widgets/controls",
            "_model_module_version": "1.5.0",
            "value": 3,
            "_view_count": null,
            "_view_module_version": "1.5.0",
            "orientation": "horizontal",
            "min": 0,
            "description_tooltip": null,
            "_model_module": "@jupyter-widgets/controls",
            "layout": "IPY_MODEL_9407b960b54140a9a6120722ac9d627d"
          }
        },
        "28cdd1ac662447ff80a76b557f5437d4": {
          "model_module": "@jupyter-widgets/controls",
          "model_name": "HTMLModel",
          "state": {
            "_view_name": "HTMLView",
            "style": "IPY_MODEL_10cc01b88636427b902ee35db5962fd3",
            "_dom_classes": [],
            "description": "",
            "_model_name": "HTMLModel",
            "placeholder": "​",
            "_view_module": "@jupyter-widgets/controls",
            "_model_module_version": "1.5.0",
            "value": " 4/? [03:04&lt;00:00, 46.00s/it]",
            "_view_count": null,
            "_view_module_version": "1.5.0",
            "description_tooltip": null,
            "_model_module": "@jupyter-widgets/controls",
            "layout": "IPY_MODEL_e24654a692d445a0b798dc63afb8d0f6"
          }
        },
        "b4edaeeb21274cd99efba510d465987d": {
          "model_module": "@jupyter-widgets/controls",
          "model_name": "ProgressStyleModel",
          "state": {
            "_view_name": "StyleView",
            "_model_name": "ProgressStyleModel",
            "description_width": "initial",
            "_view_module": "@jupyter-widgets/base",
            "_model_module_version": "1.5.0",
            "_view_count": null,
            "_view_module_version": "1.2.0",
            "bar_color": null,
            "_model_module": "@jupyter-widgets/controls"
          }
        },
        "9407b960b54140a9a6120722ac9d627d": {
          "model_module": "@jupyter-widgets/base",
          "model_name": "LayoutModel",
          "state": {
            "_view_name": "LayoutView",
            "grid_template_rows": null,
            "right": null,
            "justify_content": null,
            "_view_module": "@jupyter-widgets/base",
            "overflow": null,
            "_model_module_version": "1.2.0",
            "_view_count": null,
            "flex_flow": null,
            "width": null,
            "min_width": null,
            "border": null,
            "align_items": null,
            "bottom": null,
            "_model_module": "@jupyter-widgets/base",
            "top": null,
            "grid_column": null,
            "overflow_y": null,
            "overflow_x": null,
            "grid_auto_flow": null,
            "grid_area": null,
            "grid_template_columns": null,
            "flex": null,
            "_model_name": "LayoutModel",
            "justify_items": null,
            "grid_row": null,
            "max_height": null,
            "align_content": null,
            "visibility": null,
            "align_self": null,
            "height": null,
            "min_height": null,
            "padding": null,
            "grid_auto_rows": null,
            "grid_gap": null,
            "max_width": null,
            "order": null,
            "_view_module_version": "1.2.0",
            "grid_template_areas": null,
            "object_position": null,
            "object_fit": null,
            "grid_auto_columns": null,
            "margin": null,
            "display": null,
            "left": null
          }
        },
        "10cc01b88636427b902ee35db5962fd3": {
          "model_module": "@jupyter-widgets/controls",
          "model_name": "DescriptionStyleModel",
          "state": {
            "_view_name": "StyleView",
            "_model_name": "DescriptionStyleModel",
            "description_width": "",
            "_view_module": "@jupyter-widgets/base",
            "_model_module_version": "1.5.0",
            "_view_count": null,
            "_view_module_version": "1.2.0",
            "_model_module": "@jupyter-widgets/controls"
          }
        },
        "e24654a692d445a0b798dc63afb8d0f6": {
          "model_module": "@jupyter-widgets/base",
          "model_name": "LayoutModel",
          "state": {
            "_view_name": "LayoutView",
            "grid_template_rows": null,
            "right": null,
            "justify_content": null,
            "_view_module": "@jupyter-widgets/base",
            "overflow": null,
            "_model_module_version": "1.2.0",
            "_view_count": null,
            "flex_flow": null,
            "width": null,
            "min_width": null,
            "border": null,
            "align_items": null,
            "bottom": null,
            "_model_module": "@jupyter-widgets/base",
            "top": null,
            "grid_column": null,
            "overflow_y": null,
            "overflow_x": null,
            "grid_auto_flow": null,
            "grid_area": null,
            "grid_template_columns": null,
            "flex": null,
            "_model_name": "LayoutModel",
            "justify_items": null,
            "grid_row": null,
            "max_height": null,
            "align_content": null,
            "visibility": null,
            "align_self": null,
            "height": null,
            "min_height": null,
            "padding": null,
            "grid_auto_rows": null,
            "grid_gap": null,
            "max_width": null,
            "order": null,
            "_view_module_version": "1.2.0",
            "grid_template_areas": null,
            "object_position": null,
            "object_fit": null,
            "grid_auto_columns": null,
            "margin": null,
            "display": null,
            "left": null
          }
        },
        "40a7fe36d0194f939400e4d8a504ec77": {
          "model_module": "@jupyter-widgets/controls",
          "model_name": "HBoxModel",
          "state": {
            "_view_name": "HBoxView",
            "_dom_classes": [],
            "_model_name": "HBoxModel",
            "_view_module": "@jupyter-widgets/controls",
            "_model_module_version": "1.5.0",
            "_view_count": null,
            "_view_module_version": "1.5.0",
            "box_style": "",
            "layout": "IPY_MODEL_a40913dfd9804bdb8df02af20e0c5ab4",
            "_model_module": "@jupyter-widgets/controls",
            "children": [
              "IPY_MODEL_f18435f858f1490cbd6906a9c7910dee",
              "IPY_MODEL_e17b5536619a4b799d682eb0102ae327"
            ]
          }
        },
        "a40913dfd9804bdb8df02af20e0c5ab4": {
          "model_module": "@jupyter-widgets/base",
          "model_name": "LayoutModel",
          "state": {
            "_view_name": "LayoutView",
            "grid_template_rows": null,
            "right": null,
            "justify_content": null,
            "_view_module": "@jupyter-widgets/base",
            "overflow": null,
            "_model_module_version": "1.2.0",
            "_view_count": null,
            "flex_flow": null,
            "width": null,
            "min_width": null,
            "border": null,
            "align_items": null,
            "bottom": null,
            "_model_module": "@jupyter-widgets/base",
            "top": null,
            "grid_column": null,
            "overflow_y": null,
            "overflow_x": null,
            "grid_auto_flow": null,
            "grid_area": null,
            "grid_template_columns": null,
            "flex": null,
            "_model_name": "LayoutModel",
            "justify_items": null,
            "grid_row": null,
            "max_height": null,
            "align_content": null,
            "visibility": null,
            "align_self": null,
            "height": null,
            "min_height": null,
            "padding": null,
            "grid_auto_rows": null,
            "grid_gap": null,
            "max_width": null,
            "order": null,
            "_view_module_version": "1.2.0",
            "grid_template_areas": null,
            "object_position": null,
            "object_fit": null,
            "grid_auto_columns": null,
            "margin": null,
            "display": null,
            "left": null
          }
        },
        "f18435f858f1490cbd6906a9c7910dee": {
          "model_module": "@jupyter-widgets/controls",
          "model_name": "FloatProgressModel",
          "state": {
            "_view_name": "ProgressView",
            "style": "IPY_MODEL_bda47bca854b4096bae41c1eda2e3ee4",
            "_dom_classes": [],
            "description": "",
            "_model_name": "FloatProgressModel",
            "bar_style": "success",
            "max": 3,
            "_view_module": "@jupyter-widgets/controls",
            "_model_module_version": "1.5.0",
            "value": 3,
            "_view_count": null,
            "_view_module_version": "1.5.0",
            "orientation": "horizontal",
            "min": 0,
            "description_tooltip": null,
            "_model_module": "@jupyter-widgets/controls",
            "layout": "IPY_MODEL_3168630c83a74d2db06515a740bd187a"
          }
        },
        "e17b5536619a4b799d682eb0102ae327": {
          "model_module": "@jupyter-widgets/controls",
          "model_name": "HTMLModel",
          "state": {
            "_view_name": "HTMLView",
            "style": "IPY_MODEL_e3c9693b761c49b683a5b596f7c14fb2",
            "_dom_classes": [],
            "description": "",
            "_model_name": "HTMLModel",
            "placeholder": "​",
            "_view_module": "@jupyter-widgets/controls",
            "_model_module_version": "1.5.0",
            "value": " 4/? [11:07&lt;00:00, 166.89s/it]",
            "_view_count": null,
            "_view_module_version": "1.5.0",
            "description_tooltip": null,
            "_model_module": "@jupyter-widgets/controls",
            "layout": "IPY_MODEL_ebb708640c9e4b9487450953723527fc"
          }
        },
        "bda47bca854b4096bae41c1eda2e3ee4": {
          "model_module": "@jupyter-widgets/controls",
          "model_name": "ProgressStyleModel",
          "state": {
            "_view_name": "StyleView",
            "_model_name": "ProgressStyleModel",
            "description_width": "initial",
            "_view_module": "@jupyter-widgets/base",
            "_model_module_version": "1.5.0",
            "_view_count": null,
            "_view_module_version": "1.2.0",
            "bar_color": null,
            "_model_module": "@jupyter-widgets/controls"
          }
        },
        "3168630c83a74d2db06515a740bd187a": {
          "model_module": "@jupyter-widgets/base",
          "model_name": "LayoutModel",
          "state": {
            "_view_name": "LayoutView",
            "grid_template_rows": null,
            "right": null,
            "justify_content": null,
            "_view_module": "@jupyter-widgets/base",
            "overflow": null,
            "_model_module_version": "1.2.0",
            "_view_count": null,
            "flex_flow": null,
            "width": null,
            "min_width": null,
            "border": null,
            "align_items": null,
            "bottom": null,
            "_model_module": "@jupyter-widgets/base",
            "top": null,
            "grid_column": null,
            "overflow_y": null,
            "overflow_x": null,
            "grid_auto_flow": null,
            "grid_area": null,
            "grid_template_columns": null,
            "flex": null,
            "_model_name": "LayoutModel",
            "justify_items": null,
            "grid_row": null,
            "max_height": null,
            "align_content": null,
            "visibility": null,
            "align_self": null,
            "height": null,
            "min_height": null,
            "padding": null,
            "grid_auto_rows": null,
            "grid_gap": null,
            "max_width": null,
            "order": null,
            "_view_module_version": "1.2.0",
            "grid_template_areas": null,
            "object_position": null,
            "object_fit": null,
            "grid_auto_columns": null,
            "margin": null,
            "display": null,
            "left": null
          }
        },
        "e3c9693b761c49b683a5b596f7c14fb2": {
          "model_module": "@jupyter-widgets/controls",
          "model_name": "DescriptionStyleModel",
          "state": {
            "_view_name": "StyleView",
            "_model_name": "DescriptionStyleModel",
            "description_width": "",
            "_view_module": "@jupyter-widgets/base",
            "_model_module_version": "1.5.0",
            "_view_count": null,
            "_view_module_version": "1.2.0",
            "_model_module": "@jupyter-widgets/controls"
          }
        },
        "ebb708640c9e4b9487450953723527fc": {
          "model_module": "@jupyter-widgets/base",
          "model_name": "LayoutModel",
          "state": {
            "_view_name": "LayoutView",
            "grid_template_rows": null,
            "right": null,
            "justify_content": null,
            "_view_module": "@jupyter-widgets/base",
            "overflow": null,
            "_model_module_version": "1.2.0",
            "_view_count": null,
            "flex_flow": null,
            "width": null,
            "min_width": null,
            "border": null,
            "align_items": null,
            "bottom": null,
            "_model_module": "@jupyter-widgets/base",
            "top": null,
            "grid_column": null,
            "overflow_y": null,
            "overflow_x": null,
            "grid_auto_flow": null,
            "grid_area": null,
            "grid_template_columns": null,
            "flex": null,
            "_model_name": "LayoutModel",
            "justify_items": null,
            "grid_row": null,
            "max_height": null,
            "align_content": null,
            "visibility": null,
            "align_self": null,
            "height": null,
            "min_height": null,
            "padding": null,
            "grid_auto_rows": null,
            "grid_gap": null,
            "max_width": null,
            "order": null,
            "_view_module_version": "1.2.0",
            "grid_template_areas": null,
            "object_position": null,
            "object_fit": null,
            "grid_auto_columns": null,
            "margin": null,
            "display": null,
            "left": null
          }
        },
        "42e5194003354595aea8924de5801667": {
          "model_module": "@jupyter-widgets/controls",
          "model_name": "HBoxModel",
          "state": {
            "_view_name": "HBoxView",
            "_dom_classes": [],
            "_model_name": "HBoxModel",
            "_view_module": "@jupyter-widgets/controls",
            "_model_module_version": "1.5.0",
            "_view_count": null,
            "_view_module_version": "1.5.0",
            "box_style": "",
            "layout": "IPY_MODEL_21e778434154472c8a8c4bc877f0a36c",
            "_model_module": "@jupyter-widgets/controls",
            "children": [
              "IPY_MODEL_1d873ccc695747158262a3ebe523fe9e",
              "IPY_MODEL_48b501c89003429587451c8bf29b7d8d"
            ]
          }
        },
        "21e778434154472c8a8c4bc877f0a36c": {
          "model_module": "@jupyter-widgets/base",
          "model_name": "LayoutModel",
          "state": {
            "_view_name": "LayoutView",
            "grid_template_rows": null,
            "right": null,
            "justify_content": null,
            "_view_module": "@jupyter-widgets/base",
            "overflow": null,
            "_model_module_version": "1.2.0",
            "_view_count": null,
            "flex_flow": null,
            "width": null,
            "min_width": null,
            "border": null,
            "align_items": null,
            "bottom": null,
            "_model_module": "@jupyter-widgets/base",
            "top": null,
            "grid_column": null,
            "overflow_y": null,
            "overflow_x": null,
            "grid_auto_flow": null,
            "grid_area": null,
            "grid_template_columns": null,
            "flex": null,
            "_model_name": "LayoutModel",
            "justify_items": null,
            "grid_row": null,
            "max_height": null,
            "align_content": null,
            "visibility": null,
            "align_self": null,
            "height": null,
            "min_height": null,
            "padding": null,
            "grid_auto_rows": null,
            "grid_gap": null,
            "max_width": null,
            "order": null,
            "_view_module_version": "1.2.0",
            "grid_template_areas": null,
            "object_position": null,
            "object_fit": null,
            "grid_auto_columns": null,
            "margin": null,
            "display": null,
            "left": null
          }
        },
        "1d873ccc695747158262a3ebe523fe9e": {
          "model_module": "@jupyter-widgets/controls",
          "model_name": "FloatProgressModel",
          "state": {
            "_view_name": "ProgressView",
            "style": "IPY_MODEL_6f4e226cafd045fc8088ba785818dff3",
            "_dom_classes": [],
            "description": " 35%",
            "_model_name": "FloatProgressModel",
            "bar_style": "danger",
            "max": 100,
            "_view_module": "@jupyter-widgets/controls",
            "_model_module_version": "1.5.0",
            "value": 35,
            "_view_count": null,
            "_view_module_version": "1.5.0",
            "orientation": "horizontal",
            "min": 0,
            "description_tooltip": null,
            "_model_module": "@jupyter-widgets/controls",
            "layout": "IPY_MODEL_47a355c82a9b4f2f8a3577efe3217f15"
          }
        },
        "48b501c89003429587451c8bf29b7d8d": {
          "model_module": "@jupyter-widgets/controls",
          "model_name": "HTMLModel",
          "state": {
            "_view_name": "HTMLView",
            "style": "IPY_MODEL_695c76a965944335aa312cf54c0555d9",
            "_dom_classes": [],
            "description": "",
            "_model_name": "HTMLModel",
            "placeholder": "​",
            "_view_module": "@jupyter-widgets/controls",
            "_model_module_version": "1.5.0",
            "value": " 35/100 [03:56&lt;06:19,  5.83s/it]",
            "_view_count": null,
            "_view_module_version": "1.5.0",
            "description_tooltip": null,
            "_model_module": "@jupyter-widgets/controls",
            "layout": "IPY_MODEL_3c1211ac90d943ca9afc91b90ef2bb0a"
          }
        },
        "6f4e226cafd045fc8088ba785818dff3": {
          "model_module": "@jupyter-widgets/controls",
          "model_name": "ProgressStyleModel",
          "state": {
            "_view_name": "StyleView",
            "_model_name": "ProgressStyleModel",
            "description_width": "initial",
            "_view_module": "@jupyter-widgets/base",
            "_model_module_version": "1.5.0",
            "_view_count": null,
            "_view_module_version": "1.2.0",
            "bar_color": null,
            "_model_module": "@jupyter-widgets/controls"
          }
        },
        "47a355c82a9b4f2f8a3577efe3217f15": {
          "model_module": "@jupyter-widgets/base",
          "model_name": "LayoutModel",
          "state": {
            "_view_name": "LayoutView",
            "grid_template_rows": null,
            "right": null,
            "justify_content": null,
            "_view_module": "@jupyter-widgets/base",
            "overflow": null,
            "_model_module_version": "1.2.0",
            "_view_count": null,
            "flex_flow": null,
            "width": null,
            "min_width": null,
            "border": null,
            "align_items": null,
            "bottom": null,
            "_model_module": "@jupyter-widgets/base",
            "top": null,
            "grid_column": null,
            "overflow_y": null,
            "overflow_x": null,
            "grid_auto_flow": null,
            "grid_area": null,
            "grid_template_columns": null,
            "flex": null,
            "_model_name": "LayoutModel",
            "justify_items": null,
            "grid_row": null,
            "max_height": null,
            "align_content": null,
            "visibility": null,
            "align_self": null,
            "height": null,
            "min_height": null,
            "padding": null,
            "grid_auto_rows": null,
            "grid_gap": null,
            "max_width": null,
            "order": null,
            "_view_module_version": "1.2.0",
            "grid_template_areas": null,
            "object_position": null,
            "object_fit": null,
            "grid_auto_columns": null,
            "margin": null,
            "display": null,
            "left": null
          }
        },
        "695c76a965944335aa312cf54c0555d9": {
          "model_module": "@jupyter-widgets/controls",
          "model_name": "DescriptionStyleModel",
          "state": {
            "_view_name": "StyleView",
            "_model_name": "DescriptionStyleModel",
            "description_width": "",
            "_view_module": "@jupyter-widgets/base",
            "_model_module_version": "1.5.0",
            "_view_count": null,
            "_view_module_version": "1.2.0",
            "_model_module": "@jupyter-widgets/controls"
          }
        },
        "3c1211ac90d943ca9afc91b90ef2bb0a": {
          "model_module": "@jupyter-widgets/base",
          "model_name": "LayoutModel",
          "state": {
            "_view_name": "LayoutView",
            "grid_template_rows": null,
            "right": null,
            "justify_content": null,
            "_view_module": "@jupyter-widgets/base",
            "overflow": null,
            "_model_module_version": "1.2.0",
            "_view_count": null,
            "flex_flow": null,
            "width": null,
            "min_width": null,
            "border": null,
            "align_items": null,
            "bottom": null,
            "_model_module": "@jupyter-widgets/base",
            "top": null,
            "grid_column": null,
            "overflow_y": null,
            "overflow_x": null,
            "grid_auto_flow": null,
            "grid_area": null,
            "grid_template_columns": null,
            "flex": null,
            "_model_name": "LayoutModel",
            "justify_items": null,
            "grid_row": null,
            "max_height": null,
            "align_content": null,
            "visibility": null,
            "align_self": null,
            "height": null,
            "min_height": null,
            "padding": null,
            "grid_auto_rows": null,
            "grid_gap": null,
            "max_width": null,
            "order": null,
            "_view_module_version": "1.2.0",
            "grid_template_areas": null,
            "object_position": null,
            "object_fit": null,
            "grid_auto_columns": null,
            "margin": null,
            "display": null,
            "left": null
          }
        },
        "798a7006f358451ab384751c604ce989": {
          "model_module": "@jupyter-widgets/controls",
          "model_name": "HBoxModel",
          "state": {
            "_view_name": "HBoxView",
            "_dom_classes": [],
            "_model_name": "HBoxModel",
            "_view_module": "@jupyter-widgets/controls",
            "_model_module_version": "1.5.0",
            "_view_count": null,
            "_view_module_version": "1.5.0",
            "box_style": "",
            "layout": "IPY_MODEL_8fa964def7fb4b838773ac77a0d480c9",
            "_model_module": "@jupyter-widgets/controls",
            "children": [
              "IPY_MODEL_aa04b57fb1a147ffbe5d1e89521bb373",
              "IPY_MODEL_6b038ed97bf84b44b9ade837aa8436d1"
            ]
          }
        },
        "8fa964def7fb4b838773ac77a0d480c9": {
          "model_module": "@jupyter-widgets/base",
          "model_name": "LayoutModel",
          "state": {
            "_view_name": "LayoutView",
            "grid_template_rows": null,
            "right": null,
            "justify_content": null,
            "_view_module": "@jupyter-widgets/base",
            "overflow": null,
            "_model_module_version": "1.2.0",
            "_view_count": null,
            "flex_flow": null,
            "width": null,
            "min_width": null,
            "border": null,
            "align_items": null,
            "bottom": null,
            "_model_module": "@jupyter-widgets/base",
            "top": null,
            "grid_column": null,
            "overflow_y": null,
            "overflow_x": null,
            "grid_auto_flow": null,
            "grid_area": null,
            "grid_template_columns": null,
            "flex": null,
            "_model_name": "LayoutModel",
            "justify_items": null,
            "grid_row": null,
            "max_height": null,
            "align_content": null,
            "visibility": null,
            "align_self": null,
            "height": null,
            "min_height": null,
            "padding": null,
            "grid_auto_rows": null,
            "grid_gap": null,
            "max_width": null,
            "order": null,
            "_view_module_version": "1.2.0",
            "grid_template_areas": null,
            "object_position": null,
            "object_fit": null,
            "grid_auto_columns": null,
            "margin": null,
            "display": null,
            "left": null
          }
        },
        "aa04b57fb1a147ffbe5d1e89521bb373": {
          "model_module": "@jupyter-widgets/controls",
          "model_name": "FloatProgressModel",
          "state": {
            "_view_name": "ProgressView",
            "style": "IPY_MODEL_8269106570044c4a97b51699f02665db",
            "_dom_classes": [],
            "description": " 60%",
            "_model_name": "FloatProgressModel",
            "bar_style": "danger",
            "max": 100,
            "_view_module": "@jupyter-widgets/controls",
            "_model_module_version": "1.5.0",
            "value": 60,
            "_view_count": null,
            "_view_module_version": "1.5.0",
            "orientation": "horizontal",
            "min": 0,
            "description_tooltip": null,
            "_model_module": "@jupyter-widgets/controls",
            "layout": "IPY_MODEL_4005299425074e0d8a59fa040a8f78cc"
          }
        },
        "6b038ed97bf84b44b9ade837aa8436d1": {
          "model_module": "@jupyter-widgets/controls",
          "model_name": "HTMLModel",
          "state": {
            "_view_name": "HTMLView",
            "style": "IPY_MODEL_adf580f5bbef41a382624ecf0eb5580f",
            "_dom_classes": [],
            "description": "",
            "_model_name": "HTMLModel",
            "placeholder": "​",
            "_view_module": "@jupyter-widgets/controls",
            "_model_module_version": "1.5.0",
            "value": " 60/100 [05:50&lt;03:49,  5.74s/it]",
            "_view_count": null,
            "_view_module_version": "1.5.0",
            "description_tooltip": null,
            "_model_module": "@jupyter-widgets/controls",
            "layout": "IPY_MODEL_ede11296fe344c7199d278b39acaba6d"
          }
        },
        "8269106570044c4a97b51699f02665db": {
          "model_module": "@jupyter-widgets/controls",
          "model_name": "ProgressStyleModel",
          "state": {
            "_view_name": "StyleView",
            "_model_name": "ProgressStyleModel",
            "description_width": "initial",
            "_view_module": "@jupyter-widgets/base",
            "_model_module_version": "1.5.0",
            "_view_count": null,
            "_view_module_version": "1.2.0",
            "bar_color": null,
            "_model_module": "@jupyter-widgets/controls"
          }
        },
        "4005299425074e0d8a59fa040a8f78cc": {
          "model_module": "@jupyter-widgets/base",
          "model_name": "LayoutModel",
          "state": {
            "_view_name": "LayoutView",
            "grid_template_rows": null,
            "right": null,
            "justify_content": null,
            "_view_module": "@jupyter-widgets/base",
            "overflow": null,
            "_model_module_version": "1.2.0",
            "_view_count": null,
            "flex_flow": null,
            "width": null,
            "min_width": null,
            "border": null,
            "align_items": null,
            "bottom": null,
            "_model_module": "@jupyter-widgets/base",
            "top": null,
            "grid_column": null,
            "overflow_y": null,
            "overflow_x": null,
            "grid_auto_flow": null,
            "grid_area": null,
            "grid_template_columns": null,
            "flex": null,
            "_model_name": "LayoutModel",
            "justify_items": null,
            "grid_row": null,
            "max_height": null,
            "align_content": null,
            "visibility": null,
            "align_self": null,
            "height": null,
            "min_height": null,
            "padding": null,
            "grid_auto_rows": null,
            "grid_gap": null,
            "max_width": null,
            "order": null,
            "_view_module_version": "1.2.0",
            "grid_template_areas": null,
            "object_position": null,
            "object_fit": null,
            "grid_auto_columns": null,
            "margin": null,
            "display": null,
            "left": null
          }
        },
        "adf580f5bbef41a382624ecf0eb5580f": {
          "model_module": "@jupyter-widgets/controls",
          "model_name": "DescriptionStyleModel",
          "state": {
            "_view_name": "StyleView",
            "_model_name": "DescriptionStyleModel",
            "description_width": "",
            "_view_module": "@jupyter-widgets/base",
            "_model_module_version": "1.5.0",
            "_view_count": null,
            "_view_module_version": "1.2.0",
            "_model_module": "@jupyter-widgets/controls"
          }
        },
        "ede11296fe344c7199d278b39acaba6d": {
          "model_module": "@jupyter-widgets/base",
          "model_name": "LayoutModel",
          "state": {
            "_view_name": "LayoutView",
            "grid_template_rows": null,
            "right": null,
            "justify_content": null,
            "_view_module": "@jupyter-widgets/base",
            "overflow": null,
            "_model_module_version": "1.2.0",
            "_view_count": null,
            "flex_flow": null,
            "width": null,
            "min_width": null,
            "border": null,
            "align_items": null,
            "bottom": null,
            "_model_module": "@jupyter-widgets/base",
            "top": null,
            "grid_column": null,
            "overflow_y": null,
            "overflow_x": null,
            "grid_auto_flow": null,
            "grid_area": null,
            "grid_template_columns": null,
            "flex": null,
            "_model_name": "LayoutModel",
            "justify_items": null,
            "grid_row": null,
            "max_height": null,
            "align_content": null,
            "visibility": null,
            "align_self": null,
            "height": null,
            "min_height": null,
            "padding": null,
            "grid_auto_rows": null,
            "grid_gap": null,
            "max_width": null,
            "order": null,
            "_view_module_version": "1.2.0",
            "grid_template_areas": null,
            "object_position": null,
            "object_fit": null,
            "grid_auto_columns": null,
            "margin": null,
            "display": null,
            "left": null
          }
        },
        "8748ae42f96e4727bb477fd854e5a8ba": {
          "model_module": "@jupyter-widgets/controls",
          "model_name": "HBoxModel",
          "state": {
            "_view_name": "HBoxView",
            "_dom_classes": [],
            "_model_name": "HBoxModel",
            "_view_module": "@jupyter-widgets/controls",
            "_model_module_version": "1.5.0",
            "_view_count": null,
            "_view_module_version": "1.5.0",
            "box_style": "",
            "layout": "IPY_MODEL_219ba2a475e24aba9d0614c6d3c590e4",
            "_model_module": "@jupyter-widgets/controls",
            "children": [
              "IPY_MODEL_4b599d5963a240518b42eb24ea16256e",
              "IPY_MODEL_5b3a8c0ed5b8428289629a2ca92bb2df"
            ]
          }
        },
        "219ba2a475e24aba9d0614c6d3c590e4": {
          "model_module": "@jupyter-widgets/base",
          "model_name": "LayoutModel",
          "state": {
            "_view_name": "LayoutView",
            "grid_template_rows": null,
            "right": null,
            "justify_content": null,
            "_view_module": "@jupyter-widgets/base",
            "overflow": null,
            "_model_module_version": "1.2.0",
            "_view_count": null,
            "flex_flow": null,
            "width": null,
            "min_width": null,
            "border": null,
            "align_items": null,
            "bottom": null,
            "_model_module": "@jupyter-widgets/base",
            "top": null,
            "grid_column": null,
            "overflow_y": null,
            "overflow_x": null,
            "grid_auto_flow": null,
            "grid_area": null,
            "grid_template_columns": null,
            "flex": null,
            "_model_name": "LayoutModel",
            "justify_items": null,
            "grid_row": null,
            "max_height": null,
            "align_content": null,
            "visibility": null,
            "align_self": null,
            "height": null,
            "min_height": null,
            "padding": null,
            "grid_auto_rows": null,
            "grid_gap": null,
            "max_width": null,
            "order": null,
            "_view_module_version": "1.2.0",
            "grid_template_areas": null,
            "object_position": null,
            "object_fit": null,
            "grid_auto_columns": null,
            "margin": null,
            "display": null,
            "left": null
          }
        },
        "4b599d5963a240518b42eb24ea16256e": {
          "model_module": "@jupyter-widgets/controls",
          "model_name": "FloatProgressModel",
          "state": {
            "_view_name": "ProgressView",
            "style": "IPY_MODEL_b6ca2165da56490aab1bb576434a5a8b",
            "_dom_classes": [],
            "description": "",
            "_model_name": "FloatProgressModel",
            "bar_style": "success",
            "max": 3,
            "_view_module": "@jupyter-widgets/controls",
            "_model_module_version": "1.5.0",
            "value": 3,
            "_view_count": null,
            "_view_module_version": "1.5.0",
            "orientation": "horizontal",
            "min": 0,
            "description_tooltip": null,
            "_model_module": "@jupyter-widgets/controls",
            "layout": "IPY_MODEL_ef9bb8f0f0274cb098a0dfbf6825c161"
          }
        },
        "5b3a8c0ed5b8428289629a2ca92bb2df": {
          "model_module": "@jupyter-widgets/controls",
          "model_name": "HTMLModel",
          "state": {
            "_view_name": "HTMLView",
            "style": "IPY_MODEL_da5722532a1f47959b08d01e619d11ed",
            "_dom_classes": [],
            "description": "",
            "_model_name": "HTMLModel",
            "placeholder": "​",
            "_view_module": "@jupyter-widgets/controls",
            "_model_module_version": "1.5.0",
            "value": " 4/? [00:55&lt;00:00, 13.91s/it]",
            "_view_count": null,
            "_view_module_version": "1.5.0",
            "description_tooltip": null,
            "_model_module": "@jupyter-widgets/controls",
            "layout": "IPY_MODEL_865c377f70f1468a9ffa97c0c38a3fd9"
          }
        },
        "b6ca2165da56490aab1bb576434a5a8b": {
          "model_module": "@jupyter-widgets/controls",
          "model_name": "ProgressStyleModel",
          "state": {
            "_view_name": "StyleView",
            "_model_name": "ProgressStyleModel",
            "description_width": "initial",
            "_view_module": "@jupyter-widgets/base",
            "_model_module_version": "1.5.0",
            "_view_count": null,
            "_view_module_version": "1.2.0",
            "bar_color": null,
            "_model_module": "@jupyter-widgets/controls"
          }
        },
        "ef9bb8f0f0274cb098a0dfbf6825c161": {
          "model_module": "@jupyter-widgets/base",
          "model_name": "LayoutModel",
          "state": {
            "_view_name": "LayoutView",
            "grid_template_rows": null,
            "right": null,
            "justify_content": null,
            "_view_module": "@jupyter-widgets/base",
            "overflow": null,
            "_model_module_version": "1.2.0",
            "_view_count": null,
            "flex_flow": null,
            "width": null,
            "min_width": null,
            "border": null,
            "align_items": null,
            "bottom": null,
            "_model_module": "@jupyter-widgets/base",
            "top": null,
            "grid_column": null,
            "overflow_y": null,
            "overflow_x": null,
            "grid_auto_flow": null,
            "grid_area": null,
            "grid_template_columns": null,
            "flex": null,
            "_model_name": "LayoutModel",
            "justify_items": null,
            "grid_row": null,
            "max_height": null,
            "align_content": null,
            "visibility": null,
            "align_self": null,
            "height": null,
            "min_height": null,
            "padding": null,
            "grid_auto_rows": null,
            "grid_gap": null,
            "max_width": null,
            "order": null,
            "_view_module_version": "1.2.0",
            "grid_template_areas": null,
            "object_position": null,
            "object_fit": null,
            "grid_auto_columns": null,
            "margin": null,
            "display": null,
            "left": null
          }
        },
        "da5722532a1f47959b08d01e619d11ed": {
          "model_module": "@jupyter-widgets/controls",
          "model_name": "DescriptionStyleModel",
          "state": {
            "_view_name": "StyleView",
            "_model_name": "DescriptionStyleModel",
            "description_width": "",
            "_view_module": "@jupyter-widgets/base",
            "_model_module_version": "1.5.0",
            "_view_count": null,
            "_view_module_version": "1.2.0",
            "_model_module": "@jupyter-widgets/controls"
          }
        },
        "865c377f70f1468a9ffa97c0c38a3fd9": {
          "model_module": "@jupyter-widgets/base",
          "model_name": "LayoutModel",
          "state": {
            "_view_name": "LayoutView",
            "grid_template_rows": null,
            "right": null,
            "justify_content": null,
            "_view_module": "@jupyter-widgets/base",
            "overflow": null,
            "_model_module_version": "1.2.0",
            "_view_count": null,
            "flex_flow": null,
            "width": null,
            "min_width": null,
            "border": null,
            "align_items": null,
            "bottom": null,
            "_model_module": "@jupyter-widgets/base",
            "top": null,
            "grid_column": null,
            "overflow_y": null,
            "overflow_x": null,
            "grid_auto_flow": null,
            "grid_area": null,
            "grid_template_columns": null,
            "flex": null,
            "_model_name": "LayoutModel",
            "justify_items": null,
            "grid_row": null,
            "max_height": null,
            "align_content": null,
            "visibility": null,
            "align_self": null,
            "height": null,
            "min_height": null,
            "padding": null,
            "grid_auto_rows": null,
            "grid_gap": null,
            "max_width": null,
            "order": null,
            "_view_module_version": "1.2.0",
            "grid_template_areas": null,
            "object_position": null,
            "object_fit": null,
            "grid_auto_columns": null,
            "margin": null,
            "display": null,
            "left": null
          }
        }
      }
    }
  },
  "cells": [
    {
      "cell_type": "markdown",
      "metadata": {
        "id": "view-in-github",
        "colab_type": "text"
      },
      "source": [
        "<a href=\"https://colab.research.google.com/github/Mehrab-Tanjim/Eluvio_DS_Challenge/blob/main/Eluvio_DS_Challenge.ipynb\" target=\"_parent\"><img src=\"https://colab.research.google.com/assets/colab-badge.svg\" alt=\"Open In Colab\"/></a>"
      ]
    },
    {
      "cell_type": "markdown",
      "metadata": {
        "id": "gJHs7uNN7oVw"
      },
      "source": [
        "## Table of Contents\n",
        "* [Loading Large Dataset](#p1)\n",
        "* [Initial Analysis](#p2)\n",
        "* [Formulating a Predictive Task w/ a Business Objective](#p3)\n",
        "* [Machine Learning Pipeline](#p4)\n",
        "* [Model Deployment and Prediction](#p5)\n",
        "* [Conclusion](#p6)\n"
      ]
    },
    {
      "cell_type": "markdown",
      "metadata": {
        "id": "rsgKMyEO68-3"
      },
      "source": [
        "## <a name=\"p1\"></a>Loading Large Dataset"
      ]
    },
    {
      "cell_type": "markdown",
      "metadata": {
        "id": "YPsNHPLybzdT"
      },
      "source": [
        "### Importing standard libraries"
      ]
    },
    {
      "cell_type": "code",
      "metadata": {
        "id": "ek_EPML1dbvG"
      },
      "source": [
        "import matplotlib.pylab as plt\n",
        "from datetime import datetime\n",
        "import pandas as pd\n",
        "import numpy as np\n",
        "import gdown\n",
        "import seaborn as sns\n",
        "sns.set_theme()\n",
        "import warnings\n",
        "warnings.filterwarnings('ignore')\n",
        "from random import shuffle"
      ],
      "execution_count": null,
      "outputs": []
    },
    {
      "cell_type": "markdown",
      "metadata": {
        "id": "gP9GOT7-q1hq"
      },
      "source": [
        "Our first assumption is the dataset is large and thus cannot be loaded into memory. Thus we need to read it by chunks. Fortunately, there are scalable and efficient libraries available for analyzing large dataset (e.g. PySpark, Dask, etc.). Before using them though, lets assume the dataset is available in our local path.\n"
      ]
    },
    {
      "cell_type": "markdown",
      "metadata": {
        "id": "BCjlCb2xqYAi"
      },
      "source": [
        "### Downloading the dataset"
      ]
    },
    {
      "cell_type": "code",
      "metadata": {
        "id": "jXd-UhvpoPQP"
      },
      "source": [
        "url = 'https://drive.google.com/uc?id=15X00ZWBjla7qGOIW33j8865QdF89IyAk'\n",
        "output = 'Eluvio_DS_challenge.csv'"
      ],
      "execution_count": null,
      "outputs": []
    },
    {
      "cell_type": "code",
      "metadata": {
        "colab": {
          "base_uri": "https://localhost:8080/",
          "height": 102
        },
        "id": "evCc7-gGoYhA",
        "outputId": "e9484ee8-04d5-4abf-d756-75fa2b2384e7"
      },
      "source": [
        "gdown.download(url, output, quiet=False) "
      ],
      "execution_count": null,
      "outputs": [
        {
          "output_type": "stream",
          "text": [
            "Downloading...\n",
            "From: https://drive.google.com/uc?id=15X00ZWBjla7qGOIW33j8865QdF89IyAk\n",
            "To: /content/Eluvio_DS_challenge.csv\n",
            "82.2MB [00:00, 156MB/s]\n"
          ],
          "name": "stderr"
        },
        {
          "output_type": "execute_result",
          "data": {
            "application/vnd.google.colaboratory.intrinsic+json": {
              "type": "string"
            },
            "text/plain": [
              "'Eluvio_DS_challenge.csv'"
            ]
          },
          "metadata": {
            "tags": []
          },
          "execution_count": 3
        }
      ]
    },
    {
      "cell_type": "markdown",
      "metadata": {
        "id": "O3NHrq678xU7"
      },
      "source": [
        "### Using Dask framework\n",
        "\n",
        "In this notebook, we will use one of the large-scale data analysis libraries, namely Dask, which allows distributed computing like PySpark and has similar *Pandas dataframe* commands. It also integrates nicely with other python machine learning libraries such scikit-learn, pytorch, etc. "
      ]
    },
    {
      "cell_type": "code",
      "metadata": {
        "id": "fG_1zNTioZrH"
      },
      "source": [
        "!pip -q install distributed dask[complete] dask-ml[complete] --upgrade"
      ],
      "execution_count": null,
      "outputs": []
    },
    {
      "cell_type": "code",
      "metadata": {
        "id": "jO1FqZTEeIcj"
      },
      "source": [
        "import dask.dataframe as dd"
      ],
      "execution_count": null,
      "outputs": []
    },
    {
      "cell_type": "code",
      "metadata": {
        "id": "8SG7aQJIphUG"
      },
      "source": [
        "filename = 'Eluvio_DS_challenge.csv'\n",
        "ddf = dd.read_csv(filename, blocksize=25e6) #assuming the dataset is large, read 25 MB block at a time"
      ],
      "execution_count": null,
      "outputs": []
    },
    {
      "cell_type": "code",
      "metadata": {
        "colab": {
          "base_uri": "https://localhost:8080/",
          "height": 345
        },
        "id": "abACZ25_puGn",
        "outputId": "f622b8de-babb-4d2a-b4f2-a7e8d8d5a734"
      },
      "source": [
        "ddf.head(10)"
      ],
      "execution_count": null,
      "outputs": [
        {
          "output_type": "execute_result",
          "data": {
            "text/html": [
              "<div>\n",
              "<style scoped>\n",
              "    .dataframe tbody tr th:only-of-type {\n",
              "        vertical-align: middle;\n",
              "    }\n",
              "\n",
              "    .dataframe tbody tr th {\n",
              "        vertical-align: top;\n",
              "    }\n",
              "\n",
              "    .dataframe thead th {\n",
              "        text-align: right;\n",
              "    }\n",
              "</style>\n",
              "<table border=\"1\" class=\"dataframe\">\n",
              "  <thead>\n",
              "    <tr style=\"text-align: right;\">\n",
              "      <th></th>\n",
              "      <th>time_created</th>\n",
              "      <th>date_created</th>\n",
              "      <th>up_votes</th>\n",
              "      <th>down_votes</th>\n",
              "      <th>title</th>\n",
              "      <th>over_18</th>\n",
              "      <th>author</th>\n",
              "      <th>category</th>\n",
              "    </tr>\n",
              "  </thead>\n",
              "  <tbody>\n",
              "    <tr>\n",
              "      <th>0</th>\n",
              "      <td>1201232046</td>\n",
              "      <td>2008-01-25</td>\n",
              "      <td>3</td>\n",
              "      <td>0</td>\n",
              "      <td>Scores killed in Pakistan clashes</td>\n",
              "      <td>False</td>\n",
              "      <td>polar</td>\n",
              "      <td>worldnews</td>\n",
              "    </tr>\n",
              "    <tr>\n",
              "      <th>1</th>\n",
              "      <td>1201232075</td>\n",
              "      <td>2008-01-25</td>\n",
              "      <td>2</td>\n",
              "      <td>0</td>\n",
              "      <td>Japan resumes refuelling mission</td>\n",
              "      <td>False</td>\n",
              "      <td>polar</td>\n",
              "      <td>worldnews</td>\n",
              "    </tr>\n",
              "    <tr>\n",
              "      <th>2</th>\n",
              "      <td>1201232523</td>\n",
              "      <td>2008-01-25</td>\n",
              "      <td>3</td>\n",
              "      <td>0</td>\n",
              "      <td>US presses Egypt on Gaza border</td>\n",
              "      <td>False</td>\n",
              "      <td>polar</td>\n",
              "      <td>worldnews</td>\n",
              "    </tr>\n",
              "    <tr>\n",
              "      <th>3</th>\n",
              "      <td>1201233290</td>\n",
              "      <td>2008-01-25</td>\n",
              "      <td>1</td>\n",
              "      <td>0</td>\n",
              "      <td>Jump-start economy: Give health care to all</td>\n",
              "      <td>False</td>\n",
              "      <td>fadi420</td>\n",
              "      <td>worldnews</td>\n",
              "    </tr>\n",
              "    <tr>\n",
              "      <th>4</th>\n",
              "      <td>1201274720</td>\n",
              "      <td>2008-01-25</td>\n",
              "      <td>4</td>\n",
              "      <td>0</td>\n",
              "      <td>Council of Europe bashes EU&amp;UN terror blacklist</td>\n",
              "      <td>False</td>\n",
              "      <td>mhermans</td>\n",
              "      <td>worldnews</td>\n",
              "    </tr>\n",
              "    <tr>\n",
              "      <th>5</th>\n",
              "      <td>1201287889</td>\n",
              "      <td>2008-01-25</td>\n",
              "      <td>15</td>\n",
              "      <td>0</td>\n",
              "      <td>Hay presto! Farmer unveils the  illegal  mock-...</td>\n",
              "      <td>False</td>\n",
              "      <td>Armagedonovich</td>\n",
              "      <td>worldnews</td>\n",
              "    </tr>\n",
              "    <tr>\n",
              "      <th>6</th>\n",
              "      <td>1201289438</td>\n",
              "      <td>2008-01-25</td>\n",
              "      <td>5</td>\n",
              "      <td>0</td>\n",
              "      <td>Strikes, Protests and Gridlock at the Poland-U...</td>\n",
              "      <td>False</td>\n",
              "      <td>Clythos</td>\n",
              "      <td>worldnews</td>\n",
              "    </tr>\n",
              "    <tr>\n",
              "      <th>7</th>\n",
              "      <td>1201536662</td>\n",
              "      <td>2008-01-28</td>\n",
              "      <td>0</td>\n",
              "      <td>0</td>\n",
              "      <td>The U.N. Mismanagement Program</td>\n",
              "      <td>False</td>\n",
              "      <td>Moldavite</td>\n",
              "      <td>worldnews</td>\n",
              "    </tr>\n",
              "    <tr>\n",
              "      <th>8</th>\n",
              "      <td>1201558396</td>\n",
              "      <td>2008-01-28</td>\n",
              "      <td>4</td>\n",
              "      <td>0</td>\n",
              "      <td>Nicolas Sarkozy threatens to sue Ryanair</td>\n",
              "      <td>False</td>\n",
              "      <td>Moldavite</td>\n",
              "      <td>worldnews</td>\n",
              "    </tr>\n",
              "    <tr>\n",
              "      <th>9</th>\n",
              "      <td>1201635869</td>\n",
              "      <td>2008-01-29</td>\n",
              "      <td>3</td>\n",
              "      <td>0</td>\n",
              "      <td>US plans for missile shields in Polish town me...</td>\n",
              "      <td>False</td>\n",
              "      <td>JoeyRamone63</td>\n",
              "      <td>worldnews</td>\n",
              "    </tr>\n",
              "  </tbody>\n",
              "</table>\n",
              "</div>"
            ],
            "text/plain": [
              "   time_created date_created  up_votes  ...  over_18          author   category\n",
              "0    1201232046   2008-01-25         3  ...    False           polar  worldnews\n",
              "1    1201232075   2008-01-25         2  ...    False           polar  worldnews\n",
              "2    1201232523   2008-01-25         3  ...    False           polar  worldnews\n",
              "3    1201233290   2008-01-25         1  ...    False         fadi420  worldnews\n",
              "4    1201274720   2008-01-25         4  ...    False        mhermans  worldnews\n",
              "5    1201287889   2008-01-25        15  ...    False  Armagedonovich  worldnews\n",
              "6    1201289438   2008-01-25         5  ...    False         Clythos  worldnews\n",
              "7    1201536662   2008-01-28         0  ...    False       Moldavite  worldnews\n",
              "8    1201558396   2008-01-28         4  ...    False       Moldavite  worldnews\n",
              "9    1201635869   2008-01-29         3  ...    False    JoeyRamone63  worldnews\n",
              "\n",
              "[10 rows x 8 columns]"
            ]
          },
          "metadata": {
            "tags": []
          },
          "execution_count": 7
        }
      ]
    },
    {
      "cell_type": "code",
      "metadata": {
        "id": "kPTZEOKxp2KL"
      },
      "source": [
        "numerical_descriptors = ddf.describe().compute()"
      ],
      "execution_count": null,
      "outputs": []
    },
    {
      "cell_type": "code",
      "metadata": {
        "colab": {
          "base_uri": "https://localhost:8080/",
          "height": 286
        },
        "id": "UwxU7HaiuknF",
        "outputId": "b2b33cca-80ca-4ed7-de7d-3f77c8ba2f77"
      },
      "source": [
        "numerical_descriptors"
      ],
      "execution_count": null,
      "outputs": [
        {
          "output_type": "execute_result",
          "data": {
            "text/html": [
              "<div>\n",
              "<style scoped>\n",
              "    .dataframe tbody tr th:only-of-type {\n",
              "        vertical-align: middle;\n",
              "    }\n",
              "\n",
              "    .dataframe tbody tr th {\n",
              "        vertical-align: top;\n",
              "    }\n",
              "\n",
              "    .dataframe thead th {\n",
              "        text-align: right;\n",
              "    }\n",
              "</style>\n",
              "<table border=\"1\" class=\"dataframe\">\n",
              "  <thead>\n",
              "    <tr style=\"text-align: right;\">\n",
              "      <th></th>\n",
              "      <th>time_created</th>\n",
              "      <th>up_votes</th>\n",
              "      <th>down_votes</th>\n",
              "    </tr>\n",
              "  </thead>\n",
              "  <tbody>\n",
              "    <tr>\n",
              "      <th>count</th>\n",
              "      <td>5.092360e+05</td>\n",
              "      <td>509236.000000</td>\n",
              "      <td>509236.0</td>\n",
              "    </tr>\n",
              "    <tr>\n",
              "      <th>mean</th>\n",
              "      <td>1.380240e+09</td>\n",
              "      <td>112.236283</td>\n",
              "      <td>0.0</td>\n",
              "    </tr>\n",
              "    <tr>\n",
              "      <th>std</th>\n",
              "      <td>7.090436e+07</td>\n",
              "      <td>541.694675</td>\n",
              "      <td>0.0</td>\n",
              "    </tr>\n",
              "    <tr>\n",
              "      <th>min</th>\n",
              "      <td>1.201232e+09</td>\n",
              "      <td>0.000000</td>\n",
              "      <td>0.0</td>\n",
              "    </tr>\n",
              "    <tr>\n",
              "      <th>25%</th>\n",
              "      <td>1.330737e+09</td>\n",
              "      <td>2.000000</td>\n",
              "      <td>0.0</td>\n",
              "    </tr>\n",
              "    <tr>\n",
              "      <th>50%</th>\n",
              "      <td>1.385386e+09</td>\n",
              "      <td>5.000000</td>\n",
              "      <td>0.0</td>\n",
              "    </tr>\n",
              "    <tr>\n",
              "      <th>75%</th>\n",
              "      <td>1.424695e+09</td>\n",
              "      <td>20.000000</td>\n",
              "      <td>0.0</td>\n",
              "    </tr>\n",
              "    <tr>\n",
              "      <th>max</th>\n",
              "      <td>1.479817e+09</td>\n",
              "      <td>21253.000000</td>\n",
              "      <td>0.0</td>\n",
              "    </tr>\n",
              "  </tbody>\n",
              "</table>\n",
              "</div>"
            ],
            "text/plain": [
              "       time_created       up_votes  down_votes\n",
              "count  5.092360e+05  509236.000000    509236.0\n",
              "mean   1.380240e+09     112.236283         0.0\n",
              "std    7.090436e+07     541.694675         0.0\n",
              "min    1.201232e+09       0.000000         0.0\n",
              "25%    1.330737e+09       2.000000         0.0\n",
              "50%    1.385386e+09       5.000000         0.0\n",
              "75%    1.424695e+09      20.000000         0.0\n",
              "max    1.479817e+09   21253.000000         0.0"
            ]
          },
          "metadata": {
            "tags": []
          },
          "execution_count": 9
        }
      ]
    },
    {
      "cell_type": "markdown",
      "metadata": {
        "id": "38OGtwbL8YWR"
      },
      "source": [
        "## <a name=\"p2\"></a>Initial Analysis"
      ]
    },
    {
      "cell_type": "markdown",
      "metadata": {
        "id": "8eFW1qsvFaA2"
      },
      "source": [
        "### Uniqueness\n",
        "\n",
        "The dataset seems to contain following features: ***time_created, date_created, up_votes, down_votes, title, over_18, author, category***. A brief preview of the dataset implies that the each record contains the title of a news article along with its author and some metadata such as date posted, up/down votes it received, and whether it is intended for mature audience. It also seems that there are no ***down_votes*** and all records tend to have same values for ***over_18 and category***. Lets check for uniqueness to test this.\n",
        "\n"
      ]
    },
    {
      "cell_type": "code",
      "metadata": {
        "colab": {
          "base_uri": "https://localhost:8080/"
        },
        "id": "miK3hXIfuYCX",
        "outputId": "7daf628e-ddf0-4a30-f4ae-86a13e8a4e8d"
      },
      "source": [
        "ddf['over_18'].unique().compute()"
      ],
      "execution_count": null,
      "outputs": [
        {
          "output_type": "execute_result",
          "data": {
            "text/plain": [
              "0    False\n",
              "1     True\n",
              "Name: over_18, dtype: bool"
            ]
          },
          "metadata": {
            "tags": []
          },
          "execution_count": 10
        }
      ]
    },
    {
      "cell_type": "code",
      "metadata": {
        "colab": {
          "base_uri": "https://localhost:8080/"
        },
        "id": "iOSD5k0FEEFD",
        "outputId": "a4b18d98-a433-42dd-d7e3-8b4b64580b60"
      },
      "source": [
        "ddf[ddf['over_18']==True].shape[0].compute()"
      ],
      "execution_count": null,
      "outputs": [
        {
          "output_type": "execute_result",
          "data": {
            "text/plain": [
              "320"
            ]
          },
          "metadata": {
            "tags": []
          },
          "execution_count": 11
        }
      ]
    },
    {
      "cell_type": "code",
      "metadata": {
        "colab": {
          "base_uri": "https://localhost:8080/"
        },
        "id": "d81HOCs4ENh3",
        "outputId": "c50e5ff2-665d-436b-ce66-7b67ee202657"
      },
      "source": [
        "ddf[ddf['over_18']==False].shape[0].compute()"
      ],
      "execution_count": null,
      "outputs": [
        {
          "output_type": "execute_result",
          "data": {
            "text/plain": [
              "508916"
            ]
          },
          "metadata": {
            "tags": []
          },
          "execution_count": 12
        }
      ]
    },
    {
      "cell_type": "code",
      "metadata": {
        "colab": {
          "base_uri": "https://localhost:8080/"
        },
        "id": "Th28oQI2ueFf",
        "outputId": "f3ef1031-ce1c-4168-a813-6cbe260781eb"
      },
      "source": [
        "ddf['category'].unique().compute()"
      ],
      "execution_count": null,
      "outputs": [
        {
          "output_type": "execute_result",
          "data": {
            "text/plain": [
              "0    worldnews\n",
              "Name: category, dtype: object"
            ]
          },
          "metadata": {
            "tags": []
          },
          "execution_count": 13
        }
      ]
    },
    {
      "cell_type": "markdown",
      "metadata": {
        "id": "2Jyvlr3gukB9"
      },
      "source": [
        "It seems all records belong to ***worldnews*** category, and very few records are intended for mature audience. Similarly, we can check if our titles are unique. Practically speaking, the titles should be unique but if there are redundancies, it might be worth looking into those examples before discarding them as duplicates."
      ]
    },
    {
      "cell_type": "code",
      "metadata": {
        "id": "rnaRf92kzes4"
      },
      "source": [
        "ddf_filter = ddf['title'].value_counts().map(lambda x: x > 1)\n",
        "ddf_dup_title = ddf[ddf[\"title\"].isin(list(ddf_filter[ddf_filter].index))]"
      ],
      "execution_count": null,
      "outputs": []
    },
    {
      "cell_type": "code",
      "metadata": {
        "colab": {
          "base_uri": "https://localhost:8080/",
          "height": 345
        },
        "id": "aUkaxq-02uBo",
        "outputId": "dfebee5e-be01-43f5-e3ee-41bc522bcc7e"
      },
      "source": [
        "ddf_dup_title.head(10)"
      ],
      "execution_count": null,
      "outputs": [
        {
          "output_type": "execute_result",
          "data": {
            "text/html": [
              "<div>\n",
              "<style scoped>\n",
              "    .dataframe tbody tr th:only-of-type {\n",
              "        vertical-align: middle;\n",
              "    }\n",
              "\n",
              "    .dataframe tbody tr th {\n",
              "        vertical-align: top;\n",
              "    }\n",
              "\n",
              "    .dataframe thead th {\n",
              "        text-align: right;\n",
              "    }\n",
              "</style>\n",
              "<table border=\"1\" class=\"dataframe\">\n",
              "  <thead>\n",
              "    <tr style=\"text-align: right;\">\n",
              "      <th></th>\n",
              "      <th>time_created</th>\n",
              "      <th>date_created</th>\n",
              "      <th>up_votes</th>\n",
              "      <th>down_votes</th>\n",
              "      <th>title</th>\n",
              "      <th>over_18</th>\n",
              "      <th>author</th>\n",
              "      <th>category</th>\n",
              "    </tr>\n",
              "  </thead>\n",
              "  <tbody>\n",
              "    <tr>\n",
              "      <th>155</th>\n",
              "      <td>1202885193</td>\n",
              "      <td>2008-02-13</td>\n",
              "      <td>1</td>\n",
              "      <td>0</td>\n",
              "      <td>Australia apologizes to Aborigines</td>\n",
              "      <td>False</td>\n",
              "      <td>emoticon</td>\n",
              "      <td>worldnews</td>\n",
              "    </tr>\n",
              "    <tr>\n",
              "      <th>156</th>\n",
              "      <td>1202892267</td>\n",
              "      <td>2008-02-13</td>\n",
              "      <td>2</td>\n",
              "      <td>0</td>\n",
              "      <td>Australia apologizes to Aborigines</td>\n",
              "      <td>False</td>\n",
              "      <td>stonecold</td>\n",
              "      <td>worldnews</td>\n",
              "    </tr>\n",
              "    <tr>\n",
              "      <th>442</th>\n",
              "      <td>1203871087</td>\n",
              "      <td>2008-02-24</td>\n",
              "      <td>0</td>\n",
              "      <td>0</td>\n",
              "      <td>Pakistan Blocks YouTube</td>\n",
              "      <td>False</td>\n",
              "      <td>twolf1</td>\n",
              "      <td>worldnews</td>\n",
              "    </tr>\n",
              "    <tr>\n",
              "      <th>453</th>\n",
              "      <td>1203893169</td>\n",
              "      <td>2008-02-24</td>\n",
              "      <td>0</td>\n",
              "      <td>0</td>\n",
              "      <td>Pakistan Blocks YouTube</td>\n",
              "      <td>False</td>\n",
              "      <td>BravoLima</td>\n",
              "      <td>worldnews</td>\n",
              "    </tr>\n",
              "    <tr>\n",
              "      <th>589</th>\n",
              "      <td>1204210343</td>\n",
              "      <td>2008-02-28</td>\n",
              "      <td>7</td>\n",
              "      <td>0</td>\n",
              "      <td>China considers ending one-child policy</td>\n",
              "      <td>False</td>\n",
              "      <td>stubble</td>\n",
              "      <td>worldnews</td>\n",
              "    </tr>\n",
              "    <tr>\n",
              "      <th>623</th>\n",
              "      <td>1204297833</td>\n",
              "      <td>2008-02-29</td>\n",
              "      <td>91</td>\n",
              "      <td>0</td>\n",
              "      <td>China considers ending one-child policy</td>\n",
              "      <td>False</td>\n",
              "      <td>rjonesx</td>\n",
              "      <td>worldnews</td>\n",
              "    </tr>\n",
              "    <tr>\n",
              "      <th>1071</th>\n",
              "      <td>1205216420</td>\n",
              "      <td>2008-03-11</td>\n",
              "      <td>2</td>\n",
              "      <td>0</td>\n",
              "      <td>China detains dozens of Tibetan monks after pr...</td>\n",
              "      <td>False</td>\n",
              "      <td>markansoul</td>\n",
              "      <td>worldnews</td>\n",
              "    </tr>\n",
              "    <tr>\n",
              "      <th>1072</th>\n",
              "      <td>1205217150</td>\n",
              "      <td>2008-03-11</td>\n",
              "      <td>2</td>\n",
              "      <td>0</td>\n",
              "      <td>China detains dozens of Tibetan monks after pr...</td>\n",
              "      <td>False</td>\n",
              "      <td>ramblasos</td>\n",
              "      <td>worldnews</td>\n",
              "    </tr>\n",
              "    <tr>\n",
              "      <th>1244</th>\n",
              "      <td>1205537286</td>\n",
              "      <td>2008-03-14</td>\n",
              "      <td>23</td>\n",
              "      <td>0</td>\n",
              "      <td>Chavez Says US Can  Shove  Terror List</td>\n",
              "      <td>False</td>\n",
              "      <td>pianist</td>\n",
              "      <td>worldnews</td>\n",
              "    </tr>\n",
              "    <tr>\n",
              "      <th>1266</th>\n",
              "      <td>1205597660</td>\n",
              "      <td>2008-03-15</td>\n",
              "      <td>5</td>\n",
              "      <td>0</td>\n",
              "      <td>Chavez Says US Can  Shove  Terror List</td>\n",
              "      <td>False</td>\n",
              "      <td>cptnlazer</td>\n",
              "      <td>worldnews</td>\n",
              "    </tr>\n",
              "  </tbody>\n",
              "</table>\n",
              "</div>"
            ],
            "text/plain": [
              "      time_created date_created  up_votes  ...  over_18      author   category\n",
              "155     1202885193   2008-02-13         1  ...    False    emoticon  worldnews\n",
              "156     1202892267   2008-02-13         2  ...    False   stonecold  worldnews\n",
              "442     1203871087   2008-02-24         0  ...    False      twolf1  worldnews\n",
              "453     1203893169   2008-02-24         0  ...    False   BravoLima  worldnews\n",
              "589     1204210343   2008-02-28         7  ...    False     stubble  worldnews\n",
              "623     1204297833   2008-02-29        91  ...    False     rjonesx  worldnews\n",
              "1071    1205216420   2008-03-11         2  ...    False  markansoul  worldnews\n",
              "1072    1205217150   2008-03-11         2  ...    False   ramblasos  worldnews\n",
              "1244    1205537286   2008-03-14        23  ...    False     pianist  worldnews\n",
              "1266    1205597660   2008-03-15         5  ...    False   cptnlazer  worldnews\n",
              "\n",
              "[10 rows x 8 columns]"
            ]
          },
          "metadata": {
            "tags": []
          },
          "execution_count": 15
        }
      ]
    },
    {
      "cell_type": "code",
      "metadata": {
        "colab": {
          "base_uri": "https://localhost:8080/"
        },
        "id": "yJkj7X8s5v5N",
        "outputId": "86c966b0-3075-4be0-816e-04be1a5f47e4"
      },
      "source": [
        "len(ddf_dup_title.title.compute())"
      ],
      "execution_count": null,
      "outputs": [
        {
          "output_type": "execute_result",
          "data": {
            "text/plain": [
              "16241"
            ]
          },
          "metadata": {
            "tags": []
          },
          "execution_count": 16
        }
      ]
    },
    {
      "cell_type": "code",
      "metadata": {
        "colab": {
          "base_uri": "https://localhost:8080/"
        },
        "id": "ohu8MnsNDddz",
        "outputId": "05d67e11-3c19-4566-abfa-bbd6b9f4e0c3"
      },
      "source": [
        "len(ddf_dup_title.title.drop_duplicates().compute())"
      ],
      "execution_count": null,
      "outputs": [
        {
          "output_type": "execute_result",
          "data": {
            "text/plain": [
              "7725"
            ]
          },
          "metadata": {
            "tags": []
          },
          "execution_count": 17
        }
      ]
    },
    {
      "cell_type": "markdown",
      "metadata": {
        "id": "5Pb-6JAC4c98"
      },
      "source": [
        "Seems like the titles are not unique. Further inspection into the a preview of the duplicate title entries reveal that they have different authors, times and up votes. This suggests that the record in our dataset mimics the reddit post mechanism, where users can share the original post and its up votes can either increase or decrease depending on other factors. Let's do some further analysis before coming up with a predictive task that may have some business use-cases."
      ]
    },
    {
      "cell_type": "markdown",
      "metadata": {
        "id": "4IqULtqRFpf1"
      },
      "source": [
        "### Up votes analysis\n",
        "\n",
        "One of the numerical column of the dataset is up votes, and this can be used as a depenedable variable in predictive modeling tasks. So, we will do some analysis on up votes based on other columns in our dataset."
      ]
    },
    {
      "cell_type": "markdown",
      "metadata": {
        "id": "fdHoueDCG2Bo"
      },
      "source": [
        "#### Visualizing up votes over time\n",
        "\n",
        "As the dataset is assumed to be large, we can sample a fraction of the dataset for visualization purpose. Alternatively, we can also use large-scale visualization libraries such as *Datashader*. But in this notebook, we will use the former technique and sample 10% of the data (this should vary depending on the dataset size)."
      ]
    },
    {
      "cell_type": "code",
      "metadata": {
        "colab": {
          "base_uri": "https://localhost:8080/",
          "height": 380
        },
        "id": "ZCuyx__ERz0p",
        "outputId": "7984c354-caf6-4823-c618-b2a7a3c362c9"
      },
      "source": [
        "g= sns.pairplot(x_vars='time_created', y_vars='up_votes', data=ddf.sample(frac=0.1).compute())\n",
        "g.fig.set_size_inches(15,5)\n",
        "ax = plt.gca()\n",
        "ax.set_xticklabels([datetime.utcfromtimestamp(tm).strftime('%Y-%m-%d\\n %H:%M:%S') for tm in ax.get_xticks()],\n",
        " rotation=50)\n",
        "plt.show()"
      ],
      "execution_count": null,
      "outputs": [
        {
          "output_type": "display_data",
          "data": {
            "image/png": "[encoded data removed]",
            "text/plain": [
              "<Figure size 1080x360 with 1 Axes>"
            ]
          },
          "metadata": {
            "tags": [],
            "needs_background": "light"
          }
        }
      ]
    },
    {
      "cell_type": "markdown",
      "metadata": {
        "id": "lbN5itOiH-IJ"
      },
      "source": [
        "This reveals an interesting pattern. It shows, as time progresses, the maximum up vote a post receives also increases. This makes sense for a web-based service, such as reddit, because **the platform over time can gain more active users and thus posts in later times can receive more user's votes than posts in earlier times.** Although there is no information to active users against timestamp, we can get a sense this is the case by analyzing unique number of authors in yearly fashion."
      ]
    },
    {
      "cell_type": "code",
      "metadata": {
        "id": "toY7jqBwKdEo"
      },
      "source": [
        "ddf['year'] = ddf.apply(lambda row: datetime.utcfromtimestamp(row['time_created']).strftime(\"%Y\"), axis=1, meta=int)"
      ],
      "execution_count": null,
      "outputs": []
    },
    {
      "cell_type": "code",
      "metadata": {
        "id": "iYFRNFjILP39"
      },
      "source": [
        "unique_authors_yearly = ddf.drop_duplicates(subset=['author']).groupby('year')['author'].count().compute()"
      ],
      "execution_count": null,
      "outputs": []
    },
    {
      "cell_type": "code",
      "metadata": {
        "colab": {
          "base_uri": "https://localhost:8080/",
          "height": 302
        },
        "id": "THZBWgWfPhQN",
        "outputId": "88a07435-0897-428d-d1c9-06971308286d"
      },
      "source": [
        "plt.figure(figsize=(8,4))\n",
        "\n",
        "plt.rcParams.update({'font.size': 10})\n",
        "plt.plot(unique_authors_yearly.index, unique_authors_yearly.values)\n",
        "\n",
        "plt.plot(unique_authors_yearly.index, unique_authors_yearly.cumsum().values)\n",
        "plt.legend(['unique_authors', 'cumulative sum'])\n",
        "plt.xlabel('Year')\n",
        "plt.ylabel('Total')"
      ],
      "execution_count": null,
      "outputs": [
        {
          "output_type": "execute_result",
          "data": {
            "text/plain": [
              "Text(0, 0.5, 'Total')"
            ]
          },
          "metadata": {
            "tags": []
          },
          "execution_count": 21
        },
        {
          "output_type": "display_data",
          "data": {
            "image/png": "[encoded data removed]",
            "text/plain": [
              "<Figure size 576x288 with 1 Axes>"
            ]
          },
          "metadata": {
            "tags": [],
            "needs_background": "light"
          }
        }
      ]
    },
    {
      "cell_type": "markdown",
      "metadata": {
        "id": "ji52ncylSCHK"
      },
      "source": [
        "This graph tells us that each year number of unique author (from the beginning of the time) increases in almost in a linear fashion. Based on this, we can make an assumption that number of users also increases in the platform which can explain the high number of up votes in recent years. \n",
        "\n",
        "If we want to make a predictive model of up votes, we need to take this information in consideration to encounter the high discrepencies. We can follow one of the following ways:\n",
        "1. Normalize the vote counts: we can normalize the vote counts based on time period so that the highest up voted title in earlier times can stay on top in later times as well.\n",
        "\n",
        "2. Log transform: As the up votes vary widely, we can log tranform the vote counts. This however wil not guarantee that eariler top rated titles can stay on top.\n",
        "\n",
        "In the following, we will do some analysis on both transformation of the up votes. But first, let's perform the transformation."
      ]
    },
    {
      "cell_type": "code",
      "metadata": {
        "id": "r1NTvpeEZjfR"
      },
      "source": [
        "# This pandas command wont work on dask dataframe \n",
        "# ddf.groupby('year')['up_votes'].transform(lambda x: (x - x.mean()) / x.std())\n",
        "# so we will do a little work around\n",
        "z_info_group = ddf.groupby('year').agg({'up_votes': ['mean', 'std']}).compute()"
      ],
      "execution_count": null,
      "outputs": []
    },
    {
      "cell_type": "code",
      "metadata": {
        "id": "0EJ-GGkHcxGd"
      },
      "source": [
        "ddf['normalized_ups'] = ddf.apply(lambda row: (row['up_votes']-z_info_group['up_votes']['mean'][row['year']])/z_info_group['up_votes']['std'][row['year']], axis=1, meta=float)"
      ],
      "execution_count": null,
      "outputs": []
    },
    {
      "cell_type": "code",
      "metadata": {
        "id": "lWkMp4nTi5e0"
      },
      "source": [
        "ddf = ddf.persist() #persis the transformation across partition"
      ],
      "execution_count": null,
      "outputs": []
    },
    {
      "cell_type": "code",
      "metadata": {
        "colab": {
          "base_uri": "https://localhost:8080/",
          "height": 380
        },
        "id": "hGfXI-cDfuUl",
        "outputId": "42c4abf9-7450-4d62-ce2b-0562739d2e95"
      },
      "source": [
        "g= sns.pairplot(x_vars='time_created', y_vars='normalized_ups', data=ddf.sample(frac=0.1).compute())\n",
        "g.fig.set_size_inches(15,5)\n",
        "ax = plt.gca()\n",
        "ax.set_xticklabels([datetime.utcfromtimestamp(tm).strftime('%Y-%m-%d\\n %H:%M:%S') for tm in ax.get_xticks()],\n",
        " rotation=50)\n",
        "plt.show()"
      ],
      "execution_count": null,
      "outputs": [
        {
          "output_type": "display_data",
          "data": {
            "image/png": "[encoded data removed]",
            "text/plain": [
              "<Figure size 1080x360 with 1 Axes>"
            ]
          },
          "metadata": {
            "tags": [],
            "needs_background": "light"
          }
        }
      ]
    },
    {
      "cell_type": "code",
      "metadata": {
        "id": "dg-ip9eMk7QW"
      },
      "source": [
        "ddf['log_ups'] = ddf.apply(lambda row: np.log1p(row['up_votes']), axis=1, meta=float)"
      ],
      "execution_count": null,
      "outputs": []
    },
    {
      "cell_type": "code",
      "metadata": {
        "colab": {
          "base_uri": "https://localhost:8080/",
          "height": 380
        },
        "id": "qYpOwwo3OMHw",
        "outputId": "ea6e2d3f-da96-442c-a895-8f3bb327ef07"
      },
      "source": [
        "g= sns.pairplot(x_vars='time_created', y_vars='log_ups', data=ddf.sample(frac=0.1).compute())\n",
        "g.fig.set_size_inches(15,5)\n",
        "ax = plt.gca()\n",
        "ax.set_xticklabels([datetime.utcfromtimestamp(tm).strftime('%Y-%m-%d\\n %H:%M:%S') for tm in ax.get_xticks()],\n",
        " rotation=50)\n",
        "plt.show()"
      ],
      "execution_count": null,
      "outputs": [
        {
          "output_type": "display_data",
          "data": {
            "image/png": "[encoded data removed]",
            "text/plain": [
              "<Figure size 1080x360 with 1 Axes>"
            ]
          },
          "metadata": {
            "tags": [],
            "needs_background": "light"
          }
        }
      ]
    },
    {
      "cell_type": "markdown",
      "metadata": {
        "id": "NBHZuzvq-g3M"
      },
      "source": [
        "Both of plots show that the votes are now more uniformly spread across time."
      ]
    },
    {
      "cell_type": "code",
      "metadata": {
        "colab": {
          "base_uri": "https://localhost:8080/",
          "height": 320
        },
        "id": "VieZSORFg5c_",
        "outputId": "d283ea3b-d35b-49d4-ca31-1be64c7cfcf4"
      },
      "source": [
        "f= plt.figure(figsize=(12,4))\n",
        "\n",
        "ax=f.add_subplot(121)\n",
        "plt.rcParams.update({'font.size': 10})\n",
        "sns.distplot(ddf.sample(frac=0.1)['normalized_ups'],bins=50,color='b',ax=ax)\n",
        "ax.set_title('Distribution of normalized up votes')\n",
        "\n",
        "ax=f.add_subplot(122)\n",
        "plt.rcParams.update({'font.size': 10})\n",
        "sns.distplot(ddf.sample(frac=0.1)['log_ups'],bins=50,color='b',ax=ax)\n",
        "ax.set_title('Distribution of up votes in $log$ scale')\n"
      ],
      "execution_count": null,
      "outputs": [
        {
          "output_type": "execute_result",
          "data": {
            "text/plain": [
              "Text(0.5, 1.0, 'Distribution of up votes in $log$ scale')"
            ]
          },
          "metadata": {
            "tags": []
          },
          "execution_count": 28
        },
        {
          "output_type": "display_data",
          "data": {
            "image/png": "[encoded data removed]",
            "text/plain": [
              "<Figure size 864x288 with 2 Axes>"
            ]
          },
          "metadata": {
            "tags": [],
            "needs_background": "light"
          }
        }
      ]
    },
    {
      "cell_type": "markdown",
      "metadata": {
        "id": "HFscYvSQqjLN"
      },
      "source": [
        "It seems we have a high skew in normalized up votes whether log transformation is relatively spread. We can further decide which transformation to use by observing the correlation matrix between useful features and the variables in question"
      ]
    },
    {
      "cell_type": "markdown",
      "metadata": {
        "id": "5nQ3mBMYrTMO"
      },
      "source": [
        "#### Effect of common text features\n",
        "\n",
        "Intuitively speaking, a post with informative and relvent title should be well received by the community and thus can get high upvotes. Similarly, non-informative and irrelevent titled posts are more vulnerable to down votes. Since there are no records with down votes in our dataset, we can focus entirely on up vote counts which can be used a measurement of popularity. The common features of a text are its length and number of unique words. Let's observe their impact on vote counts."
      ]
    },
    {
      "cell_type": "code",
      "metadata": {
        "id": "G1ma6hWNpu7F"
      },
      "source": [
        "ddf['text_length'] = ddf.apply(lambda row: len(row['title']), axis=1, meta=int)"
      ],
      "execution_count": null,
      "outputs": []
    },
    {
      "cell_type": "code",
      "metadata": {
        "id": "XN_-2jtDAThJ"
      },
      "source": [
        "ddf['unique_words'] = ddf.apply(lambda row: len(set(row['title'])), axis=1, meta=int)"
      ],
      "execution_count": null,
      "outputs": []
    },
    {
      "cell_type": "code",
      "metadata": {
        "id": "T3WaXuJSqCdY"
      },
      "source": [
        "ddf = ddf.persist()"
      ],
      "execution_count": null,
      "outputs": []
    },
    {
      "cell_type": "code",
      "metadata": {
        "colab": {
          "base_uri": "https://localhost:8080/",
          "height": 345
        },
        "id": "Iut3A3o_ujYt",
        "outputId": "9f853b1c-cf40-4b48-b622-33c15c43937a"
      },
      "source": [
        "ddf.nlargest(n=10, columns=['up_votes'])[['text_length','unique_words']].compute()"
      ],
      "execution_count": null,
      "outputs": [
        {
          "output_type": "execute_result",
          "data": {
            "text/html": [
              "<div>\n",
              "<style scoped>\n",
              "    .dataframe tbody tr th:only-of-type {\n",
              "        vertical-align: middle;\n",
              "    }\n",
              "\n",
              "    .dataframe tbody tr th {\n",
              "        vertical-align: top;\n",
              "    }\n",
              "\n",
              "    .dataframe thead th {\n",
              "        text-align: right;\n",
              "    }\n",
              "</style>\n",
              "<table border=\"1\" class=\"dataframe\">\n",
              "  <thead>\n",
              "    <tr style=\"text-align: right;\">\n",
              "      <th></th>\n",
              "      <th>text_length</th>\n",
              "      <th>unique_words</th>\n",
              "    </tr>\n",
              "  </thead>\n",
              "  <tbody>\n",
              "    <tr>\n",
              "      <th>69179</th>\n",
              "      <td>289</td>\n",
              "      <td>30</td>\n",
              "    </tr>\n",
              "    <tr>\n",
              "      <th>83394</th>\n",
              "      <td>139</td>\n",
              "      <td>26</td>\n",
              "    </tr>\n",
              "    <tr>\n",
              "      <th>142797</th>\n",
              "      <td>277</td>\n",
              "      <td>30</td>\n",
              "    </tr>\n",
              "    <tr>\n",
              "      <th>83297</th>\n",
              "      <td>243</td>\n",
              "      <td>27</td>\n",
              "    </tr>\n",
              "    <tr>\n",
              "      <th>82231</th>\n",
              "      <td>98</td>\n",
              "      <td>22</td>\n",
              "    </tr>\n",
              "    <tr>\n",
              "      <th>141788</th>\n",
              "      <td>100</td>\n",
              "      <td>24</td>\n",
              "    </tr>\n",
              "    <tr>\n",
              "      <th>89194</th>\n",
              "      <td>92</td>\n",
              "      <td>22</td>\n",
              "    </tr>\n",
              "    <tr>\n",
              "      <th>82473</th>\n",
              "      <td>188</td>\n",
              "      <td>30</td>\n",
              "    </tr>\n",
              "    <tr>\n",
              "      <th>36493</th>\n",
              "      <td>225</td>\n",
              "      <td>28</td>\n",
              "    </tr>\n",
              "    <tr>\n",
              "      <th>80209</th>\n",
              "      <td>122</td>\n",
              "      <td>26</td>\n",
              "    </tr>\n",
              "  </tbody>\n",
              "</table>\n",
              "</div>"
            ],
            "text/plain": [
              "        text_length  unique_words\n",
              "69179           289            30\n",
              "83394           139            26\n",
              "142797          277            30\n",
              "83297           243            27\n",
              "82231            98            22\n",
              "141788          100            24\n",
              "89194            92            22\n",
              "82473           188            30\n",
              "36493           225            28\n",
              "80209           122            26"
            ]
          },
          "metadata": {
            "tags": []
          },
          "execution_count": 32
        }
      ]
    },
    {
      "cell_type": "code",
      "metadata": {
        "colab": {
          "base_uri": "https://localhost:8080/",
          "height": 345
        },
        "id": "LzsAn9Iiu-Zi",
        "outputId": "0b68c1d0-6aed-4d00-9c07-c56c8fe5fe9a"
      },
      "source": [
        "ddf.nsmallest(n=10, columns=['up_votes'])[['text_length','unique_words']].compute()"
      ],
      "execution_count": null,
      "outputs": [
        {
          "output_type": "execute_result",
          "data": {
            "text/html": [
              "<div>\n",
              "<style scoped>\n",
              "    .dataframe tbody tr th:only-of-type {\n",
              "        vertical-align: middle;\n",
              "    }\n",
              "\n",
              "    .dataframe tbody tr th {\n",
              "        vertical-align: top;\n",
              "    }\n",
              "\n",
              "    .dataframe thead th {\n",
              "        text-align: right;\n",
              "    }\n",
              "</style>\n",
              "<table border=\"1\" class=\"dataframe\">\n",
              "  <thead>\n",
              "    <tr style=\"text-align: right;\">\n",
              "      <th></th>\n",
              "      <th>text_length</th>\n",
              "      <th>unique_words</th>\n",
              "    </tr>\n",
              "  </thead>\n",
              "  <tbody>\n",
              "    <tr>\n",
              "      <th>7</th>\n",
              "      <td>30</td>\n",
              "      <td>18</td>\n",
              "    </tr>\n",
              "    <tr>\n",
              "      <th>18</th>\n",
              "      <td>73</td>\n",
              "      <td>20</td>\n",
              "    </tr>\n",
              "    <tr>\n",
              "      <th>22</th>\n",
              "      <td>55</td>\n",
              "      <td>23</td>\n",
              "    </tr>\n",
              "    <tr>\n",
              "      <th>26</th>\n",
              "      <td>54</td>\n",
              "      <td>21</td>\n",
              "    </tr>\n",
              "    <tr>\n",
              "      <th>32</th>\n",
              "      <td>38</td>\n",
              "      <td>19</td>\n",
              "    </tr>\n",
              "    <tr>\n",
              "      <th>33</th>\n",
              "      <td>79</td>\n",
              "      <td>28</td>\n",
              "    </tr>\n",
              "    <tr>\n",
              "      <th>44</th>\n",
              "      <td>82</td>\n",
              "      <td>26</td>\n",
              "    </tr>\n",
              "    <tr>\n",
              "      <th>46</th>\n",
              "      <td>69</td>\n",
              "      <td>23</td>\n",
              "    </tr>\n",
              "    <tr>\n",
              "      <th>47</th>\n",
              "      <td>32</td>\n",
              "      <td>17</td>\n",
              "    </tr>\n",
              "    <tr>\n",
              "      <th>56</th>\n",
              "      <td>65</td>\n",
              "      <td>22</td>\n",
              "    </tr>\n",
              "  </tbody>\n",
              "</table>\n",
              "</div>"
            ],
            "text/plain": [
              "    text_length  unique_words\n",
              "7            30            18\n",
              "18           73            20\n",
              "22           55            23\n",
              "26           54            21\n",
              "32           38            19\n",
              "33           79            28\n",
              "44           82            26\n",
              "46           69            23\n",
              "47           32            17\n",
              "56           65            22"
            ]
          },
          "metadata": {
            "tags": []
          },
          "execution_count": 33
        }
      ]
    },
    {
      "cell_type": "markdown",
      "metadata": {
        "id": "ca6JMLXmucaf"
      },
      "source": [
        "This small fraction indicates there might be some correlation between these features and up votes. We can also calculate their correlation with the transformed variables."
      ]
    },
    {
      "cell_type": "code",
      "metadata": {
        "colab": {
          "base_uri": "https://localhost:8080/",
          "height": 365
        },
        "id": "9IVMwDKsqaqd",
        "outputId": "84276ff8-a5d7-4db4-92cb-568d479280e1"
      },
      "source": [
        "corr = ddf.sample(frac=0.25).compute()[['up_votes','normalized_ups','log_ups','text_length','unique_words']].corr()\n",
        "sns.heatmap(corr, cmap = 'Wistia', annot= True)"
      ],
      "execution_count": null,
      "outputs": [
        {
          "output_type": "execute_result",
          "data": {
            "text/plain": [
              "<matplotlib.axes._subplots.AxesSubplot at 0x7fc769aa7c10>"
            ]
          },
          "metadata": {
            "tags": []
          },
          "execution_count": 34
        },
        {
          "output_type": "display_data",
          "data": {
            "image/png": "[encoded data removed]",
            "text/plain": [
              "<Figure size 432x288 with 2 Axes>"
            ]
          },
          "metadata": {
            "tags": [],
            "needs_background": "light"
          }
        }
      ]
    },
    {
      "cell_type": "markdown",
      "metadata": {
        "id": "-x5Jab5yrqxg"
      },
      "source": [
        "It seems both text length and number of unique words have relatively higher positive correlation with log ups than raw votes and normalized ups. This is helpful because this gives us a good idea of a variable to predict and which transformation to use on the dependent variable. Although notice that the correlation values are **small** (0.19 and 0.15 respectively). So, we should experiment on other useful text features such as ***TF-IDF vectors, Count Vectors, Sentence Embedding***, etc. For now, let's try to find other useful features other than text and use log transformation on up votes."
      ]
    },
    {
      "cell_type": "markdown",
      "metadata": {
        "id": "EdZi-nTyNrnu"
      },
      "source": [
        "#### Effect of time of the post\n",
        "\n",
        "To observe the effect of the time on post, we can extract the hour and week information from the unix timestamp."
      ]
    },
    {
      "cell_type": "code",
      "metadata": {
        "id": "FJuEugHCbvg2"
      },
      "source": [
        "ddf['hours'] = ddf.apply(lambda row: datetime.utcfromtimestamp(row['time_created']).hour, axis=1, meta=int)"
      ],
      "execution_count": null,
      "outputs": []
    },
    {
      "cell_type": "code",
      "metadata": {
        "id": "mrijQgSweqqj"
      },
      "source": [
        "ddf['weekday'] = ddf.apply(lambda row: datetime.utcfromtimestamp(row['time_created']).strftime(\"%A\"), axis=1, meta=str)"
      ],
      "execution_count": null,
      "outputs": []
    },
    {
      "cell_type": "code",
      "metadata": {
        "id": "d_BADQrasfrq"
      },
      "source": [
        "ddf = ddf.persist()"
      ],
      "execution_count": null,
      "outputs": []
    },
    {
      "cell_type": "code",
      "metadata": {
        "colab": {
          "base_uri": "https://localhost:8080/",
          "height": 345
        },
        "id": "fsW89SI9NHg8",
        "outputId": "bdaee34a-3c76-4711-a09c-18a3d208e579"
      },
      "source": [
        "f= plt.figure(figsize=(12,4))\n",
        "\n",
        "ax=f.add_subplot(121)\n",
        "plt.rcParams.update({'font.size': 10})\n",
        "sns.pointplot(x = 'hours', y = 'log_ups', data = ddf.sample(frac=0.1).compute(), ax=ax)\n",
        "\n",
        "ax=f.add_subplot(122)\n",
        "plt.rcParams.update({'font.size': 10})\n",
        "sns.pointplot(x = 'weekday', y = 'log_ups', data = ddf.sample(frac=0.1).compute(), ax=ax)\n",
        "plt.xticks(rotation = 45)"
      ],
      "execution_count": null,
      "outputs": [
        {
          "output_type": "execute_result",
          "data": {
            "text/plain": [
              "(array([0, 1, 2, 3, 4, 5, 6]), <a list of 7 Text major ticklabel objects>)"
            ]
          },
          "metadata": {
            "tags": []
          },
          "execution_count": 37
        },
        {
          "output_type": "display_data",
          "data": {
            "image/png": "[encoded data removed]",
            "text/plain": [
              "<Figure size 864x288 with 2 Axes>"
            ]
          },
          "metadata": {
            "tags": [],
            "needs_background": "light"
          }
        }
      ]
    },
    {
      "cell_type": "markdown",
      "metadata": {
        "id": "UMbJMLRCsucX"
      },
      "source": [
        "These plots reveal common sensical impact of time over votes. The first plot shows that people are not that active during after 2am and before 7 am, and so number of votes decline that time. Most of the people tend to check during lunch time (11am - 1pm) and before going back to sleep (9am - 2am). The second plot shows people tend to vote more on weekends (Saturday and Sunday). Notice, the changes of log_ups values for both features are **small**."
      ]
    },
    {
      "cell_type": "markdown",
      "metadata": {
        "id": "yfjoQb0Uvu9Q"
      },
      "source": [
        "#### Effect of over 18 posts\n",
        "\n",
        "Finally we can draw a plot to see the impact of over_18 variable. The following violin plot shows the distributions of up votes are quite different between the two values. However, as the number of over 18 posts are very few, its contribution might be very little as well. Nonetheless, we can use this feature for predictive modeling task."
      ]
    },
    {
      "cell_type": "code",
      "metadata": {
        "colab": {
          "base_uri": "https://localhost:8080/",
          "height": 356
        },
        "id": "jcLGWF7rDIdB",
        "outputId": "969059c5-32ba-402f-ac14-62ccbfc8ba96"
      },
      "source": [
        "plt.figure(figsize=(5, 5))\n",
        "plt.rcParams.update({'font.size': 10})\n",
        "sns.violinplot(x = 'over_18', y = 'log_ups', data = ddf.sample(frac=0.25).compute())"
      ],
      "execution_count": null,
      "outputs": [
        {
          "output_type": "execute_result",
          "data": {
            "text/plain": [
              "<matplotlib.axes._subplots.AxesSubplot at 0x7fc75b601590>"
            ]
          },
          "metadata": {
            "tags": []
          },
          "execution_count": 39
        },
        {
          "output_type": "display_data",
          "data": {
            "image/png": "[encoded data removed]",
            "text/plain": [
              "<Figure size 360x360 with 1 Axes>"
            ]
          },
          "metadata": {
            "tags": [],
            "needs_background": "light"
          }
        }
      ]
    },
    {
      "cell_type": "markdown",
      "metadata": {
        "id": "eDB8IMHvw3HP"
      },
      "source": [
        "## <a name=\"p3\"></a> Formulating a Predictive Task w/ a Business Objective\n",
        "\n",
        "Based on our inital analysis, we are now in a position to formulate predictive tasks. Here are some of the tasks we can do with the dataset:\n",
        "\n",
        "1. **Classify resubmissions**: As there are duplicate titles with different up_votes (which is an indication of resubmissions), we can predict whether a resubmission will get higher votes than the original.\n",
        "\n",
        "2. **Predict up-votes**: We can predict how many votes a post can get based on text of the title, time of the post, and whether it is for mature audience or not.\n",
        "\n",
        "While formulating the task, we also have to think about a good business use-case. In terms of business use-case, Task 2 is more appropriate. Here is why: for a web-based service, like reddit, there will be new posts each day, and they might want to know which posts are predicted to get high number of up-votes. By doing so, it can increase the click-through-rates or views counts, which can, in turn, increase the revenue of a web-based service. Task 1 can only predict which post can get higher votes after it is resubmitted while Task 2 can do so for original posts which is a much stricter requirement for web-platforms. Another reason is there might not be a lot of resubmissions (e.g. in this dataset there were only 8516 resubmissions from 7725 original posts), and thus Task 2 has lower potential of generating revenue.\n",
        "\n",
        "So, based on the business-case, we will select the task of **predicting up-votes as our predictive machine learning task**."
      ]
    },
    {
      "cell_type": "markdown",
      "metadata": {
        "id": "UdC0TR0Z6d9a"
      },
      "source": [
        "### Designing Train/Val/Test Splits\n",
        "\n",
        "Our business use case requires us to predict future posts. For example, we may want to predict which posts will be trending next one or two weeks based on previous posts. Thus for testing and validation purposes, we can isolate the most recent posts. In this notebook, we will consider posts during last two weeks as test set, and last two weeks before that as validation set. Before doing so, lets drop the duplicates posts and only keep the original posts."
      ]
    },
    {
      "cell_type": "code",
      "metadata": {
        "id": "Kq70MxVLAK_E"
      },
      "source": [
        "ddf_dropped = ddf.sort_values('time_created').drop_duplicates(subset='title', keep='first')"
      ],
      "execution_count": null,
      "outputs": []
    },
    {
      "cell_type": "code",
      "metadata": {
        "id": "91zgcrDvA1Go"
      },
      "source": [
        "ddf_dropped = ddf_dropped.persist()"
      ],
      "execution_count": null,
      "outputs": []
    },
    {
      "cell_type": "code",
      "metadata": {
        "id": "YL7R9RgNBbKO"
      },
      "source": [
        "latest_time = int(ddf_dropped.nlargest(1, columns=['time_created']).time_created.compute())"
      ],
      "execution_count": null,
      "outputs": []
    },
    {
      "cell_type": "code",
      "metadata": {
        "id": "dBwOD1YlSE-s"
      },
      "source": [
        "val_dataset = ddf_dropped[(ddf_dropped['time_created']<=latest_time-1*15*24*60*60)&(ddf_dropped['time_created']>=(latest_time-(2*15*24*60*60)))]"
      ],
      "execution_count": null,
      "outputs": []
    },
    {
      "cell_type": "code",
      "metadata": {
        "id": "CVDwDuZKSQte"
      },
      "source": [
        "test_dataset = ddf_dropped[(ddf_dropped['time_created']<=latest_time)&(ddf_dropped['time_created']>=(latest_time-(1*15*24*60*60)))]"
      ],
      "execution_count": null,
      "outputs": []
    },
    {
      "cell_type": "markdown",
      "metadata": {
        "id": "Yzl8xfRa7__Y"
      },
      "source": [
        "For training dataset, note our earlier analysis of up-votes over time revealed that there are anomalies of votes in different times. So, we may also want to use a certain portion of the remaining dataset for training. As log transformations of up votes have more correlation with features (from correlation matrix), we should use that as depended variable and select a cut off point based on the plot of log_ups vs time. Based on the plot, **we will use most recent 4 years of data**. Before we train on full dataset though, lets use a small segment (most recent 6 months in this case) to find useful text features quickly. "
      ]
    },
    {
      "cell_type": "code",
      "metadata": {
        "id": "bBzumFr7RNva"
      },
      "source": [
        "train_dataset = ddf_dropped[(ddf_dropped['time_created']<=latest_time-2*15*24*60*60)&(ddf_dropped['time_created']>=(latest_time-(2*15*24*60*60+6*30*24*60*60)))]"
      ],
      "execution_count": null,
      "outputs": []
    },
    {
      "cell_type": "code",
      "metadata": {
        "id": "rAF2SbPOYmVs"
      },
      "source": [
        "train_dataset, val_dataset, test_dataset = train_dataset.persist(), val_dataset.persist(), test_dataset.persist()"
      ],
      "execution_count": null,
      "outputs": []
    },
    {
      "cell_type": "markdown",
      "metadata": {
        "id": "9YYhg6uFMFXn"
      },
      "source": [
        "## <a name=\"p4\"></a> Machine Learning Pipeline"
      ]
    },
    {
      "cell_type": "markdown",
      "metadata": {
        "id": "ax9FQIVLCoi3"
      },
      "source": [
        "### Preprocessing the dataset\n",
        "\n",
        "As we have both categorical and numerical features, we have to transform them properly, that is convert categorical features to one hot encoding and scaling the numerical features. "
      ]
    },
    {
      "cell_type": "code",
      "metadata": {
        "id": "pp-mjXFBCn4n"
      },
      "source": [
        "from sklearn.preprocessing import StandardScaler\n",
        "from sklearn.preprocessing import OneHotEncoder"
      ],
      "execution_count": null,
      "outputs": []
    },
    {
      "cell_type": "code",
      "metadata": {
        "id": "qfMRC6wNw7T4"
      },
      "source": [
        "scaler = StandardScaler().fit(train_dataset[['text_length', 'unique_words']])\n",
        "categories = [list(range(24)), ['Saturday', 'Sunday', 'Monday', 'Tuesday', 'Wednesday', 'Thursday', 'Friday'], [False, True]]\n",
        "one_hot_encoder = OneHotEncoder(drop='first', sparse=True, categories=categories).fit(train_dataset[['hours','weekday','over_18']])"
      ],
      "execution_count": null,
      "outputs": []
    },
    {
      "cell_type": "markdown",
      "metadata": {
        "id": "YH6gy-Z0lfym"
      },
      "source": [
        "### Building a custom data iterator\n",
        "\n",
        "As our dataset is assumed to be larger than memory, we will need to design an iterator that can create a batch of dataset from the rows of the Dask dataframe object and perform the necessary transformations."
      ]
    },
    {
      "cell_type": "code",
      "metadata": {
        "id": "Z1uFzRegFE9M"
      },
      "source": [
        "from scipy.sparse import csr_matrix, vstack, hstack\n",
        "class CustomDataset():\n",
        "\n",
        "    def __init__(self, dataset, y_var, text_vectorizer, one_hot_encoder, scaler, batch_size, text_features=True, cat_feature=True, num_feature=True):\n",
        "        self.dataset = dataset\n",
        "        self.y_var = y_var\n",
        "        self.batch_size = batch_size\n",
        "        self.one_hot_encoder = one_hot_encoder\n",
        "        self.text_vectorizer = text_vectorizer\n",
        "        self.scaler = scaler\n",
        "        self.text_features = text_features\n",
        "        self.cat_feature = cat_feature\n",
        "        self.num_feature = num_feature\n",
        "\n",
        "    def __len__(self):\n",
        "        return len(self.dataset)//self.batch_size\n",
        "\n",
        "    def __iter__(self):\n",
        "        'Generates batches of examples'\n",
        "        count = 0\n",
        "        features_batch = None\n",
        "        y_batch = []\n",
        "\n",
        "        for row in self.dataset.iterrows():\n",
        "            try:\n",
        "              y = row[1][self.y_var]\n",
        "\n",
        "              title = row[1]['title']\n",
        "\n",
        "              features = None\n",
        "              \n",
        "              if self.text_features:\n",
        "                  for vectorizer in self.text_vectorizer:\n",
        "                      try:\n",
        "                          text_features = vectorizer.transform([title])  \n",
        "                      except:     \n",
        "                          text_features = csr_matrix(vectorizer(title))\n",
        "\n",
        "                      if features is None:\n",
        "                          features = text_features\n",
        "                      else: \n",
        "                          features = hstack([features, text_features])\n",
        "\n",
        "              if self.cat_feature:\n",
        "                  categorical_features = self.one_hot_encoder.transform([[row[1]['hours'], row[1]['weekday'], row[1]['over_18']]])\n",
        "                  if features is None:\n",
        "                      features = categorical_features\n",
        "                  else:\n",
        "                      features = hstack([features, categorical_features])\n",
        "\n",
        "              if self.num_feature:\n",
        "                  numerical_features = csr_matrix(self.scaler.transform([[row[1]['text_length'],row[1]['unique_words']]])[0])\n",
        "                  if features is None:\n",
        "                      features = numerical_features\n",
        "                  else:\n",
        "                      features = hstack([features, numerical_features])\n",
        "              \n",
        "            except:\n",
        "                continue\n",
        "            \n",
        "            count +=1\n",
        "\n",
        "            if features_batch is None:\n",
        "                features_batch = features\n",
        "            else:\n",
        "                features_batch = vstack([features_batch,features])\n",
        "            \n",
        "            y_batch.append(y)\n",
        "            \n",
        "            if count == self.batch_size:\n",
        "              count = 0\n",
        "              batch = (features_batch, y_batch)\n",
        "              features_batch = None\n",
        "              y_batch = []\n",
        "              yield batch\n",
        "\n",
        "        if count != 0:\n",
        "            yield (features_batch, y_batch)\n"
      ],
      "execution_count": null,
      "outputs": []
    },
    {
      "cell_type": "code",
      "metadata": {
        "id": "RScoy0liK0w_"
      },
      "source": [
        "# utility function to get full dataset\n",
        "from tqdm import tqdm, tqdm_notebook\n",
        "def get_full_dataset(iterable_dataset):\n",
        "  y_list = []\n",
        "  feature_list = None\n",
        "  for f, y in tqdm_notebook(iterable_dataset):\n",
        "      if feature_list is None:\n",
        "          feature_list = f\n",
        "      else:\n",
        "          feature_list = vstack([feature_list,f])\n",
        "      y_list.extend(y)\n",
        "  return (feature_list, y_list)"
      ],
      "execution_count": null,
      "outputs": []
    },
    {
      "cell_type": "code",
      "metadata": {
        "id": "qwmH2AxR4Q_D"
      },
      "source": [
        "# utility function to saving transformed dataset to disks\n",
        "import glob\n",
        "def dump_to_disk(iterable_dataset, file_name, chunksize=1024*50):\n",
        "  y_list = []\n",
        "  feature_list = None\n",
        "  chunk_count = 1\n",
        "  for f, y in tqdm(iterable_dataset):\n",
        "      if feature_list is None:\n",
        "          feature_list = f\n",
        "      else:\n",
        "          feature_list = vstack([feature_list,f])\n",
        "      y_list.extend(y)\n",
        "\n",
        "      if len(y_list) == chunksize:\n",
        "          pickle.dump((feature_list.tocsr(), y_list), open(file_name+'_'+str(chunk_count), 'wb'))\n",
        "          y_list = []\n",
        "          feature_list = None\n",
        "          chunk_count += 1\n",
        "  \n",
        "  if len(y_list) < chunksize and len(y_list)!=0:\n",
        "      pickle.dump((feature_list.tocsr(), y_list), open(file_name+'_'+str(chunk_count), 'wb'))\n",
        "\n",
        "\n",
        "def load_batches_from_disk(file_name, batch_size=1024):\n",
        "\n",
        "  file_list = glob.glob(file_name+'*')\n",
        "  for f in file_list:\n",
        "      feature_list, y_list = pickle.load(open(f, 'rb'))\n",
        "\n",
        "      if not isinstance(feature_list, csr_matrix):\n",
        "          feature_list = feature_list.tocsr()\n",
        "          \n",
        "      for i in range(0, len(y_list), batch_size):\n",
        "          yield feature_list[i:i+batch_size,:], y_list[i:i+batch_size]\n"
      ],
      "execution_count": null,
      "outputs": []
    },
    {
      "cell_type": "markdown",
      "metadata": {
        "id": "Q9ZTSfeXJ885"
      },
      "source": [
        "### Training and validating"
      ]
    },
    {
      "cell_type": "markdown",
      "metadata": {
        "id": "kjyhZgvcZHxP"
      },
      "source": [
        "Now we will create a training loop that will iterate over the batches and patially fit the model (because of larger than memory assumption on dataset). In this notebook, we will use scikit-learn library, however, other libraries such as keras, pytorch, etc. can also be used. We will use Stochastic Gradient Regression from scikit-learn library which will allow us to partially fit the batches."
      ]
    },
    {
      "cell_type": "code",
      "metadata": {
        "id": "2YUfyvcQPiCs"
      },
      "source": [
        "from sklearn.linear_model import SGDRegressor\n",
        "from sklearn.metrics import mean_absolute_error, mean_squared_error\n",
        "import pickle"
      ],
      "execution_count": null,
      "outputs": []
    },
    {
      "cell_type": "code",
      "metadata": {
        "id": "F5S-0Z25Y-S3"
      },
      "source": [
        "def train_and_validate(train_dataset, validation_dataset, model, model_name, max_iter, validate_every=25, max_tolerance=10, batch_size=5120):\n",
        "    steps = 0\n",
        "    tolerance = 0\n",
        "    best_score = float('-inf')\n",
        "    \n",
        "    for epoch in tqdm_notebook(range(max_iter)):\n",
        "        if isinstance(train_dataset, str):\n",
        "            data_generator = load_batches_from_disk(train_dataset, batch_size=batch_size)\n",
        "        else:\n",
        "            data_generator = train_dataset\n",
        "            \n",
        "        for features, y in data_generator: \n",
        "            model.partial_fit(features, y) \n",
        "            steps += 1\n",
        "\n",
        "            if steps%validate_every == 0:\n",
        "              score =  model.score(validation_dataset[0], validation_dataset[1])\n",
        "              if  score > best_score:\n",
        "                best_score = score\n",
        "                pickle.dump(model, open(model_name, 'wb'))\n",
        "                tolerance = 0\n",
        "              else:\n",
        "                tolerance += 1\n",
        "              \n",
        "            if tolerance == max_tolerance:\n",
        "                print('best validation score: ', best_score)\n",
        "                return best_score\n",
        "\n",
        "    print('best validation score: ', best_score)\n",
        "    return best_score"
      ],
      "execution_count": null,
      "outputs": []
    },
    {
      "cell_type": "code",
      "metadata": {
        "id": "LhkbmTCA7bp_"
      },
      "source": [
        "def evaluate_features_and_models(vectorizer, model, text_features=True, cat_feature=True, num_feature=True, max_iter= 10, model_name='dummy'):\n",
        "    iterable_dataset_train = CustomDataset(train_dataset, 'log_ups', vectorizer, one_hot_encoder, scaler, 1024, text_features=text_features, cat_feature=cat_feature, num_feature=num_feature)\n",
        "    iterable_dataset_val = CustomDataset(val_dataset, 'log_ups', vectorizer, one_hot_encoder, scaler, 1024, text_features=text_features, cat_feature=cat_feature, num_feature=num_feature)\n",
        "    dump_to_disk(iterable_dataset_train, 'train_data_6_months') # doing this once will reduce I/O in the training epoch\n",
        "    full_dataset_val = get_full_dataset(iterable_dataset_val) # as this is a comparatively small dataset, and so we will load into memory for faster evaluation\n",
        "    train_and_validate('temp_data_6_months', full_dataset_val, model, model_name, max_iter, validate_every=25)"
      ],
      "execution_count": null,
      "outputs": []
    },
    {
      "cell_type": "markdown",
      "metadata": {
        "id": "8J56cXNcONJF"
      },
      "source": [
        "First we will test the how well the vanilla model performs with categorical and numerical features from the dataset. For evaluation will calculate coefficient of determination $R^2$ of the prediction. The coefficient $R^2$  is defined as $(1-\\frac{u}{v})$, where $u$ is the residual sum of squares: $\\sum(y_{true} - y_{pred})^2$  and $v$  is the total sum of squares: $\\sum(y_{true} - \\overline{y_{true}}) ^ 2$. The best possible score is 1.0 and it can be negative (because the model can be arbitrarily worse). A constant model that always predicts the average value of y, disregarding the input features, would get a  score of 0.0."
      ]
    },
    {
      "cell_type": "code",
      "metadata": {
        "colab": {
          "base_uri": "https://localhost:8080/",
          "height": 116,
          "referenced_widgets": [
            "500545512bec4f548c3bc834614af714",
            "99eaafbe1f0d4c20a9669dce6566ef6d",
            "53518364e8ff47d6ae71e581291a3870",
            "c1a10425132b4f14a275c0f560641296",
            "13965830b4634d35a4eb34a56086d3a1",
            "ed49195dffca47aab4881d2471aa22bf",
            "e613834708b24525bad88ff2d288d427",
            "5c2d93e4e6bc48acb5506c8ef3e27782"
          ]
        },
        "id": "V056H-n-SwJ-",
        "outputId": "2f6619b4-70ed-4f5f-eed9-5d09eb268bac"
      },
      "source": [
        "evaluate_features_and_models(None, SGDRegressor(), text_features=False)"
      ],
      "execution_count": null,
      "outputs": [
        {
          "output_type": "stream",
          "text": [
            "43it [01:43,  2.41s/it]\n",
            "4it [00:08,  2.19s/it]\n"
          ],
          "name": "stderr"
        },
        {
          "output_type": "display_data",
          "data": {
            "application/vnd.jupyter.widget-view+json": {
              "model_id": "500545512bec4f548c3bc834614af714",
              "version_minor": 0,
              "version_major": 2
            },
            "text/plain": [
              "HBox(children=(FloatProgress(value=0.0, max=10.0), HTML(value='')))"
            ]
          },
          "metadata": {
            "tags": []
          }
        },
        {
          "output_type": "stream",
          "text": [
            "\n",
            "best validation score:  0.04852700688290057\n"
          ],
          "name": "stdout"
        }
      ]
    },
    {
      "cell_type": "markdown",
      "metadata": {
        "id": "eKCBEm5WDkKk"
      },
      "source": [
        "This agrees with our initial analysis of the categorical and numerical features (correlation matrix and time plots): there is a small colinearity of their values to the prediction. Next, we will extract the text features and observe their contribution. We will test the model's performance against three different text features, namely: ***TF-IDF vectors, Count Vectors, and Sentence Embedding***. These following libraries are compatible with Dask framework, meaning they accept iterator objects and does not load the whole dataset to memory. "
      ]
    },
    {
      "cell_type": "code",
      "metadata": {
        "id": "ZsKLTc1ae38E"
      },
      "source": [
        "from sklearn.feature_extraction.text import TfidfVectorizer, CountVectorizer"
      ],
      "execution_count": null,
      "outputs": []
    },
    {
      "cell_type": "code",
      "metadata": {
        "id": "6JA1SXrEDuL7"
      },
      "source": [
        "count_vectorizer = CountVectorizer().fit(train_dataset.title)"
      ],
      "execution_count": null,
      "outputs": []
    },
    {
      "cell_type": "code",
      "metadata": {
        "id": "zCwD9w9Z-ChH",
        "colab": {
          "base_uri": "https://localhost:8080/",
          "height": 116,
          "referenced_widgets": [
            "ab2a265c30dd49778f53236ca9b39491",
            "36b4ec5b043d40f28f5f034df8c8b5ec",
            "f8cf78807c8e479c83b04027b598eace",
            "1834d119c54b42d9a7529b1c23c1f0b8",
            "5f11e0e7d2c24ce4adb84a49ed0d71c7",
            "bc1fddc9989d45338b18265ff8532787",
            "f776634896ab44b9bf5a2b4c4aaf61c8",
            "39cc190501444af3957325c7fb6203e4"
          ]
        },
        "outputId": "53325867-bf11-4bf6-b5d0-bb8478b029ac"
      },
      "source": [
        "evaluate_features_and_models([count_vectorizer],  SGDRegressor(), cat_feature=False, num_feature=False)"
      ],
      "execution_count": null,
      "outputs": [
        {
          "output_type": "stream",
          "text": [
            "43it [00:22,  1.88it/s]\n",
            "4it [00:01,  2.07it/s]\n"
          ],
          "name": "stderr"
        },
        {
          "output_type": "display_data",
          "data": {
            "application/vnd.jupyter.widget-view+json": {
              "model_id": "ab2a265c30dd49778f53236ca9b39491",
              "version_minor": 0,
              "version_major": 2
            },
            "text/plain": [
              "HBox(children=(FloatProgress(value=0.0, max=10.0), HTML(value='')))"
            ]
          },
          "metadata": {
            "tags": []
          }
        },
        {
          "output_type": "stream",
          "text": [
            "\n",
            "best validation score:  0.09386506055697696\n"
          ],
          "name": "stdout"
        }
      ]
    },
    {
      "cell_type": "markdown",
      "metadata": {
        "id": "6myhbjBypwfO"
      },
      "source": [
        "Using individual counts of words in title as text feature already seems to improve the performance without using other categorical and numerical features. Using lemmatization and changing some of the CountVectorizer's parameters such using bi-grams and tri-grams and setting max_df=0.3 also seem to improve the performance further. Other parameters were also experimented on but did not contribute much (not shown for brevity)."
      ]
    },
    {
      "cell_type": "code",
      "metadata": {
        "colab": {
          "base_uri": "https://localhost:8080/"
        },
        "id": "kQQfDEGmyQMG",
        "outputId": "d0ca3e48-4e0c-486b-e8f3-d7c7f8a997c4"
      },
      "source": [
        "import nltk\n",
        "from nltk.stem import WordNetLemmatizer\n",
        "nltk.download('wordnet')\n",
        "stemmer = WordNetLemmatizer()"
      ],
      "execution_count": null,
      "outputs": [
        {
          "output_type": "stream",
          "text": [
            "[nltk_data] Downloading package wordnet to /root/nltk_data...\n",
            "[nltk_data]   Package wordnet is already up-to-date!\n"
          ],
          "name": "stdout"
        }
      ]
    },
    {
      "cell_type": "code",
      "metadata": {
        "id": "iYlhL1jKv5z9"
      },
      "source": [
        "def lemmatize_words(title):\n",
        "    return (stemmer.lemmatize(word) for word in analyzer(title))"
      ],
      "execution_count": null,
      "outputs": []
    },
    {
      "cell_type": "code",
      "metadata": {
        "colab": {
          "base_uri": "https://localhost:8080/",
          "height": 116,
          "referenced_widgets": [
            "614dae0f4f9d470fa86b731daa9acf29",
            "18e181129a574618a7986ec2482323ec",
            "e0965c1625024767a2164afaadf64f40",
            "977312a0f45a462eb7fab0085913407e",
            "e433310ee72c4e3abe987793e8b65366",
            "f89c0d407e1a4c128fe15fe54adbbe93",
            "da7f18fd0d294bf3bdd360a02e25d0ab",
            "679cea5a91a44cfa97660aac2be83972"
          ]
        },
        "id": "sMdqRfZLpvwr",
        "outputId": "52d8ec9c-199d-4df5-fd86-a070f1c64884"
      },
      "source": [
        "analyzer = CountVectorizer(ngram_range=(1,3)).build_analyzer()\n",
        "count_vectorizer = CountVectorizer(max_df=0.30, analyzer=lemmatize_words).fit(train_dataset.title)\n",
        "evaluate_features_and_models([count_vectorizer], SGDRegressor(), cat_feature=False, num_feature=False)"
      ],
      "execution_count": null,
      "outputs": [
        {
          "output_type": "stream",
          "text": [
            "43it [00:34,  1.23it/s]\n",
            "4it [00:02,  1.39it/s]\n"
          ],
          "name": "stderr"
        },
        {
          "output_type": "display_data",
          "data": {
            "application/vnd.jupyter.widget-view+json": {
              "model_id": "614dae0f4f9d470fa86b731daa9acf29",
              "version_minor": 0,
              "version_major": 2
            },
            "text/plain": [
              "HBox(children=(FloatProgress(value=0.0, max=10.0), HTML(value='')))"
            ]
          },
          "metadata": {
            "tags": []
          }
        },
        {
          "output_type": "stream",
          "text": [
            "\n",
            "best validation score:  0.10906991046789627\n"
          ],
          "name": "stdout"
        }
      ]
    },
    {
      "cell_type": "markdown",
      "metadata": {
        "id": "kIepF5raO8jg"
      },
      "source": [
        "Similarly we can experiment on TF-IDF features, and find the best settings."
      ]
    },
    {
      "cell_type": "code",
      "metadata": {
        "colab": {
          "base_uri": "https://localhost:8080/",
          "height": 116,
          "referenced_widgets": [
            "f166a3f836824d61994dd59176b1431d",
            "68d2af52b494432db4c85348c1c57adf",
            "37e843102c594b31884be95b90694da1",
            "08254927eaf04f0aa6e8ee102f3bd67c",
            "a5c66bee3e68454b993509b1caf8a382",
            "774ea9d8ad7a4fb9a29f37af9cee8408",
            "17d9fb4dcd2c41b9a2d6a810cdfd1bcf",
            "e427822e1ee04decb2affb028f72760e"
          ]
        },
        "id": "PFkgY4FW4PJK",
        "outputId": "e2f8fe6c-98b7-4939-bce3-493d13e19a83"
      },
      "source": [
        "evaluate_features_and_models([TfidfVectorizer().fit(train_dataset.title)], SGDRegressor(), cat_feature=False, num_feature=False)"
      ],
      "execution_count": null,
      "outputs": [
        {
          "output_type": "stream",
          "text": [
            "43it [01:00,  1.40s/it]\n",
            "4it [00:05,  1.27s/it]\n"
          ],
          "name": "stderr"
        },
        {
          "output_type": "display_data",
          "data": {
            "application/vnd.jupyter.widget-view+json": {
              "model_id": "f166a3f836824d61994dd59176b1431d",
              "version_minor": 0,
              "version_major": 2
            },
            "text/plain": [
              "HBox(children=(FloatProgress(value=0.0, max=10.0), HTML(value='')))"
            ]
          },
          "metadata": {
            "tags": []
          }
        },
        {
          "output_type": "stream",
          "text": [
            "\n",
            "best validation score:  0.04601834584224307\n"
          ],
          "name": "stdout"
        }
      ]
    },
    {
      "cell_type": "code",
      "metadata": {
        "colab": {
          "base_uri": "https://localhost:8080/",
          "height": 116,
          "referenced_widgets": [
            "4d68686affe040288bb683b05227483d",
            "aa26f85fa58f47d19ccef4d774efe837",
            "8afdd5246ba948eb854f65afe7cc032f",
            "5f99efdfcee341c5b7c5ba8352b9ee17",
            "531d3790b5c747a5a82fbc2a50852851",
            "d37a805bf51d421c921c8038728a0f52",
            "bd0a7a771fa947009ebb5dea43bcd13d",
            "95154636707643539bc6766e9a03d347"
          ]
        },
        "id": "J86mWFbicWzg",
        "outputId": "842bbad2-fd6a-4231-fa58-42672936162b"
      },
      "source": [
        "analyzer = TfidfVectorizer(ngram_range=(1,3)).build_analyzer()\n",
        "tfidf_vectorizer = TfidfVectorizer(max_features=500, #constrain to top 500 features\n",
        "                                   analyzer=lemmatize_words,\n",
        "                                   ).fit(train_dataset.title)\n",
        "evaluate_features_and_models([tfidf_vectorizer],SGDRegressor(), cat_feature=False, num_feature=False)"
      ],
      "execution_count": null,
      "outputs": [
        {
          "output_type": "stream",
          "text": [
            "43it [01:04,  1.51s/it]\n",
            "4it [00:05,  1.36s/it]\n"
          ],
          "name": "stderr"
        },
        {
          "output_type": "display_data",
          "data": {
            "application/vnd.jupyter.widget-view+json": {
              "model_id": "4d68686affe040288bb683b05227483d",
              "version_minor": 0,
              "version_major": 2
            },
            "text/plain": [
              "HBox(children=(FloatProgress(value=0.0, max=10.0), HTML(value='')))"
            ]
          },
          "metadata": {
            "tags": []
          }
        },
        {
          "output_type": "stream",
          "text": [
            "\n",
            "best validation score:  0.05693819883558815\n"
          ],
          "name": "stdout"
        }
      ]
    },
    {
      "cell_type": "markdown",
      "metadata": {
        "id": "LbBWRIGXGq4R"
      },
      "source": [
        "For getting a sentence embedding, we will use the following library which compacts tokenization of words, downloading pre-trained word embedding from *FastText*, and calculating the mean of the embedding to output a single embedding for the sentence."
      ]
    },
    {
      "cell_type": "code",
      "metadata": {
        "colab": {
          "base_uri": "https://localhost:8080/"
        },
        "id": "d_umkHouzlep",
        "outputId": "587f9482-7e40-4c3d-adf9-134295f1825e"
      },
      "source": [
        "!pip install -q sister"
      ],
      "execution_count": null,
      "outputs": [
        {
          "output_type": "stream",
          "text": [
            "\u001b[K     |████████████████████████████████| 71kB 6.6MB/s \n",
            "\u001b[K     |████████████████████████████████| 19.7MB 32.1MB/s \n",
            "\u001b[?25h  Building wheel for sister (setup.py) ... \u001b[?25l\u001b[?25hdone\n",
            "  Building wheel for fasttext (setup.py) ... \u001b[?25l\u001b[?25hdone\n"
          ],
          "name": "stdout"
        }
      ]
    },
    {
      "cell_type": "code",
      "metadata": {
        "id": "ZN4jc48txYpd"
      },
      "source": [
        "import sister"
      ],
      "execution_count": null,
      "outputs": []
    },
    {
      "cell_type": "code",
      "metadata": {
        "colab": {
          "base_uri": "https://localhost:8080/"
        },
        "id": "qoEqW76yzkst",
        "outputId": "6ad0ea44-4f90-4ba6-c5e1-82df9c05885b"
      },
      "source": [
        "sentence_embedder = sister.MeanEmbedding(lang=\"en\")"
      ],
      "execution_count": null,
      "outputs": [
        {
          "output_type": "stream",
          "text": [
            "Loading model...\n"
          ],
          "name": "stdout"
        },
        {
          "output_type": "stream",
          "text": [
            "Warning : `load_model` does not return WordVectorModel or SupervisedModel any more, but a `FastText` object which is very similar.\n"
          ],
          "name": "stderr"
        }
      ]
    },
    {
      "cell_type": "code",
      "metadata": {
        "colab": {
          "base_uri": "https://localhost:8080/",
          "height": 116,
          "referenced_widgets": [
            "ee0bb353c6a84550961576b93cdae859",
            "cb51acd8f5bb40d0ae4c7eec2c3676b1",
            "223b0df39b284903900cc4254cc72ee1",
            "46f604ddcb0244d49fa8f53f3a7ec79f",
            "4e44057f5a2d485c87bbd091f39a985e",
            "89d342afd868481d82ddb807e70943cf",
            "c6ee2d70d57d44cab41ccd9dd2b8dca9",
            "9ada1b9f4ae94a038d45499b2728773a"
          ]
        },
        "id": "raY76owI61NG",
        "outputId": "9d64d2ea-8199-4d79-d607-5caf6670fa4c"
      },
      "source": [
        "evaluate_features_and_models([sentence_embedder], SGDRegressor(), cat_feature=False, num_feature=False)"
      ],
      "execution_count": null,
      "outputs": [
        {
          "output_type": "stream",
          "text": [
            "43it [00:57,  1.35s/it]\n",
            "4it [00:04,  1.17s/it]\n"
          ],
          "name": "stderr"
        },
        {
          "output_type": "display_data",
          "data": {
            "application/vnd.jupyter.widget-view+json": {
              "model_id": "ee0bb353c6a84550961576b93cdae859",
              "version_minor": 0,
              "version_major": 2
            },
            "text/plain": [
              "HBox(children=(FloatProgress(value=0.0, max=10.0), HTML(value='')))"
            ]
          },
          "metadata": {
            "tags": []
          }
        },
        {
          "output_type": "stream",
          "text": [
            "\n",
            "best validation score:  0.051690840394060134\n"
          ],
          "name": "stdout"
        }
      ]
    },
    {
      "cell_type": "code",
      "metadata": {
        "colab": {
          "base_uri": "https://localhost:8080/",
          "height": 116,
          "referenced_widgets": [
            "6d86c30a9af94e1793ce0be0d1fcfaa5",
            "c3fd4002a45c4c5193c553eddc41a3d0",
            "a3ad659739f44da3a5fdeda9b69cd862",
            "0bc50b98248d47fba9cb6cc48ffd66b1",
            "daaf77ebb184472492a42c50b7f3f913",
            "9340aa6f73f040b5a6daee6ea7b88420",
            "1925c750e7894aa1b0565ae7bac05790",
            "9f89e79baca34fa0a9dff74110ab5313"
          ]
        },
        "id": "ckrC68u7U2E4",
        "outputId": "d2be5667-4139-4e03-d30d-0b8896a234a2"
      },
      "source": [
        "evaluate_features_and_models([count_vectorizer, tfidf_vectorizer, sentence_embedder], SGDRegressor())"
      ],
      "execution_count": null,
      "outputs": [
        {
          "output_type": "stream",
          "text": [
            "43it [06:23,  8.92s/it]\n",
            "4it [00:31,  7.90s/it]\n"
          ],
          "name": "stderr"
        },
        {
          "output_type": "display_data",
          "data": {
            "application/vnd.jupyter.widget-view+json": {
              "model_id": "6d86c30a9af94e1793ce0be0d1fcfaa5",
              "version_minor": 0,
              "version_major": 2
            },
            "text/plain": [
              "HBox(children=(FloatProgress(value=0.0, max=10.0), HTML(value='')))"
            ]
          },
          "metadata": {
            "tags": []
          }
        },
        {
          "output_type": "stream",
          "text": [
            "\n",
            "best validation score:  0.1441238207979939\n"
          ],
          "name": "stdout"
        }
      ]
    },
    {
      "cell_type": "markdown",
      "metadata": {
        "id": "ItQhHOfXNR1V"
      },
      "source": [
        "Combination of the text features with selected parameters along with categorical and numerical features seem to give us the highest score seen so far! The remaining task is to select the best hyperparameters of the model. For this task, we will use *regularization* , *loss*, and *penalty* parameter of the regression model. To get a rough idea of which ranges of hyperparameters values are important, we will use a relatively smaller subset of training dataset that can fit in the memory for faster search. "
      ]
    },
    {
      "cell_type": "code",
      "metadata": {
        "id": "gMajuaPPc89U"
      },
      "source": [
        "small_train_dataset = ddf_dropped[(ddf_dropped['time_created']<=latest_time-2*15*24*60*60)&(ddf_dropped['time_created']>=(latest_time-(2*15*24*60*60+3*30*24*60*60)))]"
      ],
      "execution_count": null,
      "outputs": []
    },
    {
      "cell_type": "code",
      "metadata": {
        "colab": {
          "base_uri": "https://localhost:8080/"
        },
        "id": "XiuwNZ02zr6F",
        "outputId": "25f3a1f9-5503-41a0-fbdf-22f2f68806e8"
      },
      "source": [
        "analyzer = CountVectorizer(ngram_range=(1,3)).build_analyzer()\n",
        "count_vectorizer = CountVectorizer(max_df=0.30, analyzer=lemmatize_words).fit(small_train_dataset.title)\n",
        "analyzer = TfidfVectorizer(ngram_range=(1,3)).build_analyzer()\n",
        "tfidf_vectorizer = TfidfVectorizer(max_features=500, analyzer=lemmatize_words).fit(small_train_dataset.title)\n",
        "sentence_embedder = sister.MeanEmbedding(lang=\"en\")\n",
        "scaler = StandardScaler().fit(small_train_dataset[['text_length', 'unique_words']])\n",
        "categories = [list(range(24)), ['Saturday', 'Sunday', 'Monday', 'Tuesday', 'Wednesday', 'Thursday', 'Friday'], [False, True]]\n",
        "one_hot_encoder = OneHotEncoder(drop='first', sparse=True, categories=categories).fit(small_train_dataset[['hours','weekday','over_18']])"
      ],
      "execution_count": null,
      "outputs": [
        {
          "output_type": "stream",
          "text": [
            "Loading model...\n"
          ],
          "name": "stdout"
        },
        {
          "output_type": "stream",
          "text": [
            "Warning : `load_model` does not return WordVectorModel or SupervisedModel any more, but a `FastText` object which is very similar.\n"
          ],
          "name": "stderr"
        }
      ]
    },
    {
      "cell_type": "code",
      "metadata": {
        "colab": {
          "base_uri": "https://localhost:8080/",
          "height": 65,
          "referenced_widgets": [
            "c92ff147fb2a4a4dba55e61e2807a339",
            "2f3192596d374f4889886ae96cb1ad16",
            "f2e33b07677e49b0913b4936750788ca",
            "8573ebccf3dc4d24822d2245adb4a8f0",
            "2c290ef3737e4c4980dd648fecbeb9a4",
            "980dc2c6bad5473b87c1649b717e4757",
            "c01bf5903c6e43aab93cd92a6ef788e5",
            "9e85f5ecd0004b3a98ab6be99c74a2a4"
          ]
        },
        "id": "OFvlARltOilf",
        "outputId": "b059e4c3-c44b-4f4c-99c2-9a66af5b4318"
      },
      "source": [
        "iterable_dataset_train_small = CustomDataset(small_train_dataset, 'log_ups', [count_vectorizer, tfidf_vectorizer, sentence_embedder], one_hot_encoder, scaler, 1024)\n",
        "full_dataset_train_small = get_full_dataset(iterable_dataset_train_small) # as this is a comparatively small dataset, and so we will load into memory for faster evaluation"
      ],
      "execution_count": null,
      "outputs": [
        {
          "output_type": "display_data",
          "data": {
            "application/vnd.jupyter.widget-view+json": {
              "model_id": "c92ff147fb2a4a4dba55e61e2807a339",
              "version_minor": 0,
              "version_major": 2
            },
            "text/plain": [
              "HBox(children=(FloatProgress(value=0.0, max=21.0), HTML(value='')))"
            ]
          },
          "metadata": {
            "tags": []
          }
        },
        {
          "output_type": "stream",
          "text": [
            "\n"
          ],
          "name": "stdout"
        }
      ]
    },
    {
      "cell_type": "code",
      "metadata": {
        "colab": {
          "base_uri": "https://localhost:8080/",
          "height": 65,
          "referenced_widgets": [
            "43734220d1154d34bfef2ffa6786ba69",
            "73a513b14e124e3bb3a39f5f7f29d1a5",
            "b7e807232eb0495f992dcc0ef0ab2a56",
            "28cdd1ac662447ff80a76b557f5437d4",
            "b4edaeeb21274cd99efba510d465987d",
            "9407b960b54140a9a6120722ac9d627d",
            "10cc01b88636427b902ee35db5962fd3",
            "e24654a692d445a0b798dc63afb8d0f6"
          ]
        },
        "id": "as2vEx7eLfGH",
        "outputId": "4dc6b911-02cb-4dbf-851a-3c2993f7565d"
      },
      "source": [
        "iterable_dataset_val = CustomDataset(val_dataset, 'log_ups', [count_vectorizer, tfidf_vectorizer, sentence_embedder], one_hot_encoder, scaler, 1024)\n",
        "full_dataset_val = get_full_dataset(iterable_dataset_val) "
      ],
      "execution_count": null,
      "outputs": [
        {
          "output_type": "display_data",
          "data": {
            "application/vnd.jupyter.widget-view+json": {
              "model_id": "43734220d1154d34bfef2ffa6786ba69",
              "version_minor": 0,
              "version_major": 2
            },
            "text/plain": [
              "HBox(children=(FloatProgress(value=0.0, max=3.0), HTML(value='')))"
            ]
          },
          "metadata": {
            "tags": []
          }
        },
        {
          "output_type": "stream",
          "text": [
            "\n"
          ],
          "name": "stdout"
        }
      ]
    },
    {
      "cell_type": "code",
      "metadata": {
        "id": "152qktJ4TFhh"
      },
      "source": [
        "!pip install -q hypopt"
      ],
      "execution_count": null,
      "outputs": []
    },
    {
      "cell_type": "code",
      "metadata": {
        "id": "sNY40OsWOhlD"
      },
      "source": [
        "from hypopt import GridSearch\n",
        "param_grid = {'alpha': [1.0, 0.1, 0.01, 0.001, 0.0001], 'loss':['squared_loss','huber'], 'penalty': ['l2', 'l1', 'elasticnet']}\n",
        "# Grid-search all parameter combinations using a validation set.\n",
        "opt = GridSearch(model = SGDRegressor(), param_grid = param_grid)\n",
        "opt.fit(full_dataset_train_small[0], full_dataset_train_small[1], full_dataset_val[0], full_dataset_val[1])\n",
        "opt.score(full_dataset_val[0], full_dataset_val[1])"
      ],
      "execution_count": null,
      "outputs": []
    },
    {
      "cell_type": "code",
      "metadata": {
        "colab": {
          "base_uri": "https://localhost:8080/"
        },
        "id": "fOcx9BvwVWC9",
        "outputId": "755ee304-bdbe-4a04-8d4e-c96336fbf2d7"
      },
      "source": [
        "opt.best_params"
      ],
      "execution_count": null,
      "outputs": [
        {
          "output_type": "execute_result",
          "data": {
            "text/plain": [
              "{'alpha': 0.001, 'loss': 'squared_loss', 'penalty': 'l2'}"
            ]
          },
          "metadata": {
            "tags": []
          },
          "execution_count": 117
        }
      ]
    },
    {
      "cell_type": "markdown",
      "metadata": {
        "id": "MydAgk9JfPww"
      },
      "source": [
        "We are now ready to train on full dataset. This time we will use optimized model parameters with more epochs using most recent 4 years of data. "
      ]
    },
    {
      "cell_type": "code",
      "metadata": {
        "id": "dbGEuW-hKwws"
      },
      "source": [
        "train_dataset = ddf_dropped[(ddf_dropped['time_created']<=latest_time-2*15*24*60*60)&(ddf_dropped['time_created']>=(latest_time-(2*15*24*60*60+4*365*24*60*60)))]"
      ],
      "execution_count": null,
      "outputs": []
    },
    {
      "cell_type": "code",
      "metadata": {
        "colab": {
          "base_uri": "https://localhost:8080/"
        },
        "id": "wjYerP8F5hv2",
        "outputId": "02d063f3-d388-4592-e344-f6cb2e15970e"
      },
      "source": [
        "len(train_dataset)"
      ],
      "execution_count": null,
      "outputs": [
        {
          "output_type": "execute_result",
          "data": {
            "text/plain": [
              "351282"
            ]
          },
          "metadata": {
            "tags": []
          },
          "execution_count": 41
        }
      ]
    },
    {
      "cell_type": "code",
      "metadata": {
        "colab": {
          "base_uri": "https://localhost:8080/"
        },
        "id": "2ENVsESlfquZ",
        "outputId": "513665f5-66a7-49bf-e6d0-3c80d6208470"
      },
      "source": [
        "analyzer = CountVectorizer(ngram_range=(1,3)).build_analyzer()\n",
        "count_vectorizer = CountVectorizer(max_df=0.30, analyzer=lemmatize_words).fit(train_dataset.title)\n",
        "analyzer = TfidfVectorizer(ngram_range=(1,3)).build_analyzer()\n",
        "tfidf_vectorizer = TfidfVectorizer(max_features=500, analyzer=lemmatize_words).fit(train_dataset.title)\n",
        "sentence_embedder = sister.MeanEmbedding(lang=\"en\")\n",
        "scaler = StandardScaler().fit(train_dataset[['text_length', 'unique_words']])\n",
        "categories = [list(range(24)), ['Saturday', 'Sunday', 'Monday', 'Tuesday', 'Wednesday', 'Thursday', 'Friday'], [False, True]]\n",
        "one_hot_encoder = OneHotEncoder(drop='first', sparse=True, categories=categories).fit(train_dataset[['hours','weekday','over_18']])"
      ],
      "execution_count": null,
      "outputs": [
        {
          "output_type": "stream",
          "text": [
            "Loading model...\n"
          ],
          "name": "stdout"
        },
        {
          "output_type": "stream",
          "text": [
            "Warning : `load_model` does not return WordVectorModel or SupervisedModel any more, but a `FastText` object which is very similar.\n"
          ],
          "name": "stderr"
        }
      ]
    },
    {
      "cell_type": "code",
      "metadata": {
        "colab": {
          "base_uri": "https://localhost:8080/"
        },
        "id": "PwuHNWL-FPAJ",
        "outputId": "de0cd97b-c2f7-4d20-9f9e-644942e7ae93"
      },
      "source": [
        "iterable_dataset_train = CustomDataset(train_dataset, 'log_ups', [count_vectorizer, tfidf_vectorizer, sentence_embedder], one_hot_encoder, scaler, 1024)\n",
        "dump_to_disk(iterable_dataset_train, 'train_data') # doing this once will reduce I/O in the training epoch"
      ],
      "execution_count": null,
      "outputs": [
        {
          "output_type": "stream",
          "text": [
            "344it [50:47,  8.86s/it]\n"
          ],
          "name": "stderr"
        }
      ]
    },
    {
      "cell_type": "code",
      "metadata": {
        "colab": {
          "base_uri": "https://localhost:8080/",
          "height": 65,
          "referenced_widgets": [
            "40a7fe36d0194f939400e4d8a504ec77",
            "a40913dfd9804bdb8df02af20e0c5ab4",
            "f18435f858f1490cbd6906a9c7910dee",
            "e17b5536619a4b799d682eb0102ae327",
            "bda47bca854b4096bae41c1eda2e3ee4",
            "3168630c83a74d2db06515a740bd187a",
            "e3c9693b761c49b683a5b596f7c14fb2",
            "ebb708640c9e4b9487450953723527fc"
          ]
        },
        "id": "NdYJs583YpUs",
        "outputId": "b0740d64-5273-46cc-915d-30546fa4427f"
      },
      "source": [
        "iterable_dataset_val = CustomDataset(val_dataset, 'log_ups', [count_vectorizer, tfidf_vectorizer, sentence_embedder], one_hot_encoder, scaler, 1024)\n",
        "full_dataset_val = get_full_dataset(iterable_dataset_val) # as this is a comparatively small dataset, and so we will load into memory for faster evaluation"
      ],
      "execution_count": null,
      "outputs": [
        {
          "output_type": "display_data",
          "data": {
            "application/vnd.jupyter.widget-view+json": {
              "model_id": "40a7fe36d0194f939400e4d8a504ec77",
              "version_minor": 0,
              "version_major": 2
            },
            "text/plain": [
              "HBox(children=(FloatProgress(value=0.0, max=3.0), HTML(value='')))"
            ]
          },
          "metadata": {
            "tags": []
          }
        },
        {
          "output_type": "stream",
          "text": [
            "\n"
          ],
          "name": "stdout"
        }
      ]
    },
    {
      "cell_type": "code",
      "metadata": {
        "colab": {
          "base_uri": "https://localhost:8080/",
          "height": 82,
          "referenced_widgets": [
            "42e5194003354595aea8924de5801667",
            "21e778434154472c8a8c4bc877f0a36c",
            "1d873ccc695747158262a3ebe523fe9e",
            "48b501c89003429587451c8bf29b7d8d",
            "6f4e226cafd045fc8088ba785818dff3",
            "47a355c82a9b4f2f8a3577efe3217f15",
            "695c76a965944335aa312cf54c0555d9",
            "3c1211ac90d943ca9afc91b90ef2bb0a"
          ]
        },
        "id": "ZoXtEdnR3HDT",
        "outputId": "7696f036-4717-4459-cf91-f61171b35c65"
      },
      "source": [
        "model = SGDRegressor(alpha= 0.001, loss= 'squared_loss', penalty= 'l2')\n",
        "train_and_validate('train_data', full_dataset_val, model, max_iter= 100, model_name='final_model', max_tolerance=50)"
      ],
      "execution_count": null,
      "outputs": [
        {
          "output_type": "display_data",
          "data": {
            "application/vnd.jupyter.widget-view+json": {
              "model_id": "42e5194003354595aea8924de5801667",
              "version_minor": 0,
              "version_major": 2
            },
            "text/plain": [
              "HBox(children=(FloatProgress(value=0.0), HTML(value='')))"
            ]
          },
          "metadata": {
            "tags": []
          }
        },
        {
          "output_type": "stream",
          "text": [
            "best validation score:  0.17014403210732543\n"
          ],
          "name": "stdout"
        },
        {
          "output_type": "execute_result",
          "data": {
            "text/plain": [
              "0.17014403210732543"
            ]
          },
          "metadata": {
            "tags": []
          },
          "execution_count": 44
        }
      ]
    },
    {
      "cell_type": "markdown",
      "metadata": {
        "id": "ojziGDrj3OSj"
      },
      "source": [
        "Training on this larger data improved our previous best result! Before deploying, we can change one of the values baesd on our ML knowledge and experiment for potential improvement. Our hyperparameter tuning from small data gave us a rough idea of important ranges of model parameters. We did so because it is less costly than doing tuning for all values on larger data. Now, as the dataset has outliers, *square_loss* with *l2* penalty make sense for this dataset. So the other important parameter is the regularization term *alpha*. Currently, it is giving more penalties to prevent overfitting. But, as we are using an external validation set we can reduce the regularization term and use validation set to early stop for preventing overfitting."
      ]
    },
    {
      "cell_type": "code",
      "metadata": {
        "id": "15R5gqRovUCT"
      },
      "source": [
        "model = SGDRegressor(alpha= 0.0001, loss= 'squared_loss', penalty= 'l2')"
      ],
      "execution_count": null,
      "outputs": []
    },
    {
      "cell_type": "code",
      "metadata": {
        "colab": {
          "base_uri": "https://localhost:8080/",
          "height": 82,
          "referenced_widgets": [
            "798a7006f358451ab384751c604ce989",
            "8fa964def7fb4b838773ac77a0d480c9",
            "aa04b57fb1a147ffbe5d1e89521bb373",
            "6b038ed97bf84b44b9ade837aa8436d1",
            "8269106570044c4a97b51699f02665db",
            "4005299425074e0d8a59fa040a8f78cc",
            "adf580f5bbef41a382624ecf0eb5580f",
            "ede11296fe344c7199d278b39acaba6d"
          ]
        },
        "id": "6pBwGh6NGzzY",
        "outputId": "186f12dc-7e5c-49a6-8ac6-497853b32b9e"
      },
      "source": [
        "train_and_validate('train_data', full_dataset_val, model, max_iter= 100, model_name='final_model', max_tolerance=50)"
      ],
      "execution_count": null,
      "outputs": [
        {
          "output_type": "display_data",
          "data": {
            "application/vnd.jupyter.widget-view+json": {
              "model_id": "798a7006f358451ab384751c604ce989",
              "version_minor": 0,
              "version_major": 2
            },
            "text/plain": [
              "HBox(children=(FloatProgress(value=0.0), HTML(value='')))"
            ]
          },
          "metadata": {
            "tags": []
          }
        },
        {
          "output_type": "stream",
          "text": [
            "best validation score:  0.18321217797569223\n"
          ],
          "name": "stdout"
        },
        {
          "output_type": "execute_result",
          "data": {
            "text/plain": [
              "0.18321217797569223"
            ]
          },
          "metadata": {
            "tags": []
          },
          "execution_count": 46
        }
      ]
    },
    {
      "cell_type": "markdown",
      "metadata": {
        "id": "yGa5EiZofbGE"
      },
      "source": [
        "Our idea works and it improved the performance! We can further partially fit the model with validation data before deploying and doing prediction on test set."
      ]
    },
    {
      "cell_type": "code",
      "metadata": {
        "id": "1DkOeedvweaY"
      },
      "source": [
        "model =  pickle.load(open('final_model', 'rb'))\n",
        "model.partial_fit(full_dataset_val[0], full_dataset_val[1])\n",
        "pickle.dump(model, open('final_model_updated_val', 'wb'))"
      ],
      "execution_count": null,
      "outputs": []
    },
    {
      "cell_type": "markdown",
      "metadata": {
        "id": "VMv9PaUiwQtf"
      },
      "source": [
        "## <a name=\"p5\"></a> Model Deployment and Prediction\n",
        "\n",
        "Now, we can run the final model on the test set, and do prediction."
      ]
    },
    {
      "cell_type": "code",
      "metadata": {
        "colab": {
          "base_uri": "https://localhost:8080/",
          "height": 65,
          "referenced_widgets": [
            "8748ae42f96e4727bb477fd854e5a8ba",
            "219ba2a475e24aba9d0614c6d3c590e4",
            "4b599d5963a240518b42eb24ea16256e",
            "5b3a8c0ed5b8428289629a2ca92bb2df",
            "b6ca2165da56490aab1bb576434a5a8b",
            "ef9bb8f0f0274cb098a0dfbf6825c161",
            "da5722532a1f47959b08d01e619d11ed",
            "865c377f70f1468a9ffa97c0c38a3fd9"
          ]
        },
        "id": "RakwdaoQyAjA",
        "outputId": "60d026e7-e312-4327-b4b8-ef28d67a846e"
      },
      "source": [
        "iterable_dataset_test = CustomDataset(test_dataset, 'log_ups', [count_vectorizer, tfidf_vectorizer, sentence_embedder], one_hot_encoder, scaler, 1024)\n",
        "full_dataset_test = get_full_dataset(iterable_dataset_test) # as this is a comparatively small dataset, and so we will load into memory for faster evaluation"
      ],
      "execution_count": null,
      "outputs": [
        {
          "output_type": "display_data",
          "data": {
            "application/vnd.jupyter.widget-view+json": {
              "model_id": "8748ae42f96e4727bb477fd854e5a8ba",
              "version_minor": 0,
              "version_major": 2
            },
            "text/plain": [
              "HBox(children=(FloatProgress(value=0.0, max=3.0), HTML(value='')))"
            ]
          },
          "metadata": {
            "tags": []
          }
        },
        {
          "output_type": "stream",
          "text": [
            "\n"
          ],
          "name": "stdout"
        }
      ]
    },
    {
      "cell_type": "code",
      "metadata": {
        "colab": {
          "base_uri": "https://localhost:8080/"
        },
        "id": "LGqV7EkFw-cZ",
        "outputId": "049821ca-b80e-4dc9-8961-844b50fda95f"
      },
      "source": [
        "final_model =  pickle.load(open('final_model_updated_val', 'rb'))\n",
        "result = final_model.score(full_dataset_test[0], full_dataset_test[1])\n",
        "print(result)"
      ],
      "execution_count": null,
      "outputs": [
        {
          "output_type": "stream",
          "text": [
            "0.1801163348573026\n"
          ],
          "name": "stdout"
        }
      ]
    },
    {
      "cell_type": "markdown",
      "metadata": {
        "id": "9fzPMyuUgIFL"
      },
      "source": [
        "Our prediction on test set closely resembles scores on validation set! Finally, we can use the predictive model to predict trending posts which can be put on the front page as mentioned in our business use-case. "
      ]
    },
    {
      "cell_type": "code",
      "metadata": {
        "id": "bjqACMk-zU2s"
      },
      "source": [
        "y_pred = final_model.predict(full_dataset_test[0])"
      ],
      "execution_count": null,
      "outputs": []
    },
    {
      "cell_type": "code",
      "metadata": {
        "id": "4jCqvpmN9YyT"
      },
      "source": [
        "indices_pred = np.argsort(y_pred)[::-1][:100]"
      ],
      "execution_count": null,
      "outputs": []
    },
    {
      "cell_type": "code",
      "metadata": {
        "id": "JAseJu5Z9-JD"
      },
      "source": [
        "indices_true = np.argsort(full_dataset_test[1])[::-1][:100]"
      ],
      "execution_count": null,
      "outputs": []
    },
    {
      "cell_type": "code",
      "metadata": {
        "id": "1JA2_mrM_XA0"
      },
      "source": [
        "common = list(set(indices_true).intersection(indices_pred))"
      ],
      "execution_count": null,
      "outputs": []
    },
    {
      "cell_type": "code",
      "metadata": {
        "colab": {
          "base_uri": "https://localhost:8080/"
        },
        "id": "zN58GA3L_mkN",
        "outputId": "2e6b7b23-a3fa-48e1-dff1-bbbda0abcc10"
      },
      "source": [
        "len(common)"
      ],
      "execution_count": null,
      "outputs": [
        {
          "output_type": "execute_result",
          "data": {
            "text/plain": [
              "22"
            ]
          },
          "metadata": {
            "tags": []
          },
          "execution_count": 64
        }
      ]
    },
    {
      "cell_type": "markdown",
      "metadata": {
        "id": "39Jlao7Ng6P1"
      },
      "source": [
        "This shows we have correctly predicted 22 posts that were trending as the top 100 posts in the test set. "
      ]
    },
    {
      "cell_type": "markdown",
      "metadata": {
        "id": "jJJfJxL5kSl-"
      },
      "source": [
        "## <a name=\"p6\"></a> Conclusion\n",
        "\n",
        "\n",
        "In this notebook, we have analyzed the provided data, and formulated a predictive task: predict the up vote counts from the data to anticipate trending posts. This task has a good business objective as putting posts which are predicted to have more up votes on front page can have more clicks/view counts and thus can increase the revenue. The features and the model we developed in this notebook are **18%** more effective than doing a constant prediction with average up vote counts. Moreover, with this model, we can sort out posts based on predicted vote counts and put the top ones to front page to achieve our business objective. Our entire pipeline is scalable and designed for large datasets that does not fit on memory. "
      ]
    }
  ]
}